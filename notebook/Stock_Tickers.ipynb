{
 "cells": [
  {
   "cell_type": "markdown",
   "metadata": {},
   "source": [
    "# Introduction\n",
    "\n",
    "This notebook reads in the CSV with 2123 stocks that Renessaince Technolgies (a hedge fund) held according to their November 2019 F-13 filing. We randomly select 100 stock. For these we convert each CUSIP number to a ticker symbol. For that we look up each CUSIP number on the fedelity website. At the end we check that each ticker symbol exists."
   ]
  },
  {
   "cell_type": "markdown",
   "metadata": {},
   "source": [
    "## Import "
   ]
  },
  {
   "cell_type": "code",
   "execution_count": 120,
   "metadata": {},
   "outputs": [],
   "source": [
    "import pandas as pd\n",
    "import yfinance as yf"
   ]
  },
  {
   "cell_type": "markdown",
   "metadata": {},
   "source": [
    "## Read the data"
   ]
  },
  {
   "cell_type": "code",
   "execution_count": 121,
   "metadata": {},
   "outputs": [
    {
     "name": "stdout",
     "output_type": "stream",
     "text": [
      "01_stats_breast_cancer.ipynb       12_intro_to_recommenders_fm.ipynb\r\n",
      "02_bayes.ipynb                     13_intro_to_ts_arima.ipynb\r\n",
      "03_bayes_IMDB.ipynb                14_intro_to_arch.ipynb\r\n",
      "04_bayes_cancer.ipynb              15_intro_to_hmms.ipynb\r\n",
      "05_intro_to_glms.ipynb             F13_Renaissance_tech.csv\r\n",
      "06_intro_to_logreg.ipynb           F13_Renaissance_tech.txt\r\n",
      "08_intro_to_dts-checkpoint.ipynb   Stock_Tickers.ipynb\r\n",
      "09_intro_to_rfs.ipynb              TimeSeries.pdf\r\n",
      "10_intro_to_gbts.ipynb             stocks.csv\r\n",
      "11_intro_to_knn_kmeans.ipynb\r\n"
     ]
    }
   ],
   "source": [
    "ls"
   ]
  },
  {
   "cell_type": "code",
   "execution_count": 122,
   "metadata": {},
   "outputs": [
    {
     "data": {
      "text/html": [
       "<div>\n",
       "<style scoped>\n",
       "    .dataframe tbody tr th:only-of-type {\n",
       "        vertical-align: middle;\n",
       "    }\n",
       "\n",
       "    .dataframe tbody tr th {\n",
       "        vertical-align: top;\n",
       "    }\n",
       "\n",
       "    .dataframe thead th {\n",
       "        text-align: right;\n",
       "    }\n",
       "</style>\n",
       "<table border=\"1\" class=\"dataframe\">\n",
       "  <thead>\n",
       "    <tr style=\"text-align: right;\">\n",
       "      <th></th>\n",
       "      <th>NAME_OF_ISSUER</th>\n",
       "      <th>CUSIP</th>\n",
       "      <th>VALUE</th>\n",
       "      <th>SHRS_OR_PRN_AMT</th>\n",
       "      <th>SOLE_VOTING_AUTH</th>\n",
       "      <th>NO_VOTING_AUTH</th>\n",
       "      <th>TICKER</th>\n",
       "    </tr>\n",
       "  </thead>\n",
       "  <tbody>\n",
       "    <tr>\n",
       "      <th>0</th>\n",
       "      <td>1347 PPTY INS HLDGS INC</td>\n",
       "      <td>68244P107</td>\n",
       "      <td>443</td>\n",
       "      <td>100562</td>\n",
       "      <td>91267</td>\n",
       "      <td>9295</td>\n",
       "      <td></td>\n",
       "    </tr>\n",
       "    <tr>\n",
       "      <th>1</th>\n",
       "      <td>1ST CONSTITUTION BANCORP</td>\n",
       "      <td>31986N102</td>\n",
       "      <td>2359</td>\n",
       "      <td>125800</td>\n",
       "      <td>119245</td>\n",
       "      <td>6555</td>\n",
       "      <td></td>\n",
       "    </tr>\n",
       "    <tr>\n",
       "      <th>2</th>\n",
       "      <td>1ST SOURCE CORP</td>\n",
       "      <td>336901103</td>\n",
       "      <td>15320</td>\n",
       "      <td>335014</td>\n",
       "      <td>319352</td>\n",
       "      <td>15662</td>\n",
       "      <td></td>\n",
       "    </tr>\n",
       "    <tr>\n",
       "      <th>3</th>\n",
       "      <td>3M CO</td>\n",
       "      <td>88579Y101</td>\n",
       "      <td>17640</td>\n",
       "      <td>107300</td>\n",
       "      <td>61987</td>\n",
       "      <td>45313</td>\n",
       "      <td></td>\n",
       "    </tr>\n",
       "    <tr>\n",
       "      <th>4</th>\n",
       "      <td>A10 NETWORKS INC</td>\n",
       "      <td>002121101</td>\n",
       "      <td>15770</td>\n",
       "      <td>2272400</td>\n",
       "      <td>2226300</td>\n",
       "      <td>46100</td>\n",
       "      <td></td>\n",
       "    </tr>\n",
       "  </tbody>\n",
       "</table>\n",
       "</div>"
      ],
      "text/plain": [
       "             NAME_OF_ISSUER      CUSIP  VALUE  SHRS_OR_PRN_AMT  \\\n",
       "0   1347 PPTY INS HLDGS INC  68244P107    443           100562   \n",
       "1  1ST CONSTITUTION BANCORP  31986N102   2359           125800   \n",
       "2           1ST SOURCE CORP  336901103  15320           335014   \n",
       "3                     3M CO  88579Y101  17640           107300   \n",
       "4          A10 NETWORKS INC  002121101  15770          2272400   \n",
       "\n",
       "   SOLE_VOTING_AUTH  NO_VOTING_AUTH TICKER  \n",
       "0             91267            9295         \n",
       "1            119245            6555         \n",
       "2            319352           15662         \n",
       "3             61987           45313         \n",
       "4           2226300           46100         "
      ]
     },
     "execution_count": 122,
     "metadata": {},
     "output_type": "execute_result"
    }
   ],
   "source": [
    "df = pd.read_csv('F13_Renaissance_tech.csv')\n",
    "del df['Unnamed: 0']\n",
    "del df['index']\n",
    "df['TICKER'] = \"\"\n",
    "df.head()"
   ]
  },
  {
   "cell_type": "code",
   "execution_count": 123,
   "metadata": {},
   "outputs": [
    {
     "data": {
      "text/plain": [
       "(2123, 7)"
      ]
     },
     "execution_count": 123,
     "metadata": {},
     "output_type": "execute_result"
    }
   ],
   "source": [
    "df.shape"
   ]
  },
  {
   "cell_type": "code",
   "execution_count": 124,
   "metadata": {},
   "outputs": [
    {
     "name": "stdout",
     "output_type": "stream",
     "text": [
      "<class 'pandas.core.frame.DataFrame'>\n",
      "RangeIndex: 2123 entries, 0 to 2122\n",
      "Data columns (total 7 columns):\n",
      "NAME_OF_ISSUER      2123 non-null object\n",
      "CUSIP               2123 non-null object\n",
      "VALUE               2123 non-null int64\n",
      "SHRS_OR_PRN_AMT     2123 non-null int64\n",
      "SOLE_VOTING_AUTH    2123 non-null int64\n",
      "NO_VOTING_AUTH      2123 non-null int64\n",
      "TICKER              2123 non-null object\n",
      "dtypes: int64(4), object(3)\n",
      "memory usage: 116.2+ KB\n"
     ]
    }
   ],
   "source": [
    "df.info()"
   ]
  },
  {
   "cell_type": "markdown",
   "metadata": {},
   "source": [
    "## Taking Sample"
   ]
  },
  {
   "cell_type": "code",
   "execution_count": 125,
   "metadata": {},
   "outputs": [
    {
     "name": "stdout",
     "output_type": "stream",
     "text": [
      "[818, 1912, 1503, 808, 1493, 585, 1705, 1775, 1229, 1169, 1273, 744, 1571, 1053, 952, 67, 1921, 1041, 1237, 1437, 289, 564, 1200, 2053, 1319, 1773, 571, 561, 321, 1910, 342, 433, 710, 888, 1847, 809, 1075, 1298, 873, 765, 1431, 111, 1428, 70, 1448, 1433, 1728, 886, 1904, 240, 1903, 892, 1247, 1449, 1975, 905, 1611, 1249, 382, 128, 2031, 422, 184, 620, 29, 298, 1540, 2058, 756, 471, 1852, 1424, 1318, 1888, 584, 1307, 51, 1549, 1882, 788, 1749, 1851, 889, 1427, 900, 410, 869, 1057, 324, 1990, 2015, 307, 1610, 281, 588, 109, 705, 1688, 1456, 581]\n"
     ]
    }
   ],
   "source": [
    "print(df.sample(100, random_state=42).index.to_list())"
   ]
  },
  {
   "cell_type": "code",
   "execution_count": 126,
   "metadata": {},
   "outputs": [],
   "source": [
    "cusip_list = df.sample(100, random_state=42).index.to_list()"
   ]
  },
  {
   "cell_type": "code",
   "execution_count": 127,
   "metadata": {},
   "outputs": [
    {
     "data": {
      "text/plain": [
       "818     359523107\n",
       "1912    893662106\n",
       "1503    715347100\n",
       "808     357023100\n",
       "1493    710577107\n",
       "585     249906108\n",
       "1705    81577F109\n",
       "1775    84763A108\n",
       "1229    55262C100\n",
       "1169    535219109\n",
       "1273    60040X103\n",
       "744     33767D105\n",
       "1571    74640Y106\n",
       "1053    46187W107\n",
       "952     43300A203\n",
       "67      013872106\n",
       "1921    896945201\n",
       "1041    460690100\n",
       "1237    58506Q109\n",
       "1437    68633D103\n",
       "289     05591B109\n",
       "564     12662P108\n",
       "1200    55608B105\n",
       "2053    946760105\n",
       "1319    635017106\n",
       "1773    847215100\n",
       "571     237194105\n",
       "561     232109108\n",
       "321     12008R107\n",
       "1910    893529107\n",
       "342     134429109\n",
       "433     G21082105\n",
       "710     302081104\n",
       "888     393222104\n",
       "1847    871851101\n",
       "809     358010106\n",
       "1075    47580P103\n",
       "1298    55345K103\n",
       "873     384109104\n",
       "765     335834107\n",
       "1431    68571X103\n",
       "111     030506109\n",
       "1428    68404L102\n",
       "70      015351109\n",
       "1448    690732102\n",
       "1433    68621T102\n",
       "1728    825704109\n",
       "886     391416104\n",
       "1904    89214A102\n",
       "240     06424J103\n",
       "1903    89214P109\n",
       "892     399473107\n",
       "1247    589433101\n",
       "1449    693718108\n",
       "1975    91388P105\n",
       "905     410120109\n",
       "1611    75902K106\n",
       "1249    589584101\n",
       "382     124830100\n",
       "128     03272L108\n",
       "2031    928298108\n",
       "422     166764100\n",
       "184     04621X108\n",
       "620     262037104\n",
       "29      00739L101\n",
       "298     101121101\n",
       "1540    74102M103\n",
       "2058    949090104\n",
       "756     32051X108\n",
       "471     192176105\n",
       "1852    87612E106\n",
       "1424    683715106\n",
       "1318    634865109\n",
       "1888    88677Q109\n",
       "584     24983L104\n",
       "1307    553810102\n",
       "51      00847L100\n",
       "1549    743315103\n",
       "1882    882681109\n",
       "788     346232101\n",
       "1749    78440X101\n",
       "1851    G8675X107\n",
       "889     398231100\n",
       "1427    68404V100\n",
       "900     40251W309\n",
       "410     159864107\n",
       "869     38141G104\n",
       "1057    46266C105\n",
       "324     12326C105\n",
       "1990    90337L108\n",
       "2015    92343V104\n",
       "307     10922N103\n",
       "1610    75886F107\n",
       "281     09228F103\n",
       "588     25179M103\n",
       "109     03027X100\n",
       "705     30049A107\n",
       "1688    808541106\n",
       "1456    697435105\n",
       "581     248019101\n",
       "Name: CUSIP, dtype: object"
      ]
     },
     "execution_count": 127,
     "metadata": {},
     "output_type": "execute_result"
    }
   ],
   "source": [
    "pd.set_option(\"display.max_rows\", 200)\n",
    "df.iloc[cusip_list]['CUSIP']"
   ]
  },
  {
   "cell_type": "markdown",
   "metadata": {},
   "source": [
    "## Looking Up Ticker Symbols\n",
    "\n",
    "We look for each sample record we use the CUSIP to retrieve the stock ticker symbol. This is done manually. The values are assigned to each sample record. The following web site is use for the manual lookup\n",
    "\n",
    "https://quotes.fidelity.com/mmnet/SymLookup.phtml?reqforlookup=REQUESTFORLOOKUP&productid=mmnet&isLoggedIn=mmnet&rows=50&for=stock&by=cusip&criteria=40251W309&submit=Search\n",
    "\n",
    "For those we could not find in the ticker symbol, we used the company name and googled the ticker name that way.\n",
    "\n",
    "For all sample stocks we managed to find their ticker symbol."
   ]
  },
  {
   "cell_type": "code",
   "execution_count": 128,
   "metadata": {},
   "outputs": [],
   "source": [
    "# 818     359523107\n",
    "df['TICKER'].iloc[818] = 'FTEK'"
   ]
  },
  {
   "cell_type": "code",
   "execution_count": 129,
   "metadata": {},
   "outputs": [],
   "source": [
    "# 1912    893662106\n",
    "df['TICKER'].iloc[1912] = 'TGA'"
   ]
  },
  {
   "cell_type": "code",
   "execution_count": 130,
   "metadata": {},
   "outputs": [],
   "source": [
    "# 1503    715347100\n",
    "df['TICKER'].iloc[1503] = 'PRSP'"
   ]
  },
  {
   "cell_type": "code",
   "execution_count": 131,
   "metadata": {},
   "outputs": [],
   "source": [
    "# 808     357023100\n",
    "df['TICKER'].iloc[808] = 'RAIL'"
   ]
  },
  {
   "cell_type": "code",
   "execution_count": 132,
   "metadata": {},
   "outputs": [],
   "source": [
    "# 1493    710577107\n",
    "df['TICKER'].iloc[1493] = 'PEBK'"
   ]
  },
  {
   "cell_type": "code",
   "execution_count": 133,
   "metadata": {},
   "outputs": [],
   "source": [
    "# 585     249906108\n",
    "df['TICKER'].iloc[585] = 'DSGX'"
   ]
  },
  {
   "cell_type": "code",
   "execution_count": 134,
   "metadata": {},
   "outputs": [],
   "source": [
    "# 1705    81577F109\n",
    "df['TICKER'].iloc[1705] = 'SEEL'"
   ]
  },
  {
   "cell_type": "code",
   "execution_count": 135,
   "metadata": {},
   "outputs": [],
   "source": [
    "# 1775    84763A108\n",
    "df['TICKER'].iloc[1775] = 'SPPI'"
   ]
  },
  {
   "cell_type": "code",
   "execution_count": 136,
   "metadata": {},
   "outputs": [],
   "source": [
    "# 1229    55262C100\n",
    "df['TICKER'].iloc[1229] = 'MBI'"
   ]
  },
  {
   "cell_type": "code",
   "execution_count": 137,
   "metadata": {},
   "outputs": [],
   "source": [
    "# 1169    535219109\n",
    "df['TICKER'].iloc[1169] = 'LIND'"
   ]
  },
  {
   "cell_type": "code",
   "execution_count": 138,
   "metadata": {},
   "outputs": [],
   "source": [
    "# 1273    60040X103\n",
    "df['TICKER'].iloc[1273] = 'MLND'"
   ]
  },
  {
   "cell_type": "code",
   "execution_count": 139,
   "metadata": {},
   "outputs": [],
   "source": [
    "# 744     33767D105\n",
    "df['TICKER'].iloc[744] = 'FCFS'"
   ]
  },
  {
   "cell_type": "code",
   "execution_count": 140,
   "metadata": {},
   "outputs": [],
   "source": [
    "# 1571    74640Y106\n",
    "df['TICKER'].iloc[1571] = 'PRPL'"
   ]
  },
  {
   "cell_type": "code",
   "execution_count": 141,
   "metadata": {},
   "outputs": [],
   "source": [
    "# 1053    46187W107\n",
    "df['TICKER'].iloc[1053] = 'INVH'"
   ]
  },
  {
   "cell_type": "code",
   "execution_count": 142,
   "metadata": {},
   "outputs": [],
   "source": [
    "# 952     43300A203\n",
    "df['TICKER'].iloc[952] = 'HLT'"
   ]
  },
  {
   "cell_type": "code",
   "execution_count": 143,
   "metadata": {},
   "outputs": [],
   "source": [
    "# 67      013872106\n",
    "df['TICKER'].iloc[67] = 'AA'"
   ]
  },
  {
   "cell_type": "code",
   "execution_count": 144,
   "metadata": {},
   "outputs": [],
   "source": [
    "# 1921    896945201\n",
    "df['TICKER'].iloc[1921] = 'TRIP'"
   ]
  },
  {
   "cell_type": "code",
   "execution_count": 145,
   "metadata": {},
   "outputs": [],
   "source": [
    "# 1041    460690100\n",
    "df['TICKER'].iloc[1041] = 'IPG'"
   ]
  },
  {
   "cell_type": "code",
   "execution_count": 146,
   "metadata": {},
   "outputs": [],
   "source": [
    "# 1237    58506Q109\n",
    "df['TICKER'].iloc[1237] = 'MEDP'"
   ]
  },
  {
   "cell_type": "code",
   "execution_count": 147,
   "metadata": {},
   "outputs": [],
   "source": [
    "# 1437    68633D103\n",
    "df['TICKER'].iloc[1437] = 'ORIT'"
   ]
  },
  {
   "cell_type": "code",
   "execution_count": 148,
   "metadata": {},
   "outputs": [],
   "source": [
    "# 289     05591B109\n",
    "df['TICKER'].iloc[289] = 'BMCH'"
   ]
  },
  {
   "cell_type": "code",
   "execution_count": 149,
   "metadata": {},
   "outputs": [],
   "source": [
    "# 564     12662P108\n",
    "df['TICKER'].iloc[564] = 'CVI'"
   ]
  },
  {
   "cell_type": "code",
   "execution_count": 150,
   "metadata": {},
   "outputs": [],
   "source": [
    "# 1200    55608B105\n",
    "df['TICKER'].iloc[1200] = 'MIC'"
   ]
  },
  {
   "cell_type": "code",
   "execution_count": 151,
   "metadata": {},
   "outputs": [],
   "source": [
    "# 2053    946760105\n",
    "df['TICKER'].iloc[2053] = 'WSTG'"
   ]
  },
  {
   "cell_type": "code",
   "execution_count": 152,
   "metadata": {},
   "outputs": [],
   "source": [
    "# 1319    635017106\n",
    "df['TICKER'].iloc[1319] = 'FIZZ'"
   ]
  },
  {
   "cell_type": "code",
   "execution_count": 153,
   "metadata": {},
   "outputs": [],
   "source": [
    "# 1773    847215100\n",
    "df['TICKER'].iloc[1773] = 'SPTN'"
   ]
  },
  {
   "cell_type": "code",
   "execution_count": 154,
   "metadata": {},
   "outputs": [],
   "source": [
    "# 571     237194105\n",
    "df['TICKER'].iloc[571] = 'DRI'"
   ]
  },
  {
   "cell_type": "code",
   "execution_count": 155,
   "metadata": {},
   "outputs": [],
   "source": [
    "# 561     232109108\n",
    "df['TICKER'].iloc[561] = 'CUTR'"
   ]
  },
  {
   "cell_type": "code",
   "execution_count": 156,
   "metadata": {},
   "outputs": [],
   "source": [
    "# 321     12008R107\n",
    "df['TICKER'].iloc[321] = 'BLDR'"
   ]
  },
  {
   "cell_type": "code",
   "execution_count": 157,
   "metadata": {},
   "outputs": [],
   "source": [
    "# 1910    893529107\n",
    "df['TICKER'].iloc[1910] = 'TRNS'"
   ]
  },
  {
   "cell_type": "code",
   "execution_count": 158,
   "metadata": {},
   "outputs": [],
   "source": [
    "# 342     134429109\n",
    "df['TICKER'].iloc[342] = 'CPB'"
   ]
  },
  {
   "cell_type": "code",
   "execution_count": 159,
   "metadata": {},
   "outputs": [],
   "source": [
    "# 433     G21082105\n",
    "df['TICKER'].iloc[433] = 'CYD'"
   ]
  },
  {
   "cell_type": "code",
   "execution_count": 160,
   "metadata": {},
   "outputs": [],
   "source": [
    "# 710     302081104\n",
    "df['TICKER'].iloc[710] = 'EXLS'"
   ]
  },
  {
   "cell_type": "code",
   "execution_count": 161,
   "metadata": {},
   "outputs": [],
   "source": [
    "# 888     393222104\n",
    "df['TICKER'].iloc[888] = 'GPRE'"
   ]
  },
  {
   "cell_type": "code",
   "execution_count": 162,
   "metadata": {},
   "outputs": [],
   "source": [
    "# 1847    871851101\n",
    "df['TICKER'].iloc[1847] = 'SYX'"
   ]
  },
  {
   "cell_type": "code",
   "execution_count": 163,
   "metadata": {},
   "outputs": [],
   "source": [
    "# 809     358010106\n",
    "df['TICKER'].iloc[809] = 'FEIM'"
   ]
  },
  {
   "cell_type": "code",
   "execution_count": 164,
   "metadata": {},
   "outputs": [],
   "source": [
    "# 1075    47580P103\n",
    "df['TICKER'].iloc[1075] = 'JELD'"
   ]
  },
  {
   "cell_type": "code",
   "execution_count": 165,
   "metadata": {},
   "outputs": [],
   "source": [
    "# 1298    55345K103\n",
    "df['TICKER'].iloc[1298] = 'MRC'"
   ]
  },
  {
   "cell_type": "code",
   "execution_count": 166,
   "metadata": {},
   "outputs": [],
   "source": [
    "# 873     384109104\n",
    "df['TICKER'].iloc[873] = 'GGG'"
   ]
  },
  {
   "cell_type": "code",
   "execution_count": 167,
   "metadata": {},
   "outputs": [],
   "source": [
    "# 765     335834107\n",
    "df['TICKER'].iloc[765] = 'FNWB'"
   ]
  },
  {
   "cell_type": "code",
   "execution_count": 168,
   "metadata": {},
   "outputs": [],
   "source": [
    "# 1431    68571X103\n",
    "df['TICKER'].iloc[1431] = 'ORC'"
   ]
  },
  {
   "cell_type": "code",
   "execution_count": 169,
   "metadata": {},
   "outputs": [],
   "source": [
    "# 111     030506109\n",
    "df['TICKER'].iloc[111] = 'AMWD'"
   ]
  },
  {
   "cell_type": "code",
   "execution_count": 170,
   "metadata": {},
   "outputs": [],
   "source": [
    "# 1428    68404L102\n",
    "df['TICKER'].iloc[1428] = 'OPCH'"
   ]
  },
  {
   "cell_type": "code",
   "execution_count": 171,
   "metadata": {},
   "outputs": [],
   "source": [
    "# 70      015351109\n",
    "df['TICKER'].iloc[70] = 'ALXN'"
   ]
  },
  {
   "cell_type": "code",
   "execution_count": 172,
   "metadata": {},
   "outputs": [],
   "source": [
    "# 1448    690732102\n",
    "df['TICKER'].iloc[1448] = 'OMI'"
   ]
  },
  {
   "cell_type": "code",
   "execution_count": 173,
   "metadata": {},
   "outputs": [],
   "source": [
    "# 1433    68621T102\n",
    "df['TICKER'].iloc[1433] = 'OBNK'"
   ]
  },
  {
   "cell_type": "code",
   "execution_count": 174,
   "metadata": {},
   "outputs": [],
   "source": [
    "# 1728    825704109\n",
    "df['TICKER'].iloc[1728] = 'SIBN'"
   ]
  },
  {
   "cell_type": "code",
   "execution_count": 175,
   "metadata": {},
   "outputs": [],
   "source": [
    "# 886     391416104\n",
    "df['TICKER'].iloc[886] = 'GWB'"
   ]
  },
  {
   "cell_type": "code",
   "execution_count": 176,
   "metadata": {},
   "outputs": [],
   "source": [
    "# 1904    89214A102\n",
    "df['TICKER'].iloc[1904] = 'CLUB'"
   ]
  },
  {
   "cell_type": "code",
   "execution_count": 177,
   "metadata": {},
   "outputs": [],
   "source": [
    "# 240     06424J103\n",
    "df['TICKER'].iloc[240] = 'BOCH'"
   ]
  },
  {
   "cell_type": "code",
   "execution_count": 178,
   "metadata": {},
   "outputs": [],
   "source": [
    "# 1903    89214P109\n",
    "df['TICKER'].iloc[1903] = 'TOWN'"
   ]
  },
  {
   "cell_type": "code",
   "execution_count": 179,
   "metadata": {},
   "outputs": [],
   "source": [
    "# 892     399473107\n",
    "df['TICKER'].iloc[892] = 'GRPN'"
   ]
  },
  {
   "cell_type": "code",
   "execution_count": 180,
   "metadata": {},
   "outputs": [],
   "source": [
    "# 1247    589433101\n",
    "df['TICKER'].iloc[1247] = 'MDP'"
   ]
  },
  {
   "cell_type": "code",
   "execution_count": 181,
   "metadata": {},
   "outputs": [],
   "source": [
    "# 1449    693718108\n",
    "df['TICKER'].iloc[1449] = 'PCAR'"
   ]
  },
  {
   "cell_type": "code",
   "execution_count": 182,
   "metadata": {},
   "outputs": [],
   "source": [
    "# 1975    91388P105\n",
    "df['TICKER'].iloc[1975] = 'ULH'"
   ]
  },
  {
   "cell_type": "code",
   "execution_count": 183,
   "metadata": {},
   "outputs": [],
   "source": [
    "# 905     410120109\n",
    "df['TICKER'].iloc[905] = 'HWC'"
   ]
  },
  {
   "cell_type": "code",
   "execution_count": 184,
   "metadata": {},
   "outputs": [],
   "source": [
    "# 1611    75902K106\n",
    "df['TICKER'].iloc[1611] = 'RM'"
   ]
  },
  {
   "cell_type": "code",
   "execution_count": 185,
   "metadata": {},
   "outputs": [],
   "source": [
    "# 1249    589584101\n",
    "df['TICKER'].iloc[1249] = 'VIVO'"
   ]
  },
  {
   "cell_type": "code",
   "execution_count": 186,
   "metadata": {},
   "outputs": [],
   "source": [
    "# 382     124830100\n",
    "df['TICKER'].iloc[382] = 'CBL'"
   ]
  },
  {
   "cell_type": "code",
   "execution_count": 187,
   "metadata": {},
   "outputs": [],
   "source": [
    "# 128     03272L108\n",
    "df['TICKER'].iloc[128] = 'PLAN'"
   ]
  },
  {
   "cell_type": "code",
   "execution_count": 188,
   "metadata": {},
   "outputs": [],
   "source": [
    "# 2031    928298108\n",
    "df['TICKER'].iloc[2031] = 'VSH'"
   ]
  },
  {
   "cell_type": "code",
   "execution_count": 189,
   "metadata": {},
   "outputs": [],
   "source": [
    "# 422     166764100\n",
    "df['TICKER'].iloc[422] = 'CVX'"
   ]
  },
  {
   "cell_type": "code",
   "execution_count": 190,
   "metadata": {},
   "outputs": [],
   "source": [
    "# 184     04621X108\n",
    "df['TICKER'].iloc[184] = 'AIZ'"
   ]
  },
  {
   "cell_type": "code",
   "execution_count": 191,
   "metadata": {},
   "outputs": [],
   "source": [
    "# 620     262037104\n",
    "df['TICKER'].iloc[620] = 'DRQ'"
   ]
  },
  {
   "cell_type": "code",
   "execution_count": 192,
   "metadata": {},
   "outputs": [],
   "source": [
    "# 29      00739L101\n",
    "df['TICKER'].iloc[29] = 'ADRO'"
   ]
  },
  {
   "cell_type": "code",
   "execution_count": 193,
   "metadata": {},
   "outputs": [],
   "source": [
    "# 298     101121101\n",
    "df['TICKER'].iloc[298] = 'BXP'"
   ]
  },
  {
   "cell_type": "code",
   "execution_count": 194,
   "metadata": {},
   "outputs": [],
   "source": [
    "# 1540    74102M103\n",
    "df['TICKER'].iloc[1540] = 'PSDO'"
   ]
  },
  {
   "cell_type": "code",
   "execution_count": 195,
   "metadata": {},
   "outputs": [],
   "source": [
    "# 2058    949090104\n",
    "df['TICKER'].iloc[2058] = 'WBT'"
   ]
  },
  {
   "cell_type": "code",
   "execution_count": 196,
   "metadata": {},
   "outputs": [],
   "source": [
    "# 756     32051X108\n",
    "df['TICKER'].iloc[756] = 'FHB'"
   ]
  },
  {
   "cell_type": "code",
   "execution_count": 197,
   "metadata": {},
   "outputs": [],
   "source": [
    "# 471     192176105\n",
    "df['TICKER'].iloc[471] = 'JVA'"
   ]
  },
  {
   "cell_type": "code",
   "execution_count": 198,
   "metadata": {},
   "outputs": [],
   "source": [
    "# 1852    87612E106\n",
    "df['TICKER'].iloc[1852] = 'TGT'"
   ]
  },
  {
   "cell_type": "code",
   "execution_count": 199,
   "metadata": {},
   "outputs": [],
   "source": [
    "# 1424    683715106\n",
    "df['TICKER'].iloc[1424] = 'OTEX'"
   ]
  },
  {
   "cell_type": "code",
   "execution_count": 200,
   "metadata": {},
   "outputs": [],
   "source": [
    "# 1318    634865109\n",
    "df['TICKER'].iloc[1318] = 'NKSH'"
   ]
  },
  {
   "cell_type": "code",
   "execution_count": 201,
   "metadata": {},
   "outputs": [],
   "source": [
    "# 1888    88677Q109\n",
    "df['TICKER'].iloc[1888] = 'TTSH'"
   ]
  },
  {
   "cell_type": "code",
   "execution_count": 202,
   "metadata": {},
   "outputs": [],
   "source": [
    "# 584     24983L104\n",
    "df['TICKER'].iloc[584] = 'DERM'"
   ]
  },
  {
   "cell_type": "code",
   "execution_count": 203,
   "metadata": {},
   "outputs": [],
   "source": [
    "# 1307    553810102\n",
    "df['TICKER'].iloc[1307] = 'MVBF'"
   ]
  },
  {
   "cell_type": "code",
   "execution_count": 204,
   "metadata": {},
   "outputs": [],
   "source": [
    "# 51      00847L100\n",
    "df['TICKER'].iloc[51] = 'AGRX'"
   ]
  },
  {
   "cell_type": "code",
   "execution_count": 205,
   "metadata": {},
   "outputs": [],
   "source": [
    "# 1549    743315103\n",
    "df['TICKER'].iloc[1549] = 'PGR'"
   ]
  },
  {
   "cell_type": "code",
   "execution_count": 206,
   "metadata": {},
   "outputs": [],
   "source": [
    "# 1882    882681109\n",
    "df['TICKER'].iloc[1882] = 'TXRH'"
   ]
  },
  {
   "cell_type": "code",
   "execution_count": 207,
   "metadata": {},
   "outputs": [],
   "source": [
    "# 788     346232101\n",
    "df['TICKER'].iloc[788] = 'FOR'"
   ]
  },
  {
   "cell_type": "code",
   "execution_count": 208,
   "metadata": {},
   "outputs": [],
   "source": [
    "# 1749    78440X101\n",
    "df['TICKER'].iloc[1749] = 'SLG'"
   ]
  },
  {
   "cell_type": "code",
   "execution_count": 209,
   "metadata": {},
   "outputs": [],
   "source": [
    "# 1851    G8675X107\n",
    "df['TICKER'].iloc[1851] = 'TANH'"
   ]
  },
  {
   "cell_type": "code",
   "execution_count": 210,
   "metadata": {},
   "outputs": [],
   "source": [
    "# 889     398231100\n",
    "df['TICKER'].iloc[889] = 'GRIF'"
   ]
  },
  {
   "cell_type": "code",
   "execution_count": 211,
   "metadata": {},
   "outputs": [],
   "source": [
    "# 1427    68404V100\n",
    "df['TICKER'].iloc[1427] = 'OPTN'"
   ]
  },
  {
   "cell_type": "code",
   "execution_count": 212,
   "metadata": {},
   "outputs": [],
   "source": [
    "# 900     40251W309\n",
    "df['TICKER'].iloc[900] = 'GURE'"
   ]
  },
  {
   "cell_type": "code",
   "execution_count": 213,
   "metadata": {},
   "outputs": [],
   "source": [
    "# 410     159864107\n",
    "df['TICKER'].iloc[410] = 'CRL'"
   ]
  },
  {
   "cell_type": "code",
   "execution_count": 214,
   "metadata": {},
   "outputs": [],
   "source": [
    "# 869     38141G104\n",
    "df['TICKER'].iloc[869] = 'GS'"
   ]
  },
  {
   "cell_type": "code",
   "execution_count": 215,
   "metadata": {},
   "outputs": [],
   "source": [
    "# 1057    46266C105\n",
    "df['TICKER'].iloc[1057] = 'IQV'"
   ]
  },
  {
   "cell_type": "code",
   "execution_count": 216,
   "metadata": {},
   "outputs": [],
   "source": [
    "# 324     12326C105\n",
    "df['TICKER'].iloc[324] = 'BFST'"
   ]
  },
  {
   "cell_type": "code",
   "execution_count": 217,
   "metadata": {},
   "outputs": [],
   "source": [
    "# 1990    90337L108\n",
    "df['TICKER'].iloc[1990] = 'USPH'"
   ]
  },
  {
   "cell_type": "code",
   "execution_count": 218,
   "metadata": {},
   "outputs": [],
   "source": [
    "# 2015    92343V104\n",
    "df['TICKER'].iloc[2015] = 'VZ'"
   ]
  },
  {
   "cell_type": "code",
   "execution_count": 219,
   "metadata": {},
   "outputs": [],
   "source": [
    "# 307     10922N103\n",
    "df['TICKER'].iloc[307] = 'BHF'"
   ]
  },
  {
   "cell_type": "code",
   "execution_count": 220,
   "metadata": {},
   "outputs": [],
   "source": [
    "# 1610    75886F107\n",
    "df['TICKER'].iloc[1610] = 'REGN'"
   ]
  },
  {
   "cell_type": "code",
   "execution_count": 221,
   "metadata": {},
   "outputs": [],
   "source": [
    "# 281     09228F103\n",
    "df['TICKER'].iloc[281] = 'BB'"
   ]
  },
  {
   "cell_type": "code",
   "execution_count": 222,
   "metadata": {},
   "outputs": [],
   "source": [
    "# 588     25179M103\n",
    "df['TICKER'].iloc[588] = 'DVN'"
   ]
  },
  {
   "cell_type": "code",
   "execution_count": 223,
   "metadata": {},
   "outputs": [],
   "source": [
    "# 109     03027X100\n",
    "df['TICKER'].iloc[109] = 'AMT'"
   ]
  },
  {
   "cell_type": "code",
   "execution_count": 224,
   "metadata": {},
   "outputs": [],
   "source": [
    "# 705     30049A107\n",
    "df['TICKER'].iloc[705] = 'EPM'"
   ]
  },
  {
   "cell_type": "code",
   "execution_count": 225,
   "metadata": {},
   "outputs": [],
   "source": [
    "# 1688    808541106\n",
    "df['TICKER'].iloc[1688] = 'SWM'"
   ]
  },
  {
   "cell_type": "code",
   "execution_count": 226,
   "metadata": {},
   "outputs": [],
   "source": [
    "# 1456    697435105\n",
    "df['TICKER'].iloc[1456] = 'PANW'"
   ]
  },
  {
   "cell_type": "code",
   "execution_count": 227,
   "metadata": {},
   "outputs": [],
   "source": [
    "# 581     248019101\n",
    "df['TICKER'].iloc[581] = 'DLX'"
   ]
  },
  {
   "cell_type": "markdown",
   "metadata": {},
   "source": [
    "## Check Tickers\n",
    "\n",
    "make sure we have one hundred records with a value for stock ticker symbol. Also, check that we can retrieve data from yahoo finance using the ticker symbol. The cells below show we have 100 tickers and that we can retrieve stock data for each of the ticker symbols."
   ]
  },
  {
   "cell_type": "code",
   "execution_count": 228,
   "metadata": {},
   "outputs": [
    {
     "data": {
      "text/plain": [
       "(2123, 7)"
      ]
     },
     "execution_count": 228,
     "metadata": {},
     "output_type": "execute_result"
    }
   ],
   "source": [
    "df.shape"
   ]
  },
  {
   "cell_type": "code",
   "execution_count": 229,
   "metadata": {},
   "outputs": [
    {
     "data": {
      "text/plain": [
       "NAME_OF_ISSUER      2023\n",
       "CUSIP               2023\n",
       "VALUE               2023\n",
       "SHRS_OR_PRN_AMT     2023\n",
       "SOLE_VOTING_AUTH    2023\n",
       "NO_VOTING_AUTH      2023\n",
       "TICKER              2023\n",
       "dtype: int64"
      ]
     },
     "execution_count": 229,
     "metadata": {},
     "output_type": "execute_result"
    }
   ],
   "source": [
    "df.loc[df.TICKER == ''].count()"
   ]
  },
  {
   "cell_type": "code",
   "execution_count": 230,
   "metadata": {},
   "outputs": [
    {
     "name": "stdout",
     "output_type": "stream",
     "text": [
      "Ticker: ADRO found.\n",
      "Ticker: AGRX found.\n",
      "Ticker: AA found.\n",
      "Ticker: ALXN found.\n",
      "Ticker: AMT found.\n",
      "Ticker: AMWD found.\n",
      "Ticker: PLAN found.\n",
      "Ticker: AIZ found.\n",
      "Ticker: BOCH found.\n",
      "Ticker: BB found.\n",
      "Ticker: BMCH found.\n",
      "Ticker: BXP found.\n",
      "Ticker: BHF found.\n",
      "Ticker: BLDR found.\n",
      "Ticker: BFST found.\n",
      "Ticker: CPB found.\n",
      "Ticker: CBL found.\n",
      "Ticker: CRL found.\n",
      "Ticker: CVX found.\n",
      "Ticker: CYD found.\n",
      "Ticker: JVA found.\n",
      "Ticker: CUTR found.\n",
      "Ticker: CVI found.\n",
      "Ticker: DRI found.\n",
      "Ticker: DLX found.\n",
      "Ticker: DERM found.\n",
      "Ticker: DSGX found.\n",
      "Ticker: DVN found.\n",
      "Ticker: DRQ found.\n",
      "Ticker: EPM found.\n",
      "Ticker: EXLS found.\n",
      "Ticker: FCFS found.\n",
      "Ticker: FHB found.\n",
      "Ticker: FNWB found.\n",
      "Ticker: FOR found.\n",
      "Ticker: RAIL found.\n",
      "Ticker: FEIM found.\n",
      "Ticker: FTEK found.\n",
      "Ticker: GS found.\n",
      "Ticker: GGG found.\n",
      "Ticker: GWB found.\n",
      "Ticker: GPRE found.\n",
      "Ticker: GRIF found.\n",
      "Ticker: GRPN found.\n",
      "Ticker: GURE found.\n",
      "Ticker: HWC found.\n",
      "Ticker: HLT found.\n",
      "Ticker: IPG found.\n",
      "Ticker: INVH found.\n",
      "Ticker: IQV found.\n",
      "Ticker: JELD found.\n",
      "Ticker: LIND found.\n",
      "Ticker: MIC found.\n",
      "Ticker: MBI found.\n",
      "Ticker: MEDP found.\n",
      "Ticker: MDP found.\n",
      "Ticker: VIVO found.\n",
      "Ticker: MLND found.\n",
      "Ticker: MRC found.\n",
      "Ticker: MVBF found.\n",
      "Ticker: NKSH found.\n",
      "Ticker: FIZZ found.\n",
      "Ticker: OTEX found.\n",
      "Ticker: OPTN found.\n",
      "Ticker: OPCH found.\n",
      "Ticker: ORC found.\n",
      "Ticker: OBNK found.\n",
      "Ticker: ORIT found.\n",
      "Ticker: OMI found.\n",
      "Ticker: PCAR found.\n",
      "Ticker: PANW found.\n",
      "Ticker: PEBK found.\n",
      "Ticker: PRSP found.\n",
      "Ticker: PSDO found.\n",
      "Ticker: PGR found.\n",
      "Ticker: PRPL found.\n",
      "Ticker: REGN found.\n",
      "Ticker: RM found.\n",
      "Ticker: SWM found.\n",
      "Ticker: SEEL found.\n",
      "Ticker: SIBN found.\n",
      "Ticker: SLG found.\n",
      "Ticker: SPTN found.\n",
      "Ticker: SPPI found.\n",
      "Ticker: SYX found.\n",
      "Ticker: TANH found.\n",
      "Ticker: TGT found.\n",
      "Ticker: TXRH found.\n",
      "Ticker: TTSH found.\n",
      "Ticker: TOWN found.\n",
      "Ticker: CLUB found.\n",
      "Ticker: TRNS found.\n",
      "Ticker: TGA found.\n",
      "Ticker: TRIP found.\n",
      "Ticker: ULH found.\n",
      "Ticker: USPH found.\n",
      "Ticker: VZ found.\n",
      "Ticker: VSH found.\n",
      "Ticker: WSTG found.\n",
      "Ticker: WBT found.\n"
     ]
    }
   ],
   "source": [
    "for ticker in df['TICKER'].loc[df.TICKER != '']:\n",
    "    try:\n",
    "        asset = yf.Ticker(ticker)\n",
    "        hist = asset.history(period=\"24mo\")\n",
    "        print(\"Ticker:\", ticker, \"found.\")\n",
    "    except:\n",
    "        print(\"***Ticker:\", ticker, \"not found!\")"
   ]
  },
  {
   "cell_type": "markdown",
   "metadata": {},
   "source": [
    "## Save File\n",
    "\n",
    "Now that we have validated the ticker symbols, save the file so we can use it as a basis for the simple stock trading system."
   ]
  },
  {
   "cell_type": "code",
   "execution_count": 231,
   "metadata": {},
   "outputs": [
    {
     "name": "stdout",
     "output_type": "stream",
     "text": [
      "01_stats_breast_cancer.ipynb       12_intro_to_recommenders_fm.ipynb\r\n",
      "02_bayes.ipynb                     13_intro_to_ts_arima.ipynb\r\n",
      "03_bayes_IMDB.ipynb                14_intro_to_arch.ipynb\r\n",
      "04_bayes_cancer.ipynb              15_intro_to_hmms.ipynb\r\n",
      "05_intro_to_glms.ipynb             F13_Renaissance_tech.csv\r\n",
      "06_intro_to_logreg.ipynb           F13_Renaissance_tech.txt\r\n",
      "08_intro_to_dts-checkpoint.ipynb   Stock_Tickers.ipynb\r\n",
      "09_intro_to_rfs.ipynb              TimeSeries.pdf\r\n",
      "10_intro_to_gbts.ipynb             stocks.csv\r\n",
      "11_intro_to_knn_kmeans.ipynb\r\n"
     ]
    }
   ],
   "source": [
    "ls"
   ]
  },
  {
   "cell_type": "code",
   "execution_count": 232,
   "metadata": {},
   "outputs": [],
   "source": [
    "df.to_csv('stocks.csv', index=False)"
   ]
  },
  {
   "cell_type": "code",
   "execution_count": 233,
   "metadata": {},
   "outputs": [
    {
     "data": {
      "text/html": [
       "<div>\n",
       "<style scoped>\n",
       "    .dataframe tbody tr th:only-of-type {\n",
       "        vertical-align: middle;\n",
       "    }\n",
       "\n",
       "    .dataframe tbody tr th {\n",
       "        vertical-align: top;\n",
       "    }\n",
       "\n",
       "    .dataframe thead th {\n",
       "        text-align: right;\n",
       "    }\n",
       "</style>\n",
       "<table border=\"1\" class=\"dataframe\">\n",
       "  <thead>\n",
       "    <tr style=\"text-align: right;\">\n",
       "      <th></th>\n",
       "      <th>NAME_OF_ISSUER</th>\n",
       "      <th>CUSIP</th>\n",
       "      <th>VALUE</th>\n",
       "      <th>SHRS_OR_PRN_AMT</th>\n",
       "      <th>SOLE_VOTING_AUTH</th>\n",
       "      <th>NO_VOTING_AUTH</th>\n",
       "      <th>TICKER</th>\n",
       "    </tr>\n",
       "  </thead>\n",
       "  <tbody>\n",
       "    <tr>\n",
       "      <th>0</th>\n",
       "      <td>1347 PPTY INS HLDGS INC</td>\n",
       "      <td>68244P107</td>\n",
       "      <td>443</td>\n",
       "      <td>100562</td>\n",
       "      <td>91267</td>\n",
       "      <td>9295</td>\n",
       "      <td>NaN</td>\n",
       "    </tr>\n",
       "    <tr>\n",
       "      <th>1</th>\n",
       "      <td>1ST CONSTITUTION BANCORP</td>\n",
       "      <td>31986N102</td>\n",
       "      <td>2359</td>\n",
       "      <td>125800</td>\n",
       "      <td>119245</td>\n",
       "      <td>6555</td>\n",
       "      <td>NaN</td>\n",
       "    </tr>\n",
       "    <tr>\n",
       "      <th>2</th>\n",
       "      <td>1ST SOURCE CORP</td>\n",
       "      <td>336901103</td>\n",
       "      <td>15320</td>\n",
       "      <td>335014</td>\n",
       "      <td>319352</td>\n",
       "      <td>15662</td>\n",
       "      <td>NaN</td>\n",
       "    </tr>\n",
       "    <tr>\n",
       "      <th>3</th>\n",
       "      <td>3M CO</td>\n",
       "      <td>88579Y101</td>\n",
       "      <td>17640</td>\n",
       "      <td>107300</td>\n",
       "      <td>61987</td>\n",
       "      <td>45313</td>\n",
       "      <td>NaN</td>\n",
       "    </tr>\n",
       "    <tr>\n",
       "      <th>4</th>\n",
       "      <td>A10 NETWORKS INC</td>\n",
       "      <td>002121101</td>\n",
       "      <td>15770</td>\n",
       "      <td>2272400</td>\n",
       "      <td>2226300</td>\n",
       "      <td>46100</td>\n",
       "      <td>NaN</td>\n",
       "    </tr>\n",
       "    <tr>\n",
       "      <th>...</th>\n",
       "      <td>...</td>\n",
       "      <td>...</td>\n",
       "      <td>...</td>\n",
       "      <td>...</td>\n",
       "      <td>...</td>\n",
       "      <td>...</td>\n",
       "      <td>...</td>\n",
       "    </tr>\n",
       "    <tr>\n",
       "      <th>2118</th>\n",
       "      <td>ZIX CORP</td>\n",
       "      <td>98974P100</td>\n",
       "      <td>25732</td>\n",
       "      <td>3554095</td>\n",
       "      <td>3554095</td>\n",
       "      <td>0</td>\n",
       "      <td>NaN</td>\n",
       "    </tr>\n",
       "    <tr>\n",
       "      <th>2119</th>\n",
       "      <td>ZOMEDICA PHARMACEUTICALS COR</td>\n",
       "      <td>98979F107</td>\n",
       "      <td>13</td>\n",
       "      <td>36220</td>\n",
       "      <td>13281</td>\n",
       "      <td>22939</td>\n",
       "      <td>NaN</td>\n",
       "    </tr>\n",
       "    <tr>\n",
       "      <th>2120</th>\n",
       "      <td>ZOVIO INC</td>\n",
       "      <td>98979V102</td>\n",
       "      <td>3442</td>\n",
       "      <td>1747100</td>\n",
       "      <td>1747100</td>\n",
       "      <td>0</td>\n",
       "      <td>NaN</td>\n",
       "    </tr>\n",
       "    <tr>\n",
       "      <th>2121</th>\n",
       "      <td>ZUMIEZ INC</td>\n",
       "      <td>989817101</td>\n",
       "      <td>1137</td>\n",
       "      <td>35900</td>\n",
       "      <td>100</td>\n",
       "      <td>35800</td>\n",
       "      <td>NaN</td>\n",
       "    </tr>\n",
       "    <tr>\n",
       "      <th>2122</th>\n",
       "      <td>ZYMEWORKS INC</td>\n",
       "      <td>98985W102</td>\n",
       "      <td>9313</td>\n",
       "      <td>375507</td>\n",
       "      <td>375507</td>\n",
       "      <td>0</td>\n",
       "      <td>NaN</td>\n",
       "    </tr>\n",
       "  </tbody>\n",
       "</table>\n",
       "<p>2123 rows × 7 columns</p>\n",
       "</div>"
      ],
      "text/plain": [
       "                    NAME_OF_ISSUER      CUSIP  VALUE  SHRS_OR_PRN_AMT  \\\n",
       "0          1347 PPTY INS HLDGS INC  68244P107    443           100562   \n",
       "1         1ST CONSTITUTION BANCORP  31986N102   2359           125800   \n",
       "2                  1ST SOURCE CORP  336901103  15320           335014   \n",
       "3                            3M CO  88579Y101  17640           107300   \n",
       "4                 A10 NETWORKS INC  002121101  15770          2272400   \n",
       "...                            ...        ...    ...              ...   \n",
       "2118                      ZIX CORP  98974P100  25732          3554095   \n",
       "2119  ZOMEDICA PHARMACEUTICALS COR  98979F107     13            36220   \n",
       "2120                     ZOVIO INC  98979V102   3442          1747100   \n",
       "2121                    ZUMIEZ INC  989817101   1137            35900   \n",
       "2122                 ZYMEWORKS INC  98985W102   9313           375507   \n",
       "\n",
       "      SOLE_VOTING_AUTH  NO_VOTING_AUTH TICKER  \n",
       "0                91267            9295    NaN  \n",
       "1               119245            6555    NaN  \n",
       "2               319352           15662    NaN  \n",
       "3                61987           45313    NaN  \n",
       "4              2226300           46100    NaN  \n",
       "...                ...             ...    ...  \n",
       "2118           3554095               0    NaN  \n",
       "2119             13281           22939    NaN  \n",
       "2120           1747100               0    NaN  \n",
       "2121               100           35800    NaN  \n",
       "2122            375507               0    NaN  \n",
       "\n",
       "[2123 rows x 7 columns]"
      ]
     },
     "execution_count": 233,
     "metadata": {},
     "output_type": "execute_result"
    }
   ],
   "source": [
    "sdf = pd.read_csv('stocks.csv')\n",
    "sdf"
   ]
  },
  {
   "cell_type": "code",
   "execution_count": 234,
   "metadata": {},
   "outputs": [
    {
     "data": {
      "text/plain": [
       "NAME_OF_ISSUER      100\n",
       "CUSIP               100\n",
       "VALUE               100\n",
       "SHRS_OR_PRN_AMT     100\n",
       "SOLE_VOTING_AUTH    100\n",
       "NO_VOTING_AUTH      100\n",
       "TICKER              100\n",
       "dtype: int64"
      ]
     },
     "execution_count": 234,
     "metadata": {},
     "output_type": "execute_result"
    }
   ],
   "source": [
    "sdf.loc[~sdf.TICKER.isna()].count()"
   ]
  },
  {
   "cell_type": "code",
   "execution_count": 235,
   "metadata": {},
   "outputs": [
    {
     "data": {
      "text/plain": [
       "(100, 7)"
      ]
     },
     "execution_count": 235,
     "metadata": {},
     "output_type": "execute_result"
    }
   ],
   "source": [
    "sdf = sdf.loc[sdf.TICKER > ''].reset_index()\n",
    "if 'level_0' in sdf.columns:\n",
    "    del sdf['level_0']\n",
    "if 'index' in sdf.columns:\n",
    "    del sdf['index']\n",
    "sdf.shape"
   ]
  },
  {
   "cell_type": "code",
   "execution_count": 236,
   "metadata": {},
   "outputs": [
    {
     "data": {
      "text/html": [
       "<div>\n",
       "<style scoped>\n",
       "    .dataframe tbody tr th:only-of-type {\n",
       "        vertical-align: middle;\n",
       "    }\n",
       "\n",
       "    .dataframe tbody tr th {\n",
       "        vertical-align: top;\n",
       "    }\n",
       "\n",
       "    .dataframe thead th {\n",
       "        text-align: right;\n",
       "    }\n",
       "</style>\n",
       "<table border=\"1\" class=\"dataframe\">\n",
       "  <thead>\n",
       "    <tr style=\"text-align: right;\">\n",
       "      <th></th>\n",
       "      <th>NAME_OF_ISSUER</th>\n",
       "      <th>CUSIP</th>\n",
       "      <th>VALUE</th>\n",
       "      <th>SHRS_OR_PRN_AMT</th>\n",
       "      <th>SOLE_VOTING_AUTH</th>\n",
       "      <th>NO_VOTING_AUTH</th>\n",
       "      <th>TICKER</th>\n",
       "    </tr>\n",
       "  </thead>\n",
       "  <tbody>\n",
       "    <tr>\n",
       "      <th>0</th>\n",
       "      <td>ADURO BIOTECH INC</td>\n",
       "      <td>00739L101</td>\n",
       "      <td>2902</td>\n",
       "      <td>2738200</td>\n",
       "      <td>2590838</td>\n",
       "      <td>147362</td>\n",
       "      <td>ADRO</td>\n",
       "    </tr>\n",
       "    <tr>\n",
       "      <th>1</th>\n",
       "      <td>AGILE THERAPEUTICS INC</td>\n",
       "      <td>00847L100</td>\n",
       "      <td>2876</td>\n",
       "      <td>2427100</td>\n",
       "      <td>2427100</td>\n",
       "      <td>0</td>\n",
       "      <td>AGRX</td>\n",
       "    </tr>\n",
       "    <tr>\n",
       "      <th>2</th>\n",
       "      <td>ALCOA CORP</td>\n",
       "      <td>013872106</td>\n",
       "      <td>130047</td>\n",
       "      <td>6479662</td>\n",
       "      <td>5941743</td>\n",
       "      <td>537919</td>\n",
       "      <td>AA</td>\n",
       "    </tr>\n",
       "    <tr>\n",
       "      <th>3</th>\n",
       "      <td>ALEXION PHARMACEUTICALS INC</td>\n",
       "      <td>015351109</td>\n",
       "      <td>279096</td>\n",
       "      <td>2849667</td>\n",
       "      <td>2849667</td>\n",
       "      <td>0</td>\n",
       "      <td>ALXN</td>\n",
       "    </tr>\n",
       "    <tr>\n",
       "      <th>4</th>\n",
       "      <td>AMERICAN TOWER CORP NEW</td>\n",
       "      <td>03027X100</td>\n",
       "      <td>336963</td>\n",
       "      <td>1523824</td>\n",
       "      <td>1523824</td>\n",
       "      <td>0</td>\n",
       "      <td>AMT</td>\n",
       "    </tr>\n",
       "  </tbody>\n",
       "</table>\n",
       "</div>"
      ],
      "text/plain": [
       "                NAME_OF_ISSUER      CUSIP   VALUE  SHRS_OR_PRN_AMT  \\\n",
       "0            ADURO BIOTECH INC  00739L101    2902          2738200   \n",
       "1       AGILE THERAPEUTICS INC  00847L100    2876          2427100   \n",
       "2                   ALCOA CORP  013872106  130047          6479662   \n",
       "3  ALEXION PHARMACEUTICALS INC  015351109  279096          2849667   \n",
       "4      AMERICAN TOWER CORP NEW  03027X100  336963          1523824   \n",
       "\n",
       "   SOLE_VOTING_AUTH  NO_VOTING_AUTH TICKER  \n",
       "0           2590838          147362   ADRO  \n",
       "1           2427100               0   AGRX  \n",
       "2           5941743          537919     AA  \n",
       "3           2849667               0   ALXN  \n",
       "4           1523824               0    AMT  "
      ]
     },
     "execution_count": 236,
     "metadata": {},
     "output_type": "execute_result"
    }
   ],
   "source": [
    "sdf.head()"
   ]
  },
  {
   "cell_type": "code",
   "execution_count": 237,
   "metadata": {},
   "outputs": [
    {
     "name": "stdout",
     "output_type": "stream",
     "text": [
      "ADRO shortName= Aduro Biotech, Inc. sdf.NAME_OF_ISSUER= ADURO BIOTECH INC\n",
      "AGRX shortName= Agile Therapeutics, Inc. sdf.NAME_OF_ISSUER= AGILE THERAPEUTICS INC\n",
      "AA shortName= Alcoa Corporation sdf.NAME_OF_ISSUER= ALCOA CORP\n",
      "ALXN shortName= Alexion Pharmaceuticals, Inc. sdf.NAME_OF_ISSUER= ALEXION PHARMACEUTICALS INC\n",
      "AMT shortName= American Tower Corporation (REI sdf.NAME_OF_ISSUER= AMERICAN TOWER CORP NEW\n",
      "AMWD shortName= American Woodmark Corporation sdf.NAME_OF_ISSUER= AMERICAN WOODMARK CORPORATIO\n",
      "PLAN shortName= Anaplan, Inc. sdf.NAME_OF_ISSUER= ANAPLAN INC\n",
      "AIZ shortName= Assurant, Inc. sdf.NAME_OF_ISSUER= ASSURANT INC\n",
      "BOCH shortName= Bank of Commerce Holdings (CA) sdf.NAME_OF_ISSUER= BANK COMM HLDGS\n",
      "BB shortName= BlackBerry Limited sdf.NAME_OF_ISSUER= BLACKBERRY LTD\n",
      "BMCH shortName= BMC Stock Holdings, Inc. sdf.NAME_OF_ISSUER= BMC STK HLDGS INC\n",
      "BXP shortName= Boston Properties, Inc. sdf.NAME_OF_ISSUER= BOSTON PROPERTIES INC\n",
      "BHF shortName= Brighthouse Financial, Inc. sdf.NAME_OF_ISSUER= BRIGHTHOUSE FINL INC\n",
      "BLDR shortName= Builders FirstSource, Inc. sdf.NAME_OF_ISSUER= BUILDERS FIRSTSOURCE INC\n",
      "BFST shortName= Business First Bancshares, Inc. sdf.NAME_OF_ISSUER= BUSINESS FIRST BANCSHARES IN\n",
      "CPB shortName= Campbell Soup Company sdf.NAME_OF_ISSUER= CAMPBELL SOUP CO\n",
      "CBL shortName= CBL & Associates Properties, In sdf.NAME_OF_ISSUER= CBL & ASSOC PPTYS INC\n",
      "CRL shortName= Charles River Laboratories Inte sdf.NAME_OF_ISSUER= CHARLES RIV LABS INTL INC\n",
      "***Short name not found for ticker: CVX not found!\n",
      "CYD shortName= China Yuchai International Limi sdf.NAME_OF_ISSUER= CHINA YUCHAI INTL LTD\n",
      "JVA shortName= Coffee Holding Co., Inc. sdf.NAME_OF_ISSUER= COFFEE HLDG CO INC\n",
      "***Short name not found for ticker: CUTR not found!\n",
      "CVI shortName= CVR Energy Inc. sdf.NAME_OF_ISSUER= CVR ENERGY INC\n",
      "DRI shortName= Darden Restaurants, Inc. sdf.NAME_OF_ISSUER= DARDEN RESTAURANTS INC\n",
      "DLX shortName= Deluxe Corporation sdf.NAME_OF_ISSUER= DELUXE CORP\n",
      "DERM shortName= Dermira, Inc. sdf.NAME_OF_ISSUER= DERMIRA INC\n",
      "DSGX shortName= The Descartes Systems Group Inc sdf.NAME_OF_ISSUER= DESCARTES SYS GROUP INC\n",
      "***Short name not found for ticker: DVN not found!\n",
      "DRQ shortName= Dril-Quip, Inc. sdf.NAME_OF_ISSUER= DRIL QUIP INC\n",
      "EPM shortName= Evolution Petroleum Corporation sdf.NAME_OF_ISSUER= EVOLUTION PETROLEUM CORP\n",
      "EXLS shortName= ExlService Holdings, Inc. sdf.NAME_OF_ISSUER= EXLSERVICE HOLDINGS INC\n",
      "***Short name not found for ticker: FCFS not found!\n",
      "FHB shortName= First Hawaiian, Inc. sdf.NAME_OF_ISSUER= FIRST HAWAIIAN INC\n",
      "FNWB shortName= First Northwest Bancorp sdf.NAME_OF_ISSUER= FIRST NORTHWEST BANCORP\n",
      "FOR shortName= Forestar Group Inc sdf.NAME_OF_ISSUER= FORESTAR GROUP INC\n",
      "RAIL shortName= Freightcar America, Inc. sdf.NAME_OF_ISSUER= FREIGHTCAR AMER INC\n",
      "FEIM shortName= Frequency Electronics, Inc. sdf.NAME_OF_ISSUER= FREQUENCY ELECTRS INC\n",
      "FTEK shortName= Fuel Tech, Inc. sdf.NAME_OF_ISSUER= FUEL TECH INC\n",
      "GS shortName= Goldman Sachs Group, Inc. (The) sdf.NAME_OF_ISSUER= GOLDMAN SACHS GROUP INC\n",
      "GGG shortName= Graco Inc. sdf.NAME_OF_ISSUER= GRACO INC\n",
      "GWB shortName= Great Western Bancorp, Inc. sdf.NAME_OF_ISSUER= GREAT WESTN BANCORP INC\n",
      "GPRE shortName= Green Plains, Inc. sdf.NAME_OF_ISSUER= GREEN PLAINS INC\n",
      "GRIF shortName= Griffin Industrial Realty, Inc. sdf.NAME_OF_ISSUER= GRIFFIN INL RLTY INC\n",
      "GRPN shortName= Groupon, Inc. sdf.NAME_OF_ISSUER= GROUPON INC\n",
      "***Short name not found for ticker: GURE not found!\n",
      "HWC shortName= Hancock Whitney Corporation sdf.NAME_OF_ISSUER= HANCOCK WHITNEY CORPORATION\n",
      "***Short name not found for ticker: HLT not found!\n",
      "IPG shortName= Interpublic Group of Companies, sdf.NAME_OF_ISSUER= INTERPUBLIC GROUP COS INC\n",
      "INVH shortName= Invitation Homes Inc. sdf.NAME_OF_ISSUER= INVITATION HOMES INC\n",
      "IQV shortName= IQVIA Holdings, Inc. sdf.NAME_OF_ISSUER= IQVIA HLDGS INC\n",
      "JELD shortName= JELD-WEN Holding, Inc. sdf.NAME_OF_ISSUER= JELD-WEN HLDG INC\n",
      "LIND shortName= Lindblad Expeditions Holdings I sdf.NAME_OF_ISSUER= LINDBLAD EXPEDITIONS HLDGS I\n",
      "MIC shortName= Macquarie Infrastructure Corpor sdf.NAME_OF_ISSUER= MACQUARIE INFRASTRUCTURE COR\n",
      "MBI shortName= MBIA Inc. sdf.NAME_OF_ISSUER= MBIA INC\n",
      "MEDP shortName= Medpace Holdings, Inc. sdf.NAME_OF_ISSUER= MEDPACE HLDGS INC\n",
      "MDP shortName= Meredith Corporation sdf.NAME_OF_ISSUER= MEREDITH CORP\n",
      "VIVO shortName= Meridian Bioscience Inc. sdf.NAME_OF_ISSUER= MERIDIAN BIOSCIENCE INC\n",
      "MLND shortName= Millendo Therapeutics, Inc. sdf.NAME_OF_ISSUER= MILLENDO THERAPEUTICS INC\n",
      "MRC shortName= MRC Global Inc. sdf.NAME_OF_ISSUER= MRC GLOBAL INC\n",
      "MVBF shortName= MVB Financial Corp. sdf.NAME_OF_ISSUER= MVB FINANCIAL CORP\n",
      "NKSH shortName= National Bankshares, Inc. sdf.NAME_OF_ISSUER= NATIONAL BANKSHARES INC VA\n",
      "FIZZ shortName= National Beverage Corp. sdf.NAME_OF_ISSUER= NATIONAL BEVERAGE CORP\n",
      "OTEX shortName= Open Text Corporation sdf.NAME_OF_ISSUER= OPEN TEXT CORP\n",
      "OPTN shortName= OptiNose, Inc. sdf.NAME_OF_ISSUER= OPTINOSE INC\n",
      "***Short name not found for ticker: OPCH not found!\n",
      "ORC shortName= Orchid Island Capital, Inc. sdf.NAME_OF_ISSUER= ORCHID IS CAP INC\n",
      "OBNK shortName= Origin Bancorp, Inc. sdf.NAME_OF_ISSUER= ORIGIN BANCORP INC\n",
      "ORIT shortName= Oritani Financial Corp. sdf.NAME_OF_ISSUER= ORITANI FINL CORP DEL\n",
      "***Short name not found for ticker: OMI not found!\n",
      "PCAR shortName= PACCAR Inc. sdf.NAME_OF_ISSUER= PACCAR INC\n",
      "PANW shortName= Palo Alto Networks, Inc. sdf.NAME_OF_ISSUER= PALO ALTO NETWORKS INC\n",
      "***Short name not found for ticker: PEBK not found!\n",
      "PRSP shortName= Perspecta Inc. sdf.NAME_OF_ISSUER= PERSPECTA INC\n",
      "PSDO shortName= Presidio, Inc. sdf.NAME_OF_ISSUER= PRESIDIO INC\n",
      "PGR shortName= Progressive Corporation (The) sdf.NAME_OF_ISSUER= PROGRESSIVE CORP OHIO\n",
      "PRPL shortName= Purple Innovation, Inc. sdf.NAME_OF_ISSUER= PURPLE INNOVATION INC\n",
      "REGN shortName= Regeneron Pharmaceuticals, Inc. sdf.NAME_OF_ISSUER= REGENERON PHARMACEUTICALS\n",
      "RM shortName= Regional Management Corp. sdf.NAME_OF_ISSUER= REGIONAL MGMT CORP\n",
      "SWM shortName= Schweitzer-Mauduit Internationa sdf.NAME_OF_ISSUER= SCHWEITZER-MAUDUIT INTL INC\n",
      "SEEL shortName= Seelos Therapeutics, Inc. sdf.NAME_OF_ISSUER= SEELOS THERAPEUTICS INC\n",
      "SIBN shortName= SI-BONE, Inc. sdf.NAME_OF_ISSUER= SI BONE INC\n",
      "SLG shortName= SL Green Realty Corp sdf.NAME_OF_ISSUER= SL GREEN RLTY CORP\n",
      "***Short name not found for ticker: SPTN not found!\n",
      "***Short name not found for ticker: SPPI not found!\n",
      "***Short name not found for ticker: SYX not found!\n",
      "TANH shortName= Tantech Holdings Ltd. sdf.NAME_OF_ISSUER= TANTECH HLDGS LTD\n",
      "***Short name not found for ticker: TGT not found!\n",
      "TXRH shortName= Texas Roadhouse, Inc. sdf.NAME_OF_ISSUER= TEXAS ROADHOUSE INC\n",
      "TTSH shortName= TILE SHOP HLDGS INC sdf.NAME_OF_ISSUER= TILE SHOP HLDGS INC\n",
      "TOWN shortName= Towne Bank sdf.NAME_OF_ISSUER= TOWNEBANK PORTSMOUTH VA\n",
      "CLUB shortName= Town Sports International Holdi sdf.NAME_OF_ISSUER= TOWN SPORTS INTL HLDGS INC\n",
      "TRNS shortName= Transcat, Inc. sdf.NAME_OF_ISSUER= TRANSCAT INC\n",
      "***Short name not found for ticker: TGA not found!\n",
      "TRIP shortName= TripAdvisor, Inc. sdf.NAME_OF_ISSUER= TRIPADVISOR INC\n",
      "ULH shortName= Universal Logistics Holdings, I sdf.NAME_OF_ISSUER= UNIVERSAL LOGISTICS HLDGS IN\n",
      "USPH shortName= U.S. Physical Therapy, Inc. sdf.NAME_OF_ISSUER= U S PHYSICAL THERAPY INC\n",
      "***Short name not found for ticker: VZ not found!\n",
      "VSH shortName= Vishay Intertechnology, Inc. sdf.NAME_OF_ISSUER= VISHAY INTERTECHNOLOGY INC\n",
      "***Short name not found for ticker: WSTG not found!\n",
      "***Short name not found for ticker: WBT not found!\n"
     ]
    }
   ],
   "source": [
    "for i, ticker in enumerate(sdf['TICKER']):\n",
    "    try:\n",
    "        asset = yf.Ticker(ticker)\n",
    "        shortName = asset.info['shortName']\n",
    "        hist = asset.history(period=\"3mo\")\n",
    "        print(ticker, \"shortName=\", shortName, \n",
    "              \"sdf.NAME_OF_ISSUER=\", sdf.NAME_OF_ISSUER.iloc[i])\n",
    "    except:\n",
    "        print(\"***Short name not found for ticker:\", ticker, \"not found!\")"
   ]
  },
  {
   "cell_type": "code",
   "execution_count": 238,
   "metadata": {},
   "outputs": [
    {
     "name": "stdout",
     "output_type": "stream",
     "text": [
      "\tticker= CVX \tsdf.NAME_OF_ISSUER= 18    CHEVRON CORP NEW\n",
      "Name: NAME_OF_ISSUER, dtype: object\n",
      "\tticker= CUTR \tsdf.NAME_OF_ISSUER= 21    CUTERA INC\n",
      "Name: NAME_OF_ISSUER, dtype: object\n",
      "\tticker= DVN \tsdf.NAME_OF_ISSUER= 27    DEVON ENERGY CORP NEW\n",
      "Name: NAME_OF_ISSUER, dtype: object\n",
      "\tticker= FCFS \tsdf.NAME_OF_ISSUER= 31    FIRSTCASH INC\n",
      "Name: NAME_OF_ISSUER, dtype: object\n",
      "\tticker= GURE \tsdf.NAME_OF_ISSUER= 44    GULF RESOURCES INC\n",
      "Name: NAME_OF_ISSUER, dtype: object\n",
      "\tticker= HLT \tsdf.NAME_OF_ISSUER= 46    HILTON WORLDWIDE HLDGS INC\n",
      "Name: NAME_OF_ISSUER, dtype: object\n",
      "\tticker= OPCH \tsdf.NAME_OF_ISSUER= 64    OPTION CARE HEALTH INC\n",
      "Name: NAME_OF_ISSUER, dtype: object\n",
      "\tticker= OMI \tsdf.NAME_OF_ISSUER= 68    OWENS & MINOR INC NEW\n",
      "Name: NAME_OF_ISSUER, dtype: object\n",
      "\tticker= PEBK \tsdf.NAME_OF_ISSUER= 71    PEOPLES BANCORP N C INC\n",
      "Name: NAME_OF_ISSUER, dtype: object\n",
      "\tticker= SPTN \tsdf.NAME_OF_ISSUER= 82    SPARTANNASH CO\n",
      "Name: NAME_OF_ISSUER, dtype: object\n",
      "\tticker= SPPI \tsdf.NAME_OF_ISSUER= 83    SPECTRUM PHARMACEUTICALS INC\n",
      "Name: NAME_OF_ISSUER, dtype: object\n",
      "\tticker= SYX \tsdf.NAME_OF_ISSUER= 84    SYSTEMAX INC\n",
      "Name: NAME_OF_ISSUER, dtype: object\n",
      "\tticker= TGT \tsdf.NAME_OF_ISSUER= 86    TARGET CORP\n",
      "Name: NAME_OF_ISSUER, dtype: object\n",
      "\tticker= TGA \tsdf.NAME_OF_ISSUER= 92    TRANSGLOBE ENERGY CORP\n",
      "Name: NAME_OF_ISSUER, dtype: object\n",
      "\tticker= VZ \tsdf.NAME_OF_ISSUER= 96    VERIZON COMMUNICATIONS INC\n",
      "Name: NAME_OF_ISSUER, dtype: object\n",
      "\tticker= WSTG \tsdf.NAME_OF_ISSUER= 98    WAYSIDE TECHNOLOGY GROUP INC\n",
      "Name: NAME_OF_ISSUER, dtype: object\n",
      "\tticker= WBT \tsdf.NAME_OF_ISSUER= 99    WELBILT INC\n",
      "Name: NAME_OF_ISSUER, dtype: object\n"
     ]
    }
   ],
   "source": [
    "snm_list = ['CVX', 'CUTR', 'DVN', 'FCFS', 'GURE',\n",
    "            'HLT', 'OPCH', 'OMI', 'PEBK', 'SPTN',\n",
    "            'SPPI', 'SYX', 'TGT', 'TGA', 'VZ',\n",
    "            'WSTG', 'WBT']\n",
    "\n",
    "for ticker in snm_list:\n",
    "    try:\n",
    "        idx = sdf[sdf['TICKER'] == ticker].index\n",
    "        asset = yf.Ticker(ticker)\n",
    "        hist = asset.history(period=\"3mo\")\n",
    "        print(\"\\tticker=\", ticker, \"\\tsdf.NAME_OF_ISSUER=\", sdf.NAME_OF_ISSUER.loc[idx])\n",
    "    except:\n",
    "        print(\"***Short name not found for ticker:\", ticker, \"not found!\")"
   ]
  },
  {
   "cell_type": "code",
   "execution_count": null,
   "metadata": {},
   "outputs": [],
   "source": []
  }
 ],
 "metadata": {
  "kernelspec": {
   "display_name": "Python 3.7.5 64-bit",
   "language": "python",
   "name": "python37564bitc863879a9bcf4cbbb005b8aba98e3c9e"
  },
  "language_info": {
   "codemirror_mode": {
    "name": "ipython",
    "version": 3
   },
   "file_extension": ".py",
   "mimetype": "text/x-python",
   "name": "python",
   "nbconvert_exporter": "python",
   "pygments_lexer": "ipython3",
   "version": "3.7.5"
  }
 },
 "nbformat": 4,
 "nbformat_minor": 2
}
