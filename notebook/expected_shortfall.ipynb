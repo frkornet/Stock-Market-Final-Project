{
 "cells": [
  {
   "cell_type": "markdown",
   "metadata": {},
   "source": [
    "### Expected Shortfall or Conditional VAR ###"
   ]
  },
  {
   "cell_type": "markdown",
   "metadata": {},
   "source": [
    "Source: Gary Ang Ming \n",
    "\n",
    "URL: https://github.com/playgrdstar/expected_shortfall/blob/master/Expected%20Shortfall.ipynb"
   ]
  },
  {
   "cell_type": "markdown",
   "metadata": {},
   "source": [
    "What is the difference between the two?\n",
    "> Say we are trying to assess our VAR (or to put it simply, potential losses) at a confidence level of 99%, we will have a range of loss outcomes (or scenarios) in the 1% tail, and - \n",
    "* VAR answers this question - What is the minimum loss over the whole range of outcomes in the 1% tail?\n",
    "* ES answers this question - What is the average loss over the whole range of outcomes in the 1% tail?"
   ]
  },
  {
   "cell_type": "markdown",
   "metadata": {},
   "source": [
    "** VAR **"
   ]
  },
  {
   "cell_type": "markdown",
   "metadata": {},
   "source": [
    "If $X$ are the $h$ day returns, then $VaR_{h,\\alpha} = -x_{h, \\alpha}$ where $P(X < -x_{h, \\alpha}) = \\alpha$. For example, for h = 10 day returns, $\\alpha = 0.01$, we can compute the 99% VaR from a normal distribution as follows -"
   ]
  },
  {
   "cell_type": "code",
   "execution_count": 1,
   "metadata": {
    "collapsed": true
   },
   "outputs": [],
   "source": [
    "import warnings\n",
    "warnings.filterwarnings('ignore')"
   ]
  },
  {
   "cell_type": "code",
   "execution_count": 2,
   "metadata": {},
   "outputs": [
    {
     "name": "stdout",
     "output_type": "stream",
     "text": [
      "99% VaR is 3.9\n"
     ]
    }
   ],
   "source": [
    "import numpy as np\n",
    "import math\n",
    "from scipy.stats import skew, kurtosis, kurtosistest\n",
    "import matplotlib.pyplot as plt\n",
    "from scipy.stats import norm, t\n",
    "\n",
    "h = 10. # horizon of 10 days\n",
    "mu_h = 0.1 # this is the mean of % returns over 10 days - 10%\n",
    "sig = 0.3 # this is the vol of returns over a year - 30%\n",
    "sig_h = 0.3 * np.sqrt(h/252) # this is the vol over the horizon\n",
    "alpha = 0.01\n",
    "# ppf is the percent point function, inverse of CDF\n",
    "# here we have a mean=0, sd=1 distribution \n",
    "# as we have not specified the shape in ppf\n",
    "# So you can think of this as upscaling by sig_h and shifting mean by mu_h \n",
    "VaR_n = norm.ppf(1-alpha)*sig_h - mu_h \n",
    "\n",
    "print(\"99% VaR is\", round(VaR_n*100,2))"
   ]
  },
  {
   "cell_type": "markdown",
   "metadata": {},
   "source": [
    "The above is parametric VaR, which means that we assume a certain distribution of returns. Most entities, where VAR is used, would typically use empirical VaR, which does not assume any distributional shape. In those cases, getting the VaR is a simple matter of getting the neccesary percentile."
   ]
  },
  {
   "cell_type": "markdown",
   "metadata": {},
   "source": [
    "** CONDITIONAL VAR/EXPECTED SHORTFALL **"
   ]
  },
  {
   "cell_type": "markdown",
   "metadata": {},
   "source": [
    "With VaR in mind, we can define the Conditional VAR, or CVaR or Expected Shortfall by - <br><br>\n",
    "$$CVaR_{h, \\alpha}(X) = -E(X|X < x_{h, \\alpha}) = - \\alpha^{-1}\\int^{x_{h, \\alpha}}_{-\\infty}xf(x)dx$$ <br>\n",
    "Intepretation of this is simple. Basically, it's the expected (mean) value of X, given that X is more than x at a specified alpha. "
   ]
  },
  {
   "cell_type": "markdown",
   "metadata": {},
   "source": [
    "If we assume a normal distribution again, we can apply the following formula <br>\n",
    "\n",
    "$$ CVaR_{h, \\alpha}(X) = - \\alpha^{-1}\\mathcal{N}(\\Phi^{-1}(\\alpha))\\sigma_h-\\mu_h$$ <br>\n",
    "where $\\mathcal{N}(z)$ is the normal distribution, and $\\Phi^{-1}(\\alpha)$ is the $\\alpha$ quantile of the standard normal distribution."
   ]
  },
  {
   "cell_type": "code",
   "execution_count": 3,
   "metadata": {},
   "outputs": [
    {
     "name": "stdout",
     "output_type": "stream",
     "text": [
      "99% CVaR/ES is 5.93\n"
     ]
    }
   ],
   "source": [
    "# with the same parameters as above\n",
    "CVaR_n = alpha**-1 * norm.pdf(norm.ppf(alpha))*sig_h - mu_h\n",
    "\n",
    "print(\"99% CVaR/ES is\", round(CVaR_n*100,2))"
   ]
  },
  {
   "cell_type": "markdown",
   "metadata": {
    "collapsed": true
   },
   "source": [
    "The above assumes a normal distribution, but we can also apply a student-T distribution. The derivation to get the equivalent formula is involved. However, we can compute the equivalent VaRs under a student-T distribution with the following formula - <br>\n",
    "\n",
    "$$ CVaR_{h, \\alpha, v}(X) = - \\alpha^{-1}(1-v)^{-1}[v-2+x^{2}_{\\alpha,v}]f_v(x_{\\alpha,v})\\sigma_h-\\mu_h$$ <br>"
   ]
  },
  {
   "cell_type": "code",
   "execution_count": 4,
   "metadata": {},
   "outputs": [
    {
     "name": "stdout",
     "output_type": "stream",
     "text": [
      "99% VaR (Student-t with v=5) is 5.58\n"
     ]
    }
   ],
   "source": [
    "from scipy.stats import t\n",
    "nu = 5 # degree of freedom, the larger, the closer to normal distribution\n",
    "xanu = t.ppf(alpha, nu)\n",
    "\n",
    "VaR_t = np.sqrt(h/252 * (nu-2)/nu) * t.ppf(1-alpha, nu)*sig - mu_h\n",
    "\n",
    "print(\"99% VaR (Student-t with v=5) is\", round(VaR_t*100,2))"
   ]
  },
  {
   "cell_type": "code",
   "execution_count": 5,
   "metadata": {},
   "outputs": [
    {
     "name": "stdout",
     "output_type": "stream",
     "text": [
      "99% CVaR (Student-t with v=5) is 13.35\n"
     ]
    }
   ],
   "source": [
    "CVaR_t = -1/alpha * (1-nu)**(-1) * (nu-2+xanu**2) * t.pdf(xanu, nu)*sig_h - mu_h\n",
    "print(\"99% CVaR (Student-t with v=5) is\", round(CVaR_t*100,2))"
   ]
  },
  {
   "cell_type": "markdown",
   "metadata": {},
   "source": [
    "It's easy to check if the numbers line up when we assume a large value for the degree of freedom"
   ]
  },
  {
   "cell_type": "code",
   "execution_count": 6,
   "metadata": {},
   "outputs": [
    {
     "name": "stdout",
     "output_type": "stream",
     "text": [
      "99% VaR (Student-t with with v->infinity) is 3.9\n"
     ]
    }
   ],
   "source": [
    "# to verify that the normal and Student-t VAR will be the same for big v\n",
    "nu = 10000000 # degree of freedom, the larger, the closer to normal distribution\n",
    "xanu = t.ppf(alpha, nu)\n",
    "\n",
    "VaR_t = np.sqrt(h/252 * (nu-2)/nu) * t.ppf(1-alpha, nu)*sig - mu_h\n",
    "print(\"99% VaR (Student-t with with v->infinity) is\", round(VaR_t*100,2))"
   ]
  },
  {
   "cell_type": "code",
   "execution_count": 7,
   "metadata": {},
   "outputs": [
    {
     "name": "stdout",
     "output_type": "stream",
     "text": [
      "99% CVaR (Student-t with with v->infinity) is 5.93\n"
     ]
    }
   ],
   "source": [
    "CVaR_t = -1/alpha * (1-nu)**(-1) * (nu-2+xanu**2) * t.pdf(xanu, nu)*sig_h - mu_h\n",
    "print(\"99% CVaR (Student-t with with v->infinity) is\", round(CVaR_t*100,2))"
   ]
  },
  {
   "cell_type": "markdown",
   "metadata": {},
   "source": [
    "** Plotting VAR and CVAR with varying degrees of freedom **"
   ]
  },
  {
   "cell_type": "code",
   "execution_count": 8,
   "metadata": {},
   "outputs": [
    {
     "data": {
      "image/png": "[encoded data removed]",
      "text/plain": [
       "<matplotlib.figure.Figure at 0x10d9a7a90>"
      ]
     },
     "metadata": {},
     "output_type": "display_data"
    }
   ],
   "source": [
    "%matplotlib inline\n",
    "\n",
    "d = []\n",
    "for nu in range(5, 100):\n",
    "    xanu = t.ppf(alpha, nu)\n",
    "    CVaR_t = -1/alpha * (1-nu)**(-1) * (nu-2+xanu**2) * \\\n",
    "             t.pdf(xanu, nu)*sig_h - mu_h\n",
    "    VaR_t = np.sqrt(h/252 * (nu-2)/nu) * t.ppf(1-alpha, nu)*sig \\\n",
    "             - mu_h\n",
    "    d.append([nu, VaR_t, CVaR_t])\n",
    " \n",
    "d = np.array(d).T\n",
    " \n",
    "fig, ax = plt.subplots(figsize=(7,4))\n",
    "plt.plot(d[0], d[1]*100, 'b-', label=\"VaR_t\")\n",
    "plt.plot(np.arange(5, 100), VaR_n*np.ones(95)*100, \":k\", label=\"VaR_n\")\n",
    "plt.plot(d[0], d[2]*100, 'r-', label=\"CVaR_t\")\n",
    "plt.plot(np.arange(5, 100), CVaR_n*np.ones(95)*100, \":r\",label=\"CVaR_n\" )\n",
    "plt.xlabel(\"Student $t$ d.o.f.\")\n",
    "plt.ylabel(\"%\")\n",
    "plt.legend(loc=1)\n",
    "ax.margins(x=0.025, y=0.05) # add extra padding"
   ]
  },
  {
   "cell_type": "markdown",
   "metadata": {},
   "source": [
    "### Computing ES for an actual set of returns ###"
   ]
  },
  {
   "cell_type": "code",
   "execution_count": 9,
   "metadata": {
    "collapsed": true
   },
   "outputs": [],
   "source": [
    "import quandl\n",
    "import datetime\n",
    "quandl.ApiConfig.api_key = \"\""
   ]
  },
  {
   "cell_type": "code",
   "execution_count": 10,
   "metadata": {
    "collapsed": true
   },
   "outputs": [],
   "source": [
    "end = datetime.datetime.now()\n",
    "start = end - datetime.timedelta(365*5)\n",
    "AAPL = quandl.get('EOD/AAPL', start_date=start, end_date=end)"
   ]
  },
  {
   "cell_type": "code",
   "execution_count": 11,
   "metadata": {
    "collapsed": true
   },
   "outputs": [],
   "source": [
    "returns = (AAPL['Close']/AAPL['Close'].shift(1))-1\n",
    "# Take the array from 2nd (element 1) to end and divide it by the array less the last element\n",
    "# Basically tom - today for each element"
   ]
  },
  {
   "cell_type": "code",
   "execution_count": 12,
   "metadata": {},
   "outputs": [
    {
     "data": {
      "text/plain": [
       "array([-0.00713669, -0.01242879,  0.02351337, ...,  0.00760178,\n",
       "       -0.01077126,  0.01438023])"
      ]
     },
     "execution_count": 12,
     "metadata": {},
     "output_type": "execute_result"
    }
   ],
   "source": [
    "returns = returns.dropna().values\n",
    "returns"
   ]
  },
  {
   "cell_type": "markdown",
   "metadata": {},
   "source": [
    "Fitting to a normal distribution"
   ]
  },
  {
   "cell_type": "code",
   "execution_count": 13,
   "metadata": {},
   "outputs": [
    {
     "name": "stdout",
     "output_type": "stream",
     "text": [
      "Normal mean is 0.00032809, sigma is 0.02798557\n"
     ]
    }
   ],
   "source": [
    "mu_norm, sig_norm = norm.fit(returns) # extract the mean and sigma of the closest normal distribution fit\n",
    "print(\"Normal mean is {0:.8f}, sigma is {1:.8f}\".format(mu_norm, sig_norm))\n",
    "dx = 0.0001 # resolution of the distribution\n",
    "x = np.arange(-1, 1, dx)\n",
    "pdf_n = norm.pdf(x, mu_norm, sig_norm)"
   ]
  },
  {
   "cell_type": "markdown",
   "metadata": {},
   "source": [
    "Fitting to a t-distribution"
   ]
  },
  {
   "cell_type": "code",
   "execution_count": 14,
   "metadata": {},
   "outputs": [
    {
     "name": "stdout",
     "output_type": "stream",
     "text": [
      "Student T mean is 0.00094189, sigma is 0.00959287, nu is 3.0\n"
     ]
    }
   ],
   "source": [
    "nu, mu_t, sig_t = t.fit(returns)\n",
    "nu = np.round(nu)\n",
    "print(\"Student T mean is {0:.8f}, sigma is {1:.8f}, nu is {2}\".format(mu_t, sig_t, nu))\n",
    "pdf_t = t.pdf(x, nu, mu_t, sig_t)"
   ]
  },
  {
   "cell_type": "code",
   "execution_count": 15,
   "metadata": {
    "collapsed": true
   },
   "outputs": [],
   "source": [
    "h = 1\n",
    "alpha = 0.01\n",
    "xanu = t.ppf(alpha, nu)\n",
    "\n",
    "CVaR_n = alpha**-1 * norm.pdf(norm.ppf(alpha))*sig_norm - mu_norm\n",
    "VaR_n = norm.ppf(1-alpha)*sig_norm - mu_norm\n",
    " \n",
    "VaR_t = np.sqrt((nu-2)/nu) * t.ppf(1-alpha, nu)*sig_norm  - h*mu_norm\n",
    "CVaR_t = -1/alpha * (1-nu)**(-1) * (nu-2+xanu**2) * t.pdf(xanu, nu)*sig_norm  - h*mu_norm"
   ]
  },
  {
   "cell_type": "code",
   "execution_count": 16,
   "metadata": {},
   "outputs": [
    {
     "name": "stdout",
     "output_type": "stream",
     "text": [
      "The 99% VaR (Normal) is 6.48%\n",
      "The 99% CVaR (Normal) is 7.43%\n",
      "The 99% VaR (Student-t) is 7.30%\n",
      "The 99% CVaR (Student-t) is 17.91%\n"
     ]
    }
   ],
   "source": [
    "print(\"The 99% VaR (Normal) is {0:.2f}%\".format(VaR_n*100))\n",
    "print(\"The 99% CVaR (Normal) is {0:.2f}%\".format(CVaR_n*100))\n",
    "print(\"The 99% VaR (Student-t) is {0:.2f}%\".format(VaR_t*100))\n",
    "print(\"The 99% CVaR (Student-t) is {0:.2f}%\".format(CVaR_t*100))"
   ]
  },
  {
   "cell_type": "code",
   "execution_count": 17,
   "metadata": {},
   "outputs": [
    {
     "data": {
      "image/png": "[encoded data removed]",
      "text/plain": [
       "<matplotlib.figure.Figure at 0x110a64438>"
      ]
     },
     "metadata": {},
     "output_type": "display_data"
    }
   ],
   "source": [
    "import seaborn as sns\n",
    "plt.figure(num=1, figsize=(11, 6))\n",
    "# main figure\n",
    "plt.hist(returns, bins=100, normed=True, color='pink', edgecolor='white')\n",
    "plt.hold(True)\n",
    "plt.axis(\"tight\")\n",
    "plt.plot(x, pdf_n, 'steelblue', label=\"Normal PDF fit\")\n",
    "plt.hold(True)\n",
    "plt.axis(\"tight\")\n",
    "plt.plot(x, pdf_t, 'red', label=\"Student t PDF fit\")\n",
    "plt.xlim([min(returns)/2, max(returns)])\n",
    "plt.ylim([0, 50])\n",
    "plt.legend(loc=\"best\")\n",
    "plt.xlabel(\"Daily Returns of Google(Source:Quandl)\")\n",
    "plt.ylabel(\"Return Distribution\")\n",
    "# inset\n",
    "a = plt.axes([.22, .35, .3, .4])\n",
    "plt.hist(returns, bins=100, normed=True, color='pink', edgecolor='white')\n",
    "plt.hold(True)\n",
    "plt.plot(x, pdf_n, 'steelblue')\n",
    "plt.hold(True)\n",
    "plt.plot(x, pdf_t, 'red')\n",
    "plt.hold(True)\n",
    "# Student VaR line\n",
    "plt.plot([-CVaR_t, -CVaR_t], [0, 1.2], c='red')\n",
    "# Normal VaR line\n",
    "plt.plot([-CVaR_n, -CVaR_n], [0, 1.6], c='steelblue')\n",
    "plt.text(-CVaR_n-0.015, 1.6, \"Norm CVaR\", color='steelblue')\n",
    "plt.text(-CVaR_t-0.0171, 1.2, \"Student t CVaR\", color='red')\n",
    "plt.xlim([-0.2, -0.02])\n",
    "plt.ylim([0, 2])\n",
    "plt.show()"
   ]
  },
  {
   "cell_type": "code",
   "execution_count": null,
   "metadata": {
    "collapsed": true
   },
   "outputs": [],
   "source": []
  }
 ],
 "metadata": {
  "kernelspec": {
   "display_name": "Python 3",
   "language": "python",
   "name": "python3"
  },
  "language_info": {
   "codemirror_mode": {
    "name": "ipython",
    "version": 3
   },
   "file_extension": ".py",
   "mimetype": "text/x-python",
   "name": "python",
   "nbconvert_exporter": "python",
   "pygments_lexer": "ipython3",
   "version": "3.7.4"
  }
 },
 "nbformat": 4,
 "nbformat_minor": 1
}
