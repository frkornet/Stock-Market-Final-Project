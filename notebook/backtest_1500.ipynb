{
 "cells": [
  {
   "cell_type": "markdown",
   "metadata": {},
   "source": [
    "# Introduction\n",
    "\n",
    "This notebook backtests 1500 stock tickers. After reading in the stock tickers from a CSV file, it calls `backtester()` to do all the hard work. This is basically a wrapper for the `backtester()`. The `backtester()` is stored in backtest.py."
   ]
  },
  {
   "cell_type": "code",
   "execution_count": 1,
   "metadata": {},
   "outputs": [],
   "source": [
    "from backtest import ticker_stats, smooth, features, stringify, print_ticker_heading, balanced_scorecard, \\\n",
    "                     determine_minima_n_maxima, align_minima_n_maxima, plot_trades, split_data, \\\n",
    "                     get_signals, merge_buy_n_sell_signals, extract_trades, get_possible_trades, \\\n",
    "                     backtester\n",
    "import pandas as pd\n",
    "import numpy as np\n",
    "\n",
    "from   frankie     import DayForecast, optimize, baseline, cross_val_tpr\n",
    "import yfinance as yf\n",
    "\n",
    "from sklearn.metrics import classification_report, confusion_matrix, accuracy_score, balanced_accuracy_score, roc_auc_score\n",
    "from sklearn.datasets import load_breast_cancer, load_iris, make_moons, make_circles, make_classification\n",
    "from sklearn.linear_model import LogisticRegression\n",
    "from category_encoders import WOEEncoder\n",
    "\n",
    "from sklearn.model_selection import train_test_split\n",
    "from sklearn.pipeline import make_pipeline, Pipeline\n",
    "from sklearn.preprocessing import MinMaxScaler, KBinsDiscretizer, FunctionTransformer\n",
    "from sklearn.model_selection import cross_val_score\n",
    "from sklearn.impute import SimpleImputer\n",
    "\n",
    "from datetime import date, timedelta\n",
    "\n",
    "import matplotlib.pyplot as plt\n",
    "%matplotlib inline\n",
    "\n",
    "from scipy.signal import savgol_filter, argrelmin, argrelmax\n",
    "\n",
    "import gc; gc.enable()"
   ]
  },
  {
   "cell_type": "code",
   "execution_count": 2,
   "metadata": {},
   "outputs": [
    {
     "data": {
      "application/javascript": [
       "IPython.OutputArea.prototype._should_scroll = function(lines) {\n",
       "    return false;\n",
       "}\n"
      ],
      "text/plain": [
       "<IPython.core.display.Javascript object>"
      ]
     },
     "metadata": {},
     "output_type": "display_data"
    }
   ],
   "source": [
    "%%javascript\n",
    "IPython.OutputArea.prototype._should_scroll = function(lines) {\n",
    "    return false;\n",
    "}"
   ]
  },
  {
   "cell_type": "code",
   "execution_count": 3,
   "metadata": {},
   "outputs": [],
   "source": [
    "# suppress output of plotting all the trades as this is quite a lot...\n",
    "# plot_trades(tickers, min_indices, max_indices)"
   ]
  },
  {
   "cell_type": "code",
   "execution_count": 4,
   "metadata": {},
   "outputs": [],
   "source": [
    "DATAPATH = '/Users/frkornet/Flatiron/Stock-Market-Final-Project/data/'\n",
    "sdf = pd.read_csv(f'{DATAPATH}stocks_2000.csv')\n",
    "idx = (sdf.TICKER > '')\n",
    "sdf = sdf.loc[idx].reset_index()\n",
    "tickers = sdf.TICKER.sample(1530).to_list()"
   ]
  },
  {
   "cell_type": "code",
   "execution_count": null,
   "metadata": {},
   "outputs": [
    {
     "name": "stdout",
     "output_type": "stream",
     "text": [
      "Simulating 1522 stocks\n",
      "Failed to smooth prices for NTR!\n",
      "Failed to smooth prices for PIPR!\n",
      "Failed to smooth prices for RHI!\n"
     ]
    }
   ],
   "source": [
    "%time myPnL_df, my_Capital_df, possible_trades_df = backtester(tickers)"
   ]
  },
  {
   "cell_type": "markdown",
   "metadata": {},
   "source": [
    "# Summary Chart\n",
    "\n",
    "This chart provides an overview of well the backtest went and how it increased or decreased the initial capital over time."
   ]
  },
  {
   "cell_type": "code",
   "execution_count": null,
   "metadata": {},
   "outputs": [],
   "source": [
    "idx = myPnL_df.action=='BUY'\n",
    "first_buy_date = myPnL_df.loc[idx].date.min()\n",
    "first_buy_date"
   ]
  },
  {
   "cell_type": "code",
   "execution_count": null,
   "metadata": {},
   "outputs": [],
   "source": [
    "#myPnL_df, my_Capital_df = backtester()\n",
    "myCapital_df = my_Capital_df\n",
    "myCapital_df.index = myCapital_df.date\n",
    "to_plot_cols = ['capital', 'in_use']\n",
    "myCapital_df[to_plot_cols][first_buy_date:].plot(figsize=(18,10))\n",
    "plt.title('Max stock = 5 on 2000 stocks')\n",
    "plt.show()"
   ]
  },
  {
   "cell_type": "markdown",
   "metadata": {},
   "source": [
    "# Analysis of Results\n",
    "\n",
    "The cells below perform a simple analysis. They look at the completed trades. For each trade it calculates the gain and gain percentage. With that it then displays the top ten losses and top ten gains. It ends with calculating the percentage of trades that resulted in a loss."
   ]
  },
  {
   "cell_type": "code",
   "execution_count": null,
   "metadata": {},
   "outputs": [],
   "source": [
    "sell_df = myPnL_df[myPnL_df.action=='SELL'].copy()\n",
    "sell_df['gain'] = (sell_df.close_amount - sell_df.orig_amount)\n",
    "sell_df['gain_pct'] = round((sell_df.gain / sell_df.orig_amount)*100, 2)\n",
    "sell_df"
   ]
  },
  {
   "cell_type": "code",
   "execution_count": null,
   "metadata": {},
   "outputs": [],
   "source": [
    "sell_df.describe()"
   ]
  },
  {
   "cell_type": "code",
   "execution_count": null,
   "metadata": {},
   "outputs": [],
   "source": [
    "sell_df.sort_values(by='gain_pct', ascending=True)[0:10]"
   ]
  },
  {
   "cell_type": "code",
   "execution_count": null,
   "metadata": {},
   "outputs": [],
   "source": [
    "sell_df.sort_values(by='gain_pct', ascending=False)[0:10]"
   ]
  },
  {
   "cell_type": "code",
   "execution_count": null,
   "metadata": {},
   "outputs": [],
   "source": [
    "sell_df[sell_df.gain_pct < 0].count()[0], sell_df[sell_df.gain_pct < 0].count()[0]/len(sell_df)"
   ]
  },
  {
   "cell_type": "code",
   "execution_count": null,
   "metadata": {},
   "outputs": [],
   "source": [
    "myPnL_df"
   ]
  },
  {
   "cell_type": "code",
   "execution_count": null,
   "metadata": {},
   "outputs": [],
   "source": [
    "sell_df.ticker.unique(), len(sell_df.ticker.unique())"
   ]
  },
  {
   "cell_type": "code",
   "execution_count": null,
   "metadata": {},
   "outputs": [],
   "source": [
    "sell_df[['ticker', 'gain']].groupby(by='ticker').sum().reset_index().sort_values(by='gain', ascending=False)[0:10]"
   ]
  },
  {
   "cell_type": "code",
   "execution_count": null,
   "metadata": {},
   "outputs": [],
   "source": [
    "sell_df[['ticker', 'gain']].groupby(by='ticker').sum().reset_index().sort_values(by='gain', ascending=True)[0:10]"
   ]
  },
  {
   "cell_type": "code",
   "execution_count": null,
   "metadata": {},
   "outputs": [],
   "source": [
    "sell_df[['ticker', 'gain']].groupby(by='ticker').mean().reset_index().sort_values(by='gain', ascending=False)[0:10]"
   ]
  },
  {
   "cell_type": "code",
   "execution_count": null,
   "metadata": {},
   "outputs": [],
   "source": [
    "sell_df[['ticker', 'gain']].groupby(by='ticker').mean().reset_index().sort_values(by='gain', ascending=True)[0:10]"
   ]
  },
  {
   "cell_type": "markdown",
   "metadata": {},
   "source": [
    "# Suspicious Stocks\n",
    "\n",
    "Below are the plotted close price plots as returned by yfinance. "
   ]
  },
  {
   "cell_type": "code",
   "execution_count": null,
   "metadata": {},
   "outputs": [],
   "source": [
    "# Google shows close price between $8 - $16, so something seems to be wrong here\n",
    "asset  = yf.Ticker('SBT')\n",
    "hist   = asset.history(start='2015-01-01', auto_adjust=False, back_adjust=False)\n",
    "hist.Close.plot()"
   ]
  },
  {
   "cell_type": "code",
   "execution_count": null,
   "metadata": {},
   "outputs": [],
   "source": [
    "# Data looks okay - there's just a quick change around 2019-04-22 and then a big drop on 2019-04-23.\n",
    "# Trade is still profitable. Modified the stop_loss logic to match what stockbrokers do...\n",
    "asset  = yf.Ticker('MBRX')\n",
    "hist   = asset.history(start='2015-01-01', auto_adjust=False, back_adjust=False)\n",
    "hist.Close.plot()"
   ]
  },
  {
   "cell_type": "code",
   "execution_count": null,
   "metadata": {},
   "outputs": [],
   "source": [
    "# LBC stock looks suspicious => exclude and rerun...\n",
    "asset  = yf.Ticker('LBC')\n",
    "hist   = asset.history(start='2015-01-01', auto_adjust=False, back_adjust=False)\n",
    "hist.Close.plot()"
   ]
  },
  {
   "cell_type": "code",
   "execution_count": null,
   "metadata": {},
   "outputs": [],
   "source": [
    "myCapital_df.tail()"
   ]
  },
  {
   "cell_type": "code",
   "execution_count": null,
   "metadata": {},
   "outputs": [],
   "source": [
    "len(possible_trades_df)"
   ]
  },
  {
   "cell_type": "code",
   "execution_count": null,
   "metadata": {},
   "outputs": [],
   "source": []
  }
 ],
 "metadata": {
  "kernelspec": {
   "display_name": "Python 3.7.5 64-bit ('learn': conda)",
   "language": "python",
   "name": "python37564bitlearnconda9edf13e24aea43b294d817638a3bc50f"
  },
  "language_info": {
   "codemirror_mode": {
    "name": "ipython",
    "version": 3
   },
   "file_extension": ".py",
   "mimetype": "text/x-python",
   "name": "python",
   "nbconvert_exporter": "python",
   "pygments_lexer": "ipython3",
   "version": "3.7.5"
  }
 },
 "nbformat": 4,
 "nbformat_minor": 2
}
