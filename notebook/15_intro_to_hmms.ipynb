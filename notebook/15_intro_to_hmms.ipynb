{
 "cells": [
  {
   "cell_type": "markdown",
   "metadata": {},
   "source": [
    "# Introduction to Hidden Markov Models\n",
    "\n",
    "## Prerequisites\n",
    "\n",
    "* Markov Chains and Markovian Processes\n",
    "* Probability and Bayes' Theorem\n",
    "* Linear Algebra\n",
    "\n",
    "## Learning Goals\n",
    "\n",
    "* Approximate Reality: transform a basic question with possible business value into a simple supervised learning problem (w/ label noise),\n",
    "* Create a baseline model to check the \"fidelity\" of the proxy to reality,\n",
    "* Build a Hidden Markov Model using `seqlearn` and/or `hmmlearn`.\n",
    "\n",
    "## Imports"
   ]
  },
  {
   "cell_type": "code",
   "execution_count": 1,
   "metadata": {},
   "outputs": [],
   "source": [
    "# The original version of seqlearn has scipy dependencies which are out of date.\n",
    "# !pip install -U git+https://github.com/PureMath86/seqlearn"
   ]
  },
  {
   "cell_type": "code",
   "execution_count": 2,
   "metadata": {},
   "outputs": [
    {
     "name": "stderr",
     "output_type": "stream",
     "text": [
      "/Users/frkornet/opt/anaconda3/envs/learn/lib/python3.7/site-packages/sklearn/externals/six.py:31: FutureWarning: The module is deprecated in version 0.21 and will be removed in version 0.23 since we've dropped support for Python 2.7. Please rely on the official version of six (https://pypi.org/project/six/).\n",
      "  \"(https://pypi.org/project/six/).\", FutureWarning)\n"
     ]
    }
   ],
   "source": [
    "import matplotlib.pyplot as plt\n",
    "import seaborn as sns; sns.set()\n",
    "%matplotlib inline\n",
    "\n",
    "import pandas as pd\n",
    "import numpy as np\n",
    "\n",
    "import yfinance as yf\n",
    "\n",
    "from scipy.signal import savgol_filter, argrelmin, argrelmax\n",
    "\n",
    "from seqlearn.hmm import MultinomialHMM\n",
    "from hmmlearn.hmm import GaussianHMM as HMM\n",
    "\n",
    "from sklearn.metrics import confusion_matrix, accuracy_score, balanced_accuracy_score \n",
    "from sklearn.preprocessing import KBinsDiscretizer, FunctionTransformer\n",
    "from sklearn.linear_model import LogisticRegression\n",
    "from category_encoders import WOEEncoder\n",
    "from sklearn.pipeline import make_pipeline, Pipeline\n",
    "from sklearn.impute import SimpleImputer\n",
    "from sklearn.decomposition import PCA\n",
    "from sklearn.model_selection import cross_val_score\n",
    "from sklearn.model_selection import train_test_split\n",
    "\n",
    "import talib\n",
    "\n",
    "import warnings\n",
    "warnings.filterwarnings(\"ignore\")\n",
    "\n",
    "import gc; gc.enable();"
   ]
  },
  {
   "cell_type": "code",
   "execution_count": 3,
   "metadata": {},
   "outputs": [],
   "source": [
    "SCORING = 'accuracy' # 'roc_auc'"
   ]
  },
  {
   "cell_type": "markdown",
   "metadata": {},
   "source": [
    "## Get Stock Data"
   ]
  },
  {
   "cell_type": "code",
   "execution_count": 4,
   "metadata": {},
   "outputs": [],
   "source": [
    "# asset = yf.Ticker(\"AGRX\")\n",
    "# asset = yf.Ticker(\"AAPL\")\n",
    "asset = yf.Ticker(\"GOOGL\")\n",
    "\n",
    "# get historical market data\n",
    "hist = asset.history(period=\"24mo\")"
   ]
  },
  {
   "cell_type": "code",
   "execution_count": 5,
   "metadata": {},
   "outputs": [
    {
     "data": {
      "text/plain": [
       "503"
      ]
     },
     "execution_count": 5,
     "metadata": {},
     "output_type": "execute_result"
    }
   ],
   "source": [
    "len(hist)"
   ]
  },
  {
   "cell_type": "code",
   "execution_count": 6,
   "metadata": {},
   "outputs": [
    {
     "data": {
      "text/html": [
       "<div>\n",
       "<style scoped>\n",
       "    .dataframe tbody tr th:only-of-type {\n",
       "        vertical-align: middle;\n",
       "    }\n",
       "\n",
       "    .dataframe tbody tr th {\n",
       "        vertical-align: top;\n",
       "    }\n",
       "\n",
       "    .dataframe thead th {\n",
       "        text-align: right;\n",
       "    }\n",
       "</style>\n",
       "<table border=\"1\" class=\"dataframe\">\n",
       "  <thead>\n",
       "    <tr style=\"text-align: right;\">\n",
       "      <th></th>\n",
       "      <th>Open</th>\n",
       "      <th>High</th>\n",
       "      <th>Low</th>\n",
       "      <th>Close</th>\n",
       "      <th>Volume</th>\n",
       "      <th>Dividends</th>\n",
       "      <th>Stock Splits</th>\n",
       "    </tr>\n",
       "    <tr>\n",
       "      <th>Date</th>\n",
       "      <th></th>\n",
       "      <th></th>\n",
       "      <th></th>\n",
       "      <th></th>\n",
       "      <th></th>\n",
       "      <th></th>\n",
       "      <th></th>\n",
       "    </tr>\n",
       "  </thead>\n",
       "  <tbody>\n",
       "    <tr>\n",
       "      <th>2018-02-05</th>\n",
       "      <td>1100.61</td>\n",
       "      <td>1114.99</td>\n",
       "      <td>1056.74</td>\n",
       "      <td>1062.39</td>\n",
       "      <td>4177500</td>\n",
       "      <td>0</td>\n",
       "      <td>0</td>\n",
       "    </tr>\n",
       "    <tr>\n",
       "      <th>2018-02-06</th>\n",
       "      <td>1033.98</td>\n",
       "      <td>1087.38</td>\n",
       "      <td>1030.01</td>\n",
       "      <td>1084.43</td>\n",
       "      <td>3831500</td>\n",
       "      <td>0</td>\n",
       "      <td>0</td>\n",
       "    </tr>\n",
       "    <tr>\n",
       "      <th>2018-02-07</th>\n",
       "      <td>1084.97</td>\n",
       "      <td>1086.53</td>\n",
       "      <td>1054.62</td>\n",
       "      <td>1055.41</td>\n",
       "      <td>2597100</td>\n",
       "      <td>0</td>\n",
       "      <td>0</td>\n",
       "    </tr>\n",
       "    <tr>\n",
       "      <th>2018-02-08</th>\n",
       "      <td>1059.87</td>\n",
       "      <td>1063.93</td>\n",
       "      <td>1004.70</td>\n",
       "      <td>1007.71</td>\n",
       "      <td>3339600</td>\n",
       "      <td>0</td>\n",
       "      <td>0</td>\n",
       "    </tr>\n",
       "    <tr>\n",
       "      <th>2018-02-09</th>\n",
       "      <td>1025.88</td>\n",
       "      <td>1051.72</td>\n",
       "      <td>997.00</td>\n",
       "      <td>1046.27</td>\n",
       "      <td>4918000</td>\n",
       "      <td>0</td>\n",
       "      <td>0</td>\n",
       "    </tr>\n",
       "  </tbody>\n",
       "</table>\n",
       "</div>"
      ],
      "text/plain": [
       "               Open     High      Low    Close   Volume  Dividends  \\\n",
       "Date                                                                 \n",
       "2018-02-05  1100.61  1114.99  1056.74  1062.39  4177500          0   \n",
       "2018-02-06  1033.98  1087.38  1030.01  1084.43  3831500          0   \n",
       "2018-02-07  1084.97  1086.53  1054.62  1055.41  2597100          0   \n",
       "2018-02-08  1059.87  1063.93  1004.70  1007.71  3339600          0   \n",
       "2018-02-09  1025.88  1051.72   997.00  1046.27  4918000          0   \n",
       "\n",
       "            Stock Splits  \n",
       "Date                      \n",
       "2018-02-05             0  \n",
       "2018-02-06             0  \n",
       "2018-02-07             0  \n",
       "2018-02-08             0  \n",
       "2018-02-09             0  "
      ]
     },
     "execution_count": 6,
     "metadata": {},
     "output_type": "execute_result"
    }
   ],
   "source": [
    "hist.head()"
   ]
  },
  {
   "cell_type": "markdown",
   "metadata": {},
   "source": [
    "## Visualize"
   ]
  },
  {
   "cell_type": "code",
   "execution_count": 7,
   "metadata": {},
   "outputs": [
    {
     "data": {
      "image/png": "[encoded data removed]",
      "text/plain": [
       "<Figure size 1440x576 with 1 Axes>"
      ]
     },
     "metadata": {
      "needs_background": "light"
     },
     "output_type": "display_data"
    }
   ],
   "source": [
    "plt.figure(figsize=(20,8))\n",
    "hist.Close.plot()\n",
    "plt.show()"
   ]
  },
  {
   "cell_type": "markdown",
   "metadata": {},
   "source": [
    "## Smooth"
   ]
  },
  {
   "cell_type": "code",
   "execution_count": 8,
   "metadata": {},
   "outputs": [
    {
     "data": {
      "text/plain": [
       "<matplotlib.axes._subplots.AxesSubplot at 0x7fb1a01f6dd0>"
      ]
     },
     "execution_count": 8,
     "metadata": {},
     "output_type": "execute_result"
    },
    {
     "data": {
      "image/png": "[encoded data removed]",
      "text/plain": [
       "<Figure size 1440x576 with 1 Axes>"
      ]
     },
     "metadata": {
      "needs_background": "light"
     },
     "output_type": "display_data"
    }
   ],
   "source": [
    "window = 15\n",
    "hist['smooth'] = savgol_filter(hist.Close, 2*window+1, polyorder=3)\n",
    "plt.figure(figsize=(20,8))\n",
    "hist.smooth.plot()"
   ]
  },
  {
   "cell_type": "code",
   "execution_count": 9,
   "metadata": {},
   "outputs": [
    {
     "data": {
      "text/plain": [
       "<matplotlib.axes._subplots.AxesSubplot at 0x7fb150b6c6d0>"
      ]
     },
     "execution_count": 9,
     "metadata": {},
     "output_type": "execute_result"
    },
    {
     "data": {
      "image/png": "[encoded data removed]",
      "text/plain": [
       "<Figure size 1440x576 with 1 Axes>"
      ]
     },
     "metadata": {
      "needs_background": "light"
     },
     "output_type": "display_data"
    }
   ],
   "source": [
    "hist['smooth'] = savgol_filter(hist.smooth, 2*window+1, polyorder=1)\n",
    "plt.figure(figsize=(20,8))\n",
    "hist.smooth.plot()"
   ]
  },
  {
   "cell_type": "code",
   "execution_count": 10,
   "metadata": {},
   "outputs": [
    {
     "data": {
      "text/plain": [
       "<matplotlib.axes._subplots.AxesSubplot at 0x7fb1a048f8d0>"
      ]
     },
     "execution_count": 10,
     "metadata": {},
     "output_type": "execute_result"
    },
    {
     "data": {
      "image/png": "[encoded data removed]",
      "text/plain": [
       "<Figure size 1440x576 with 1 Axes>"
      ]
     },
     "metadata": {
      "needs_background": "light"
     },
     "output_type": "display_data"
    }
   ],
   "source": [
    "hist['smooth'] = savgol_filter(hist.smooth, window, polyorder=3)\n",
    "plt.figure(figsize=(20,8))\n",
    "hist.smooth.plot()"
   ]
  },
  {
   "cell_type": "code",
   "execution_count": 11,
   "metadata": {},
   "outputs": [
    {
     "data": {
      "text/plain": [
       "<matplotlib.axes._subplots.AxesSubplot at 0x7fb160682450>"
      ]
     },
     "execution_count": 11,
     "metadata": {},
     "output_type": "execute_result"
    },
    {
     "data": {
      "image/png": "[encoded data removed]",
      "text/plain": [
       "<Figure size 1440x576 with 1 Axes>"
      ]
     },
     "metadata": {
      "needs_background": "light"
     },
     "output_type": "display_data"
    }
   ],
   "source": [
    "hist['smooth'] = savgol_filter(hist.smooth, window, polyorder=1)\n",
    "plt.figure(figsize=(20,8))\n",
    "hist.smooth.plot()"
   ]
  },
  {
   "cell_type": "code",
   "execution_count": 12,
   "metadata": {},
   "outputs": [
    {
     "data": {
      "image/png": "[encoded data removed]",
      "text/plain": [
       "<Figure size 1440x576 with 1 Axes>"
      ]
     },
     "metadata": {
      "needs_background": "light"
     },
     "output_type": "display_data"
    }
   ],
   "source": [
    "plt.figure(figsize=(20,8))\n",
    "hist.Close.plot()\n",
    "hist.smooth.plot()\n",
    "plt.show()"
   ]
  },
  {
   "cell_type": "markdown",
   "metadata": {},
   "source": [
    "## Create a Target : \"Near\" Local Minima / Breakout Points"
   ]
  },
  {
   "cell_type": "code",
   "execution_count": 13,
   "metadata": {},
   "outputs": [
    {
     "name": "stdout",
     "output_type": "stream",
     "text": [
      "min_ids= [49, 217, 341]\n",
      "max_ids= [19, 130, 298]\n"
     ]
    },
    {
     "data": {
      "image/png": "[encoded data removed]",
      "text/plain": [
       "<Figure size 1440x576 with 1 Axes>"
      ]
     },
     "metadata": {
      "needs_background": "light"
     },
     "output_type": "display_data"
    }
   ],
   "source": [
    "target = 'target'\n",
    "hist[target] = 0\n",
    "\n",
    "min_ids = argrelmin(hist.smooth.values)[0].tolist()\n",
    "print(\"min_ids=\", min_ids)\n",
    "max_ids = argrelmax(hist.smooth.values)[0].tolist()\n",
    "print(\"max_ids=\", max_ids)\n",
    "\n",
    "hist[target].iloc[min_ids] = 1\n",
    "hist[target].iloc[max_ids] = -1\n",
    "\n",
    "plt.figure(figsize=(20,8))\n",
    "hist.Close.plot()\n",
    "hist.smooth.plot()\n",
    "(hist[target]*100).plot()\n",
    "plt.show()"
   ]
  },
  {
   "cell_type": "code",
   "execution_count": 14,
   "metadata": {},
   "outputs": [],
   "source": [
    "# focus only on buy signal and not on sell signal \n",
    "hist[target] = hist[target].replace(0, np.nan).interpolate(method='slinear').fillna(0)\n",
    "# FRK: modified threshold to see what the impact is. Originally 0.8\n",
    "# hist[target] = (hist[target] > 0.8).astype(np.int)\n",
    "hist[target] = (hist[target] > 0.5).astype(np.int)"
   ]
  },
  {
   "cell_type": "code",
   "execution_count": 15,
   "metadata": {},
   "outputs": [
    {
     "data": {
      "image/png": "[encoded data removed]",
      "text/plain": [
       "<Figure size 1440x576 with 1 Axes>"
      ]
     },
     "metadata": {
      "needs_background": "light"
     },
     "output_type": "display_data"
    }
   ],
   "source": [
    "plt.figure(figsize=(20,8))\n",
    "hist.Close.plot()\n",
    "hist.smooth.plot()\n",
    "(hist[target]*100).plot()\n",
    "plt.show()"
   ]
  },
  {
   "cell_type": "markdown",
   "metadata": {},
   "source": [
    "## Feature Engineering"
   ]
  },
  {
   "cell_type": "code",
   "execution_count": 16,
   "metadata": {},
   "outputs": [
    {
     "data": {
      "text/html": [
       "<div>\n",
       "<style scoped>\n",
       "    .dataframe tbody tr th:only-of-type {\n",
       "        vertical-align: middle;\n",
       "    }\n",
       "\n",
       "    .dataframe tbody tr th {\n",
       "        vertical-align: top;\n",
       "    }\n",
       "\n",
       "    .dataframe thead th {\n",
       "        text-align: right;\n",
       "    }\n",
       "</style>\n",
       "<table border=\"1\" class=\"dataframe\">\n",
       "  <thead>\n",
       "    <tr style=\"text-align: right;\">\n",
       "      <th></th>\n",
       "      <th>Close</th>\n",
       "      <th>Open</th>\n",
       "      <th>Low</th>\n",
       "      <th>High</th>\n",
       "    </tr>\n",
       "    <tr>\n",
       "      <th>Date</th>\n",
       "      <th></th>\n",
       "      <th></th>\n",
       "      <th></th>\n",
       "      <th></th>\n",
       "    </tr>\n",
       "  </thead>\n",
       "  <tbody>\n",
       "    <tr>\n",
       "      <th>2018-02-05</th>\n",
       "      <td>1062.39</td>\n",
       "      <td>1100.61</td>\n",
       "      <td>1056.74</td>\n",
       "      <td>1114.99</td>\n",
       "    </tr>\n",
       "    <tr>\n",
       "      <th>2018-02-06</th>\n",
       "      <td>1084.43</td>\n",
       "      <td>1033.98</td>\n",
       "      <td>1030.01</td>\n",
       "      <td>1087.38</td>\n",
       "    </tr>\n",
       "    <tr>\n",
       "      <th>2018-02-07</th>\n",
       "      <td>1055.41</td>\n",
       "      <td>1084.97</td>\n",
       "      <td>1054.62</td>\n",
       "      <td>1086.53</td>\n",
       "    </tr>\n",
       "    <tr>\n",
       "      <th>2018-02-08</th>\n",
       "      <td>1007.71</td>\n",
       "      <td>1059.87</td>\n",
       "      <td>1004.70</td>\n",
       "      <td>1063.93</td>\n",
       "    </tr>\n",
       "    <tr>\n",
       "      <th>2018-02-09</th>\n",
       "      <td>1046.27</td>\n",
       "      <td>1025.88</td>\n",
       "      <td>997.00</td>\n",
       "      <td>1051.72</td>\n",
       "    </tr>\n",
       "  </tbody>\n",
       "</table>\n",
       "</div>"
      ],
      "text/plain": [
       "              Close     Open      Low     High\n",
       "Date                                          \n",
       "2018-02-05  1062.39  1100.61  1056.74  1114.99\n",
       "2018-02-06  1084.43  1033.98  1030.01  1087.38\n",
       "2018-02-07  1055.41  1084.97  1054.62  1086.53\n",
       "2018-02-08  1007.71  1059.87  1004.70  1063.93\n",
       "2018-02-09  1046.27  1025.88   997.00  1051.72"
      ]
     },
     "execution_count": 16,
     "metadata": {},
     "output_type": "execute_result"
    }
   ],
   "source": [
    "data = hist[['Close', 'Open', 'Low', 'High']]\n",
    "data.head()"
   ]
  },
  {
   "cell_type": "code",
   "execution_count": 17,
   "metadata": {},
   "outputs": [
    {
     "data": {
      "text/plain": [
       "503"
      ]
     },
     "execution_count": 17,
     "metadata": {},
     "output_type": "execute_result"
    }
   ],
   "source": [
    "len(data)"
   ]
  },
  {
   "cell_type": "code",
   "execution_count": 18,
   "metadata": {},
   "outputs": [
    {
     "data": {
      "text/html": [
       "<div>\n",
       "<style scoped>\n",
       "    .dataframe tbody tr th:only-of-type {\n",
       "        vertical-align: middle;\n",
       "    }\n",
       "\n",
       "    .dataframe tbody tr th {\n",
       "        vertical-align: top;\n",
       "    }\n",
       "\n",
       "    .dataframe thead th {\n",
       "        text-align: right;\n",
       "    }\n",
       "</style>\n",
       "<table border=\"1\" class=\"dataframe\">\n",
       "  <thead>\n",
       "    <tr style=\"text-align: right;\">\n",
       "      <th></th>\n",
       "      <th>Open</th>\n",
       "      <th>Low</th>\n",
       "      <th>High</th>\n",
       "      <th>MACD_3</th>\n",
       "      <th>PctDiff_3</th>\n",
       "      <th>StdDev_3</th>\n",
       "      <th>MACD_5</th>\n",
       "      <th>PctDiff_5</th>\n",
       "      <th>StdDev_5</th>\n",
       "      <th>MACD_10</th>\n",
       "      <th>...</th>\n",
       "      <th>MACD_30</th>\n",
       "      <th>PctDiff_30</th>\n",
       "      <th>StdDev_30</th>\n",
       "      <th>MACD_45</th>\n",
       "      <th>PctDiff_45</th>\n",
       "      <th>StdDev_45</th>\n",
       "      <th>MACD_60</th>\n",
       "      <th>PctDiff_60</th>\n",
       "      <th>StdDev_60</th>\n",
       "      <th>target</th>\n",
       "    </tr>\n",
       "    <tr>\n",
       "      <th>Date</th>\n",
       "      <th></th>\n",
       "      <th></th>\n",
       "      <th></th>\n",
       "      <th></th>\n",
       "      <th></th>\n",
       "      <th></th>\n",
       "      <th></th>\n",
       "      <th></th>\n",
       "      <th></th>\n",
       "      <th></th>\n",
       "      <th></th>\n",
       "      <th></th>\n",
       "      <th></th>\n",
       "      <th></th>\n",
       "      <th></th>\n",
       "      <th></th>\n",
       "      <th></th>\n",
       "      <th></th>\n",
       "      <th></th>\n",
       "      <th></th>\n",
       "      <th></th>\n",
       "    </tr>\n",
       "  </thead>\n",
       "  <tbody>\n",
       "    <tr>\n",
       "      <th>2018-05-02</th>\n",
       "      <td>1.007748</td>\n",
       "      <td>0.997183</td>\n",
       "      <td>1.017475</td>\n",
       "      <td>0.002349</td>\n",
       "      <td>-0.005263</td>\n",
       "      <td>0.010993</td>\n",
       "      <td>0.005826</td>\n",
       "      <td>0.002982</td>\n",
       "      <td>0.009990</td>\n",
       "      <td>0.018113</td>\n",
       "      <td>...</td>\n",
       "      <td>0.013038</td>\n",
       "      <td>-0.067979</td>\n",
       "      <td>0.024175</td>\n",
       "      <td>0.039128</td>\n",
       "      <td>-0.089138</td>\n",
       "      <td>0.045164</td>\n",
       "      <td>0.043768</td>\n",
       "      <td>-0.035417</td>\n",
       "      <td>0.043447</td>\n",
       "      <td>1</td>\n",
       "    </tr>\n",
       "    <tr>\n",
       "      <th>2018-05-03</th>\n",
       "      <td>0.999094</td>\n",
       "      <td>0.982062</td>\n",
       "      <td>1.004278</td>\n",
       "      <td>0.004612</td>\n",
       "      <td>0.007522</td>\n",
       "      <td>0.008200</td>\n",
       "      <td>0.002266</td>\n",
       "      <td>-0.016574</td>\n",
       "      <td>0.007975</td>\n",
       "      <td>0.011712</td>\n",
       "      <td>...</td>\n",
       "      <td>0.010593</td>\n",
       "      <td>-0.065965</td>\n",
       "      <td>0.022074</td>\n",
       "      <td>0.037194</td>\n",
       "      <td>-0.075631</td>\n",
       "      <td>0.045162</td>\n",
       "      <td>0.042570</td>\n",
       "      <td>-0.056640</td>\n",
       "      <td>0.043761</td>\n",
       "      <td>1</td>\n",
       "    </tr>\n",
       "    <tr>\n",
       "      <th>2018-05-04</th>\n",
       "      <td>0.970133</td>\n",
       "      <td>0.968649</td>\n",
       "      <td>1.000837</td>\n",
       "      <td>-0.015747</td>\n",
       "      <td>0.009753</td>\n",
       "      <td>0.013638</td>\n",
       "      <td>-0.017568</td>\n",
       "      <td>0.018601</td>\n",
       "      <td>0.012443</td>\n",
       "      <td>-0.014569</td>\n",
       "      <td>...</td>\n",
       "      <td>-0.013226</td>\n",
       "      <td>-0.002046</td>\n",
       "      <td>0.021509</td>\n",
       "      <td>0.012387</td>\n",
       "      <td>-0.019420</td>\n",
       "      <td>0.044129</td>\n",
       "      <td>0.017998</td>\n",
       "      <td>-0.004196</td>\n",
       "      <td>0.042759</td>\n",
       "      <td>1</td>\n",
       "    </tr>\n",
       "    <tr>\n",
       "      <th>2018-05-07</th>\n",
       "      <td>0.994743</td>\n",
       "      <td>0.991326</td>\n",
       "      <td>1.005229</td>\n",
       "      <td>-0.013095</td>\n",
       "      <td>0.031535</td>\n",
       "      <td>0.016263</td>\n",
       "      <td>-0.017696</td>\n",
       "      <td>0.038586</td>\n",
       "      <td>0.014000</td>\n",
       "      <td>-0.023792</td>\n",
       "      <td>...</td>\n",
       "      <td>-0.020070</td>\n",
       "      <td>0.031063</td>\n",
       "      <td>0.021590</td>\n",
       "      <td>0.003785</td>\n",
       "      <td>-0.023295</td>\n",
       "      <td>0.043685</td>\n",
       "      <td>0.010683</td>\n",
       "      <td>0.048846</td>\n",
       "      <td>0.041735</td>\n",
       "      <td>1</td>\n",
       "    </tr>\n",
       "    <tr>\n",
       "      <th>2018-05-08</th>\n",
       "      <td>1.005696</td>\n",
       "      <td>0.993435</td>\n",
       "      <td>1.006272</td>\n",
       "      <td>-0.002116</td>\n",
       "      <td>0.030503</td>\n",
       "      <td>0.004396</td>\n",
       "      <td>-0.013518</td>\n",
       "      <td>0.016853</td>\n",
       "      <td>0.015919</td>\n",
       "      <td>-0.019594</td>\n",
       "      <td>...</td>\n",
       "      <td>-0.019123</td>\n",
       "      <td>0.004251</td>\n",
       "      <td>0.021723</td>\n",
       "      <td>0.003851</td>\n",
       "      <td>-0.034168</td>\n",
       "      <td>0.043492</td>\n",
       "      <td>0.011708</td>\n",
       "      <td>0.011638</td>\n",
       "      <td>0.041687</td>\n",
       "      <td>1</td>\n",
       "    </tr>\n",
       "  </tbody>\n",
       "</table>\n",
       "<p>5 rows × 28 columns</p>\n",
       "</div>"
      ],
      "text/plain": [
       "                Open       Low      High    MACD_3  PctDiff_3  StdDev_3  \\\n",
       "Date                                                                      \n",
       "2018-05-02  1.007748  0.997183  1.017475  0.002349  -0.005263  0.010993   \n",
       "2018-05-03  0.999094  0.982062  1.004278  0.004612   0.007522  0.008200   \n",
       "2018-05-04  0.970133  0.968649  1.000837 -0.015747   0.009753  0.013638   \n",
       "2018-05-07  0.994743  0.991326  1.005229 -0.013095   0.031535  0.016263   \n",
       "2018-05-08  1.005696  0.993435  1.006272 -0.002116   0.030503  0.004396   \n",
       "\n",
       "              MACD_5  PctDiff_5  StdDev_5   MACD_10  ...   MACD_30  \\\n",
       "Date                                                 ...             \n",
       "2018-05-02  0.005826   0.002982  0.009990  0.018113  ...  0.013038   \n",
       "2018-05-03  0.002266  -0.016574  0.007975  0.011712  ...  0.010593   \n",
       "2018-05-04 -0.017568   0.018601  0.012443 -0.014569  ... -0.013226   \n",
       "2018-05-07 -0.017696   0.038586  0.014000 -0.023792  ... -0.020070   \n",
       "2018-05-08 -0.013518   0.016853  0.015919 -0.019594  ... -0.019123   \n",
       "\n",
       "            PctDiff_30  StdDev_30   MACD_45  PctDiff_45  StdDev_45   MACD_60  \\\n",
       "Date                                                                           \n",
       "2018-05-02   -0.067979   0.024175  0.039128   -0.089138   0.045164  0.043768   \n",
       "2018-05-03   -0.065965   0.022074  0.037194   -0.075631   0.045162  0.042570   \n",
       "2018-05-04   -0.002046   0.021509  0.012387   -0.019420   0.044129  0.017998   \n",
       "2018-05-07    0.031063   0.021590  0.003785   -0.023295   0.043685  0.010683   \n",
       "2018-05-08    0.004251   0.021723  0.003851   -0.034168   0.043492  0.011708   \n",
       "\n",
       "            PctDiff_60  StdDev_60  target  \n",
       "Date                                       \n",
       "2018-05-02   -0.035417   0.043447       1  \n",
       "2018-05-03   -0.056640   0.043761       1  \n",
       "2018-05-04   -0.004196   0.042759       1  \n",
       "2018-05-07    0.048846   0.041735       1  \n",
       "2018-05-08    0.011638   0.041687       1  \n",
       "\n",
       "[5 rows x 28 columns]"
      ]
     },
     "execution_count": 18,
     "metadata": {},
     "output_type": "execute_result"
    }
   ],
   "source": [
    "windows = [3, 5, 10, 15, 20, 30, 45, 60]\n",
    "\n",
    "for i in windows:\n",
    "    ma = data.Close.rolling(i).mean()\n",
    "    data['MACD_'+str(i)] = ma - data.Close\n",
    "    data['PctDiff_'+str(i)] = data.Close.diff(i)\n",
    "    data['StdDev_'+str(i)] = data.Close.rolling(i).std()\n",
    "\n",
    "factor = data.Close.copy()\n",
    "for c in data.columns.tolist():\n",
    "    data[c] = data[c] / factor\n",
    "    \n",
    "data[target] = hist[target]\n",
    "data = data.dropna()\n",
    "del data['Close']\n",
    "\n",
    "used_cols = [c for c in data.columns.tolist() if c not in [target]]\n",
    "data.head()"
   ]
  },
  {
   "cell_type": "code",
   "execution_count": 19,
   "metadata": {},
   "outputs": [
    {
     "data": {
      "text/plain": [
       "443"
      ]
     },
     "execution_count": 19,
     "metadata": {},
     "output_type": "execute_result"
    }
   ],
   "source": [
    "len(data)"
   ]
  },
  {
   "cell_type": "code",
   "execution_count": 20,
   "metadata": {},
   "outputs": [],
   "source": [
    "# FRK: drop last row(s) so it splits into three without a remainder...\n",
    "remainder = len(data) % 3\n",
    "if remainder > 0:\n",
    "   data = data[:-remainder]"
   ]
  },
  {
   "cell_type": "code",
   "execution_count": 21,
   "metadata": {},
   "outputs": [
    {
     "data": {
      "text/plain": [
       "441"
      ]
     },
     "execution_count": 21,
     "metadata": {},
     "output_type": "execute_result"
    }
   ],
   "source": [
    "len(data)"
   ]
  },
  {
   "cell_type": "markdown",
   "metadata": {},
   "source": [
    "## Baseline: Scorecard"
   ]
  },
  {
   "cell_type": "code",
   "execution_count": 22,
   "metadata": {},
   "outputs": [
    {
     "data": {
      "text/plain": [
       "7919"
      ]
     },
     "execution_count": 22,
     "metadata": {},
     "output_type": "execute_result"
    }
   ],
   "source": [
    "gc.collect()"
   ]
  },
  {
   "cell_type": "code",
   "execution_count": 23,
   "metadata": {},
   "outputs": [
    {
     "data": {
      "text/plain": [
       "(0.7911644535240041, 0.09920887215706915)"
      ]
     },
     "execution_count": 23,
     "metadata": {},
     "output_type": "execute_result"
    }
   ],
   "source": [
    "def stringify(data):\n",
    "    data = pd.DataFrame(data)\n",
    "    for c in data.columns.tolist():\n",
    "        data[c] = data[c].astype(str)\n",
    "    return data #.values\n",
    "\n",
    "\n",
    "encoder = WOEEncoder()\n",
    "binner = KBinsDiscretizer(n_bins=5, encode='ordinal')\n",
    "objectify = FunctionTransformer(func=stringify, check_inverse=False, validate=False)\n",
    "imputer = SimpleImputer(strategy='constant', fill_value=0.0)\n",
    "pca = PCA(n_components=2)\n",
    "clf = LogisticRegression(class_weight='balanced', random_state=42)\n",
    "# pipe = make_pipeline(pca, binner, objectify, encoder, imputer, clf)\n",
    "pipe = make_pipeline(binner, objectify, encoder, imputer, clf)\n",
    "\n",
    "X, y = data[used_cols].values, data[target].values\n",
    "scores = cross_val_score(pipe, X, y, cv=5, scoring=SCORING)\n",
    "scores.mean(), scores.std()"
   ]
  },
  {
   "cell_type": "markdown",
   "metadata": {},
   "source": [
    "## Transform Data"
   ]
  },
  {
   "cell_type": "code",
   "execution_count": 24,
   "metadata": {},
   "outputs": [],
   "source": [
    "X = Pipeline(pipe.steps[:-1]).fit_transform(X, y) #.values"
   ]
  },
  {
   "cell_type": "code",
   "execution_count": 25,
   "metadata": {},
   "outputs": [],
   "source": [
    "#print(X)"
   ]
  },
  {
   "cell_type": "markdown",
   "metadata": {},
   "source": [
    "## Prep for HMM (in SeqLearn)"
   ]
  },
  {
   "cell_type": "code",
   "execution_count": 26,
   "metadata": {},
   "outputs": [
    {
     "data": {
      "text/plain": [
       "True"
      ]
     },
     "execution_count": 26,
     "metadata": {},
     "output_type": "execute_result"
    }
   ],
   "source": [
    "quot = 3\n",
    "length = y.shape[0]\n",
    "div = length//quot\n",
    "remainder = length % quot\n",
    "length == div*quot + remainder"
   ]
  },
  {
   "cell_type": "code",
   "execution_count": 27,
   "metadata": {},
   "outputs": [
    {
     "name": "stdout",
     "output_type": "stream",
     "text": [
      "441 147 0\n"
     ]
    }
   ],
   "source": [
    "print(length, div, remainder)"
   ]
  },
  {
   "cell_type": "code",
   "execution_count": 28,
   "metadata": {},
   "outputs": [
    {
     "data": {
      "text/plain": [
       "[147, 147, 147]"
      ]
     },
     "execution_count": 28,
     "metadata": {},
     "output_type": "execute_result"
    }
   ],
   "source": [
    "lengths = [div]*quot #+ [remainder]\n",
    "lengths"
   ]
  },
  {
   "cell_type": "markdown",
   "metadata": {},
   "source": [
    "## Hidden Markov Model (w/ SeqLearn)"
   ]
  },
  {
   "cell_type": "code",
   "execution_count": 29,
   "metadata": {},
   "outputs": [
    {
     "data": {
      "text/plain": [
       "MultinomialHMM(alpha=10000.0, decode='viterbi')"
      ]
     },
     "execution_count": 29,
     "metadata": {},
     "output_type": "execute_result"
    }
   ],
   "source": [
    "hmm = MultinomialHMM(alpha=1e4)\n",
    "hmm.fit(X, y, lengths)"
   ]
  },
  {
   "cell_type": "code",
   "execution_count": 30,
   "metadata": {},
   "outputs": [],
   "source": [
    "preds = hmm.predict(X, lengths)"
   ]
  },
  {
   "cell_type": "code",
   "execution_count": 31,
   "metadata": {},
   "outputs": [],
   "source": [
    "data['pred'] = preds"
   ]
  },
  {
   "cell_type": "code",
   "execution_count": 32,
   "metadata": {},
   "outputs": [
    {
     "data": {
      "image/png": "[encoded data removed]",
      "text/plain": [
       "<Figure size 1440x576 with 1 Axes>"
      ]
     },
     "metadata": {
      "needs_background": "light"
     },
     "output_type": "display_data"
    }
   ],
   "source": [
    "(data[[target, 'pred']]*100).plot(figsize=(20,8))\n",
    "hist.Close.plot()\n",
    "#hist.smooth.plot() # added for comparison\n",
    "plt.show()"
   ]
  },
  {
   "cell_type": "code",
   "execution_count": 33,
   "metadata": {},
   "outputs": [
    {
     "data": {
      "text/plain": [
       "<matplotlib.axes._subplots.AxesSubplot at 0x7fb183072b50>"
      ]
     },
     "execution_count": 33,
     "metadata": {},
     "output_type": "execute_result"
    },
    {
     "data": {
      "image/png": "[encoded data removed]",
      "text/plain": [
       "<Figure size 1440x576 with 1 Axes>"
      ]
     },
     "metadata": {
      "needs_background": "light"
     },
     "output_type": "display_data"
    }
   ],
   "source": [
    "(data[['pred']]*100).plot(figsize=(20,8))\n",
    "hist.smooth.plot()\n",
    "hist.Close.plot()"
   ]
  },
  {
   "cell_type": "code",
   "execution_count": 34,
   "metadata": {},
   "outputs": [
    {
     "data": {
      "text/plain": [
       "<matplotlib.axes._subplots.AxesSubplot at 0x7fb1a027dc90>"
      ]
     },
     "execution_count": 34,
     "metadata": {},
     "output_type": "execute_result"
    },
    {
     "data": {
      "image/png": "[encoded data removed]",
      "text/plain": [
       "<Figure size 1440x576 with 1 Axes>"
      ]
     },
     "metadata": {
      "needs_background": "light"
     },
     "output_type": "display_data"
    }
   ],
   "source": [
    "(data[[target]]*100).plot(figsize=(20,8))\n",
    "hist.smooth.plot()\n",
    "hist.Close.plot()"
   ]
  },
  {
   "cell_type": "markdown",
   "metadata": {},
   "source": [
    "The predicted labels actually look better than the originally generated labels. \n",
    "Let's test the hypothesis that they are less noisy by using this new target to train the scorecard baseline again.\n",
    "\n",
    "## Data Prep + Scorecard Fidelity Test"
   ]
  },
  {
   "cell_type": "code",
   "execution_count": 35,
   "metadata": {},
   "outputs": [
    {
     "data": {
      "text/plain": [
       "0"
      ]
     },
     "execution_count": 35,
     "metadata": {},
     "output_type": "execute_result"
    }
   ],
   "source": [
    "data['pred'].isna().sum()"
   ]
  },
  {
   "cell_type": "code",
   "execution_count": 36,
   "metadata": {},
   "outputs": [],
   "source": [
    "hist[target] = data['pred'].fillna(0)\n",
    "hist[target] = hist[target].fillna(0)"
   ]
  },
  {
   "cell_type": "code",
   "execution_count": 37,
   "metadata": {},
   "outputs": [
    {
     "data": {
      "text/html": [
       "<div>\n",
       "<style scoped>\n",
       "    .dataframe tbody tr th:only-of-type {\n",
       "        vertical-align: middle;\n",
       "    }\n",
       "\n",
       "    .dataframe tbody tr th {\n",
       "        vertical-align: top;\n",
       "    }\n",
       "\n",
       "    .dataframe thead th {\n",
       "        text-align: right;\n",
       "    }\n",
       "</style>\n",
       "<table border=\"1\" class=\"dataframe\">\n",
       "  <thead>\n",
       "    <tr style=\"text-align: right;\">\n",
       "      <th></th>\n",
       "      <th>Open</th>\n",
       "      <th>Low</th>\n",
       "      <th>High</th>\n",
       "      <th>MACD_3</th>\n",
       "      <th>PctDiff_3</th>\n",
       "      <th>StdDev_3</th>\n",
       "      <th>MACD_5</th>\n",
       "      <th>PctDiff_5</th>\n",
       "      <th>StdDev_5</th>\n",
       "      <th>MACD_10</th>\n",
       "      <th>...</th>\n",
       "      <th>PctDiff_30</th>\n",
       "      <th>StdDev_30</th>\n",
       "      <th>MACD_45</th>\n",
       "      <th>PctDiff_45</th>\n",
       "      <th>StdDev_45</th>\n",
       "      <th>MACD_60</th>\n",
       "      <th>PctDiff_60</th>\n",
       "      <th>StdDev_60</th>\n",
       "      <th>target</th>\n",
       "      <th>pred</th>\n",
       "    </tr>\n",
       "    <tr>\n",
       "      <th>Date</th>\n",
       "      <th></th>\n",
       "      <th></th>\n",
       "      <th></th>\n",
       "      <th></th>\n",
       "      <th></th>\n",
       "      <th></th>\n",
       "      <th></th>\n",
       "      <th></th>\n",
       "      <th></th>\n",
       "      <th></th>\n",
       "      <th></th>\n",
       "      <th></th>\n",
       "      <th></th>\n",
       "      <th></th>\n",
       "      <th></th>\n",
       "      <th></th>\n",
       "      <th></th>\n",
       "      <th></th>\n",
       "      <th></th>\n",
       "      <th></th>\n",
       "      <th></th>\n",
       "    </tr>\n",
       "  </thead>\n",
       "  <tbody>\n",
       "    <tr>\n",
       "      <th>2018-05-02</th>\n",
       "      <td>1.007748</td>\n",
       "      <td>0.997183</td>\n",
       "      <td>1.017475</td>\n",
       "      <td>0.002349</td>\n",
       "      <td>-0.005263</td>\n",
       "      <td>0.010993</td>\n",
       "      <td>0.005826</td>\n",
       "      <td>0.002982</td>\n",
       "      <td>0.009990</td>\n",
       "      <td>0.018113</td>\n",
       "      <td>...</td>\n",
       "      <td>-0.067979</td>\n",
       "      <td>0.024175</td>\n",
       "      <td>0.039128</td>\n",
       "      <td>-0.089138</td>\n",
       "      <td>0.045164</td>\n",
       "      <td>0.043768</td>\n",
       "      <td>-0.035417</td>\n",
       "      <td>0.043447</td>\n",
       "      <td>1</td>\n",
       "      <td>1</td>\n",
       "    </tr>\n",
       "    <tr>\n",
       "      <th>2018-05-03</th>\n",
       "      <td>0.999094</td>\n",
       "      <td>0.982062</td>\n",
       "      <td>1.004278</td>\n",
       "      <td>0.004612</td>\n",
       "      <td>0.007522</td>\n",
       "      <td>0.008200</td>\n",
       "      <td>0.002266</td>\n",
       "      <td>-0.016574</td>\n",
       "      <td>0.007975</td>\n",
       "      <td>0.011712</td>\n",
       "      <td>...</td>\n",
       "      <td>-0.065965</td>\n",
       "      <td>0.022074</td>\n",
       "      <td>0.037194</td>\n",
       "      <td>-0.075631</td>\n",
       "      <td>0.045162</td>\n",
       "      <td>0.042570</td>\n",
       "      <td>-0.056640</td>\n",
       "      <td>0.043761</td>\n",
       "      <td>1</td>\n",
       "      <td>1</td>\n",
       "    </tr>\n",
       "    <tr>\n",
       "      <th>2018-05-04</th>\n",
       "      <td>0.970133</td>\n",
       "      <td>0.968649</td>\n",
       "      <td>1.000837</td>\n",
       "      <td>-0.015747</td>\n",
       "      <td>0.009753</td>\n",
       "      <td>0.013638</td>\n",
       "      <td>-0.017568</td>\n",
       "      <td>0.018601</td>\n",
       "      <td>0.012443</td>\n",
       "      <td>-0.014569</td>\n",
       "      <td>...</td>\n",
       "      <td>-0.002046</td>\n",
       "      <td>0.021509</td>\n",
       "      <td>0.012387</td>\n",
       "      <td>-0.019420</td>\n",
       "      <td>0.044129</td>\n",
       "      <td>0.017998</td>\n",
       "      <td>-0.004196</td>\n",
       "      <td>0.042759</td>\n",
       "      <td>1</td>\n",
       "      <td>1</td>\n",
       "    </tr>\n",
       "    <tr>\n",
       "      <th>2018-05-07</th>\n",
       "      <td>0.994743</td>\n",
       "      <td>0.991326</td>\n",
       "      <td>1.005229</td>\n",
       "      <td>-0.013095</td>\n",
       "      <td>0.031535</td>\n",
       "      <td>0.016263</td>\n",
       "      <td>-0.017696</td>\n",
       "      <td>0.038586</td>\n",
       "      <td>0.014000</td>\n",
       "      <td>-0.023792</td>\n",
       "      <td>...</td>\n",
       "      <td>0.031063</td>\n",
       "      <td>0.021590</td>\n",
       "      <td>0.003785</td>\n",
       "      <td>-0.023295</td>\n",
       "      <td>0.043685</td>\n",
       "      <td>0.010683</td>\n",
       "      <td>0.048846</td>\n",
       "      <td>0.041735</td>\n",
       "      <td>1</td>\n",
       "      <td>1</td>\n",
       "    </tr>\n",
       "    <tr>\n",
       "      <th>2018-05-08</th>\n",
       "      <td>1.005696</td>\n",
       "      <td>0.993435</td>\n",
       "      <td>1.006272</td>\n",
       "      <td>-0.002116</td>\n",
       "      <td>0.030503</td>\n",
       "      <td>0.004396</td>\n",
       "      <td>-0.013518</td>\n",
       "      <td>0.016853</td>\n",
       "      <td>0.015919</td>\n",
       "      <td>-0.019594</td>\n",
       "      <td>...</td>\n",
       "      <td>0.004251</td>\n",
       "      <td>0.021723</td>\n",
       "      <td>0.003851</td>\n",
       "      <td>-0.034168</td>\n",
       "      <td>0.043492</td>\n",
       "      <td>0.011708</td>\n",
       "      <td>0.011638</td>\n",
       "      <td>0.041687</td>\n",
       "      <td>1</td>\n",
       "      <td>1</td>\n",
       "    </tr>\n",
       "  </tbody>\n",
       "</table>\n",
       "<p>5 rows × 29 columns</p>\n",
       "</div>"
      ],
      "text/plain": [
       "                Open       Low      High    MACD_3  PctDiff_3  StdDev_3  \\\n",
       "Date                                                                      \n",
       "2018-05-02  1.007748  0.997183  1.017475  0.002349  -0.005263  0.010993   \n",
       "2018-05-03  0.999094  0.982062  1.004278  0.004612   0.007522  0.008200   \n",
       "2018-05-04  0.970133  0.968649  1.000837 -0.015747   0.009753  0.013638   \n",
       "2018-05-07  0.994743  0.991326  1.005229 -0.013095   0.031535  0.016263   \n",
       "2018-05-08  1.005696  0.993435  1.006272 -0.002116   0.030503  0.004396   \n",
       "\n",
       "              MACD_5  PctDiff_5  StdDev_5   MACD_10  ...  PctDiff_30  \\\n",
       "Date                                                 ...               \n",
       "2018-05-02  0.005826   0.002982  0.009990  0.018113  ...   -0.067979   \n",
       "2018-05-03  0.002266  -0.016574  0.007975  0.011712  ...   -0.065965   \n",
       "2018-05-04 -0.017568   0.018601  0.012443 -0.014569  ...   -0.002046   \n",
       "2018-05-07 -0.017696   0.038586  0.014000 -0.023792  ...    0.031063   \n",
       "2018-05-08 -0.013518   0.016853  0.015919 -0.019594  ...    0.004251   \n",
       "\n",
       "            StdDev_30   MACD_45  PctDiff_45  StdDev_45   MACD_60  PctDiff_60  \\\n",
       "Date                                                                           \n",
       "2018-05-02   0.024175  0.039128   -0.089138   0.045164  0.043768   -0.035417   \n",
       "2018-05-03   0.022074  0.037194   -0.075631   0.045162  0.042570   -0.056640   \n",
       "2018-05-04   0.021509  0.012387   -0.019420   0.044129  0.017998   -0.004196   \n",
       "2018-05-07   0.021590  0.003785   -0.023295   0.043685  0.010683    0.048846   \n",
       "2018-05-08   0.021723  0.003851   -0.034168   0.043492  0.011708    0.011638   \n",
       "\n",
       "            StdDev_60  target  pred  \n",
       "Date                                 \n",
       "2018-05-02   0.043447       1     1  \n",
       "2018-05-03   0.043761       1     1  \n",
       "2018-05-04   0.042759       1     1  \n",
       "2018-05-07   0.041735       1     1  \n",
       "2018-05-08   0.041687       1     1  \n",
       "\n",
       "[5 rows x 29 columns]"
      ]
     },
     "execution_count": 37,
     "metadata": {},
     "output_type": "execute_result"
    }
   ],
   "source": [
    "data.head()"
   ]
  },
  {
   "cell_type": "code",
   "execution_count": 38,
   "metadata": {},
   "outputs": [
    {
     "data": {
      "text/plain": [
       "(0.9301327885597548, 0.02947269586432492)"
      ]
     },
     "execution_count": 38,
     "metadata": {},
     "output_type": "execute_result"
    }
   ],
   "source": [
    "gc.collect()\n",
    "\n",
    "data = hist[['Close', 'Open', 'Low', 'High']]\n",
    "# windows = [3, 5, 10, 15, 20, 30, 45, 60]\n",
    "windows = [3, 5, 10, 15, 20, 30, 45, 60]\n",
    "\n",
    "for i in windows:\n",
    "    ma = data.Close.rolling(i).mean()\n",
    "    data['MACD_'+str(i)] = ma - data.Close\n",
    "    data['PctDiff_'+str(i)] = data.Close.diff(i)\n",
    "    data['StdDev_'+str(i)] = data.Close.rolling(i).std()\n",
    "\n",
    "factor = data.Close.copy()\n",
    "for c in data.columns.tolist():\n",
    "    data[c] = data[c] / factor\n",
    "    \n",
    "data[target] = hist[target]\n",
    "data = data.dropna()\n",
    "del data['Close']\n",
    "\n",
    "used_cols = [c for c in data.columns.tolist() if c not in [target]]\n",
    "X, y = data[used_cols].values, data.target.values\n",
    "scores = cross_val_score(pipe, X, y, cv=5, scoring=SCORING)\n",
    "scores.mean(), scores.std()"
   ]
  },
  {
   "cell_type": "code",
   "execution_count": 39,
   "metadata": {},
   "outputs": [
    {
     "data": {
      "text/plain": [
       "array([0.94382022, 0.92134831, 0.87640449, 0.95454545, 0.95454545])"
      ]
     },
     "execution_count": 39,
     "metadata": {},
     "output_type": "execute_result"
    }
   ],
   "source": [
    "scores"
   ]
  },
  {
   "cell_type": "code",
   "execution_count": 40,
   "metadata": {},
   "outputs": [
    {
     "name": "stdout",
     "output_type": "stream",
     "text": [
      "['Open', 'Low', 'High', 'MACD_3', 'PctDiff_3', 'StdDev_3', 'MACD_5', 'PctDiff_5', 'StdDev_5', 'MACD_10', 'PctDiff_10', 'StdDev_10', 'MACD_15', 'PctDiff_15', 'StdDev_15', 'MACD_20', 'PctDiff_20', 'StdDev_20', 'MACD_30', 'PctDiff_30', 'StdDev_30', 'MACD_45', 'PctDiff_45', 'StdDev_45', 'MACD_60', 'PctDiff_60', 'StdDev_60'] 27\n",
      "\n",
      "[[ 1.00774816  0.99718337  1.01747478 ...  0.04376785 -0.03541738\n",
      "   0.04344735]\n",
      " [ 0.99909383  0.98206178  1.0042775  ...  0.04256959 -0.05664036\n",
      "   0.04376092]\n",
      " [ 0.97013321  0.96864891  1.0008373  ...  0.01799778 -0.004196\n",
      "   0.04275899]\n",
      " ...\n",
      " [ 1.02448387  0.99600776  1.02574715 ... -0.04828527  0.09992462\n",
      "   0.04234758]\n",
      " [ 0.98586942  0.98246999  1.00249562 ... -0.07811693  0.12893565\n",
      "   0.04170338]\n",
      " [ 1.00628195  0.98382466  1.0150338  ... -0.05261679  0.1068209\n",
      "   0.04278049]] 27\n"
     ]
    }
   ],
   "source": [
    "print(used_cols, len(used_cols))\n",
    "print('')\n",
    "print(X, len(X[0]))"
   ]
  },
  {
   "cell_type": "code",
   "execution_count": 41,
   "metadata": {},
   "outputs": [
    {
     "data": {
      "text/plain": [
       "Pipeline(memory=None,\n",
       "         steps=[('kbinsdiscretizer',\n",
       "                 KBinsDiscretizer(encode='ordinal', n_bins=5,\n",
       "                                  strategy='quantile')),\n",
       "                ('functiontransformer',\n",
       "                 FunctionTransformer(accept_sparse=False, check_inverse=False,\n",
       "                                     func=<function stringify at 0x7fb160942b00>,\n",
       "                                     inv_kw_args=None, inverse_func=None,\n",
       "                                     kw_args=None, validate=False)),\n",
       "                ('woeencoder',\n",
       "                 WOEEncoder(cols=[0, 1, 2, 3, 4, 5, 6, 7, 8...\n",
       "                 SimpleImputer(add_indicator=False, copy=True, fill_value=0.0,\n",
       "                               missing_values=nan, strategy='constant',\n",
       "                               verbose=0)),\n",
       "                ('logisticregression',\n",
       "                 LogisticRegression(C=1.0, class_weight='balanced', dual=False,\n",
       "                                    fit_intercept=True, intercept_scaling=1,\n",
       "                                    l1_ratio=None, max_iter=100,\n",
       "                                    multi_class='auto', n_jobs=None,\n",
       "                                    penalty='l2', random_state=42,\n",
       "                                    solver='lbfgs', tol=0.0001, verbose=0,\n",
       "                                    warm_start=False))],\n",
       "         verbose=False)"
      ]
     },
     "execution_count": 41,
     "metadata": {},
     "output_type": "execute_result"
    }
   ],
   "source": [
    "pipe"
   ]
  },
  {
   "cell_type": "code",
   "execution_count": 42,
   "metadata": {},
   "outputs": [],
   "source": [
    "X_train, X_test, y_train, y_test = train_test_split(X, y, test_size=0.25)\n",
    "\n",
    "pipe.fit(X_train, y_train)\n",
    "\n",
    "train_preds = pipe.predict(X_train)\n",
    "test_preds = pipe.predict(X_test)"
   ]
  },
  {
   "cell_type": "code",
   "execution_count": 43,
   "metadata": {},
   "outputs": [
    {
     "name": "stdout",
     "output_type": "stream",
     "text": [
      "[[ 1.00328083  0.9960934   1.01410667 ... -0.04696337  0.04213227\n",
      "   0.02609112]\n",
      " [ 0.99480928  0.99480121  1.00451261 ... -0.05247992  0.12203431\n",
      "   0.0344684 ]\n",
      " [ 1.01464797  0.9963809   1.01604497 ... -0.03585282  0.12152182\n",
      "   0.04596368]\n",
      " ...\n",
      " [ 0.98412592  0.97979815  1.00079833 ...  0.01441329  0.02581534\n",
      "   0.03638927]\n",
      " [ 0.99780325  0.99337995  1.00380523 ... -0.05703433  0.08285116\n",
      "   0.0325594 ]\n",
      " [ 1.00236425  0.98464214  1.02331034 ...  0.06704443 -0.1663866\n",
      "   0.05071087]] 27\n"
     ]
    }
   ],
   "source": [
    "print(X_train, len(X_train[0]))"
   ]
  },
  {
   "cell_type": "code",
   "execution_count": 44,
   "metadata": {},
   "outputs": [
    {
     "name": "stdout",
     "output_type": "stream",
     "text": [
      "Accuracy:\n",
      "=========\n",
      "TRAIN: 1.0\n",
      "TEST: 0.954954954954955\n"
     ]
    }
   ],
   "source": [
    "print(\"Accuracy:\"); print(\"=\"*len(\"Accuracy:\"))\n",
    "print(\"TRAIN:\", accuracy_score(y_train, train_preds))\n",
    "print(\"TEST:\", accuracy_score(y_test, test_preds))"
   ]
  },
  {
   "cell_type": "code",
   "execution_count": 45,
   "metadata": {},
   "outputs": [
    {
     "name": "stdout",
     "output_type": "stream",
     "text": [
      "Balanced Accuracy:\n",
      "==================\n",
      "TRAIN: 1.0\n",
      "TEST: 0.9511077158135981\n"
     ]
    }
   ],
   "source": [
    "print(\"Balanced Accuracy:\"); print(\"=\"*len(\"Balanced Accuracy:\"))\n",
    "print(\"TRAIN:\", balanced_accuracy_score(y_train, train_preds))\n",
    "print(\"TEST:\", balanced_accuracy_score(y_test, test_preds))"
   ]
  },
  {
   "cell_type": "code",
   "execution_count": 46,
   "metadata": {},
   "outputs": [
    {
     "name": "stdout",
     "output_type": "stream",
     "text": [
      "TRAIN:\n",
      "[[237   0]\n",
      " [  0  95]]\n",
      "\n",
      "TP/(TP+FP)= 100.0\n",
      "\n",
      "TEST:\n",
      "[[74  3]\n",
      " [ 2 32]]\n",
      "\n",
      "TP/(TP+FP)= 94.12\n"
     ]
    }
   ],
   "source": [
    "print(\"TRAIN:\")\n",
    "conf_mat = confusion_matrix(y_train, train_preds)\n",
    "tn, fn, fp, tp = conf_mat.ravel()\n",
    "print(conf_mat)\n",
    "print('')\n",
    "print(\"TP/(TP+FP)=\", round( (tp/(tp+fp))*100, 2))\n",
    "\n",
    "print('')\n",
    "\n",
    "print(\"TEST:\")\n",
    "conf_mat = confusion_matrix(y_test, test_preds)\n",
    "tn, fn, fp, tp = conf_mat.ravel()\n",
    "print(conf_mat)\n",
    "print('')\n",
    "print(\"TP/(TP+FP)=\", round( (tp/(tp+fp))*100, 2))"
   ]
  },
  {
   "cell_type": "code",
   "execution_count": 47,
   "metadata": {},
   "outputs": [
    {
     "data": {
      "text/plain": [
       "array([[ 0.24451056,  0.641298  , -0.31044942,  0.44921692, -0.14541477,\n",
       "        -0.18115017,  0.19820636,  0.14761249,  0.91770103, -0.45845615,\n",
       "         0.2526825 ,  0.65490043,  0.14940501,  0.20139769,  2.00042907,\n",
       "         0.32748556,  0.09276016,  0.63112858, -0.54492029, -0.53944414,\n",
       "         0.34284838,  1.06248829,  1.10399119,  0.03667778,  0.91414512,\n",
       "         0.63472068,  0.21832017]])"
      ]
     },
     "execution_count": 47,
     "metadata": {},
     "output_type": "execute_result"
    }
   ],
   "source": [
    "coeffs = pipe['logisticregression'].coef_\n",
    "coeffs"
   ]
  },
  {
   "cell_type": "markdown",
   "metadata": {},
   "source": [
    "Frank: why does this have only two column entries? This should be 27 entries as used_cols has 27 entries... This turns out to be due to PCA as we bring it back to two 'dimensions'. I took out the PCA and now it works as expected."
   ]
  },
  {
   "cell_type": "code",
   "execution_count": 48,
   "metadata": {},
   "outputs": [
    {
     "data": {
      "text/plain": [
       "[array([[ True,  True,  True,  True,  True,  True,  True,  True,  True,\n",
       "          True,  True,  True,  True,  True,  True,  True,  True,  True,\n",
       "          True,  True,  True,  True,  True,  True,  True,  True,  True]])]"
      ]
     },
     "execution_count": 48,
     "metadata": {},
     "output_type": "execute_result"
    }
   ],
   "source": [
    "key = [np.abs(coeffs) > 0]\n",
    "key"
   ]
  },
  {
   "cell_type": "code",
   "execution_count": 49,
   "metadata": {},
   "outputs": [
    {
     "name": "stdout",
     "output_type": "stream",
     "text": [
      "['Open', 'Low', 'High', 'MACD_3', 'PctDiff_3', 'StdDev_3', 'MACD_5', 'PctDiff_5', 'StdDev_5', 'MACD_10', 'PctDiff_10', 'StdDev_10', 'MACD_15', 'PctDiff_15', 'StdDev_15', 'MACD_20', 'PctDiff_20', 'StdDev_20', 'MACD_30', 'PctDiff_30', 'StdDev_30', 'MACD_45', 'PctDiff_45', 'StdDev_45', 'MACD_60', 'PctDiff_60', 'StdDev_60'] 27 1\n"
     ]
    }
   ],
   "source": [
    "print(used_cols, len(used_cols), len(key[0]))"
   ]
  },
  {
   "cell_type": "code",
   "execution_count": 50,
   "metadata": {},
   "outputs": [
    {
     "data": {
      "text/plain": [
       "(332, 27)"
      ]
     },
     "execution_count": 50,
     "metadata": {},
     "output_type": "execute_result"
    }
   ],
   "source": [
    "X_train.shape"
   ]
  },
  {
   "cell_type": "code",
   "execution_count": 51,
   "metadata": {},
   "outputs": [
    {
     "data": {
      "text/html": [
       "<div>\n",
       "<style scoped>\n",
       "    .dataframe tbody tr th:only-of-type {\n",
       "        vertical-align: middle;\n",
       "    }\n",
       "\n",
       "    .dataframe tbody tr th {\n",
       "        vertical-align: top;\n",
       "    }\n",
       "\n",
       "    .dataframe thead th {\n",
       "        text-align: right;\n",
       "    }\n",
       "</style>\n",
       "<table border=\"1\" class=\"dataframe\">\n",
       "  <thead>\n",
       "    <tr style=\"text-align: right;\">\n",
       "      <th></th>\n",
       "      <th>0</th>\n",
       "    </tr>\n",
       "  </thead>\n",
       "  <tbody>\n",
       "    <tr>\n",
       "      <th>0</th>\n",
       "      <td>Open</td>\n",
       "    </tr>\n",
       "    <tr>\n",
       "      <th>1</th>\n",
       "      <td>Low</td>\n",
       "    </tr>\n",
       "    <tr>\n",
       "      <th>2</th>\n",
       "      <td>High</td>\n",
       "    </tr>\n",
       "    <tr>\n",
       "      <th>3</th>\n",
       "      <td>MACD_3</td>\n",
       "    </tr>\n",
       "    <tr>\n",
       "      <th>4</th>\n",
       "      <td>PctDiff_3</td>\n",
       "    </tr>\n",
       "    <tr>\n",
       "      <th>5</th>\n",
       "      <td>StdDev_3</td>\n",
       "    </tr>\n",
       "    <tr>\n",
       "      <th>6</th>\n",
       "      <td>MACD_5</td>\n",
       "    </tr>\n",
       "    <tr>\n",
       "      <th>7</th>\n",
       "      <td>PctDiff_5</td>\n",
       "    </tr>\n",
       "    <tr>\n",
       "      <th>8</th>\n",
       "      <td>StdDev_5</td>\n",
       "    </tr>\n",
       "    <tr>\n",
       "      <th>9</th>\n",
       "      <td>MACD_10</td>\n",
       "    </tr>\n",
       "    <tr>\n",
       "      <th>10</th>\n",
       "      <td>PctDiff_10</td>\n",
       "    </tr>\n",
       "    <tr>\n",
       "      <th>11</th>\n",
       "      <td>StdDev_10</td>\n",
       "    </tr>\n",
       "    <tr>\n",
       "      <th>12</th>\n",
       "      <td>MACD_15</td>\n",
       "    </tr>\n",
       "    <tr>\n",
       "      <th>13</th>\n",
       "      <td>PctDiff_15</td>\n",
       "    </tr>\n",
       "    <tr>\n",
       "      <th>14</th>\n",
       "      <td>StdDev_15</td>\n",
       "    </tr>\n",
       "    <tr>\n",
       "      <th>15</th>\n",
       "      <td>MACD_20</td>\n",
       "    </tr>\n",
       "    <tr>\n",
       "      <th>16</th>\n",
       "      <td>PctDiff_20</td>\n",
       "    </tr>\n",
       "    <tr>\n",
       "      <th>17</th>\n",
       "      <td>StdDev_20</td>\n",
       "    </tr>\n",
       "    <tr>\n",
       "      <th>18</th>\n",
       "      <td>MACD_30</td>\n",
       "    </tr>\n",
       "    <tr>\n",
       "      <th>19</th>\n",
       "      <td>PctDiff_30</td>\n",
       "    </tr>\n",
       "    <tr>\n",
       "      <th>20</th>\n",
       "      <td>StdDev_30</td>\n",
       "    </tr>\n",
       "    <tr>\n",
       "      <th>21</th>\n",
       "      <td>MACD_45</td>\n",
       "    </tr>\n",
       "    <tr>\n",
       "      <th>22</th>\n",
       "      <td>PctDiff_45</td>\n",
       "    </tr>\n",
       "    <tr>\n",
       "      <th>23</th>\n",
       "      <td>StdDev_45</td>\n",
       "    </tr>\n",
       "    <tr>\n",
       "      <th>24</th>\n",
       "      <td>MACD_60</td>\n",
       "    </tr>\n",
       "    <tr>\n",
       "      <th>25</th>\n",
       "      <td>PctDiff_60</td>\n",
       "    </tr>\n",
       "    <tr>\n",
       "      <th>26</th>\n",
       "      <td>StdDev_60</td>\n",
       "    </tr>\n",
       "  </tbody>\n",
       "</table>\n",
       "</div>"
      ],
      "text/plain": [
       "             0\n",
       "0         Open\n",
       "1          Low\n",
       "2         High\n",
       "3       MACD_3\n",
       "4    PctDiff_3\n",
       "5     StdDev_3\n",
       "6       MACD_5\n",
       "7    PctDiff_5\n",
       "8     StdDev_5\n",
       "9      MACD_10\n",
       "10  PctDiff_10\n",
       "11   StdDev_10\n",
       "12     MACD_15\n",
       "13  PctDiff_15\n",
       "14   StdDev_15\n",
       "15     MACD_20\n",
       "16  PctDiff_20\n",
       "17   StdDev_20\n",
       "18     MACD_30\n",
       "19  PctDiff_30\n",
       "20   StdDev_30\n",
       "21     MACD_45\n",
       "22  PctDiff_45\n",
       "23   StdDev_45\n",
       "24     MACD_60\n",
       "25  PctDiff_60\n",
       "26   StdDev_60"
      ]
     },
     "execution_count": 51,
     "metadata": {},
     "output_type": "execute_result"
    }
   ],
   "source": [
    "pd.DataFrame(pd.DataFrame(X_train, columns=used_cols).columns).iloc[key[0][0]]"
   ]
  },
  {
   "cell_type": "code",
   "execution_count": 52,
   "metadata": {},
   "outputs": [
    {
     "data": {
      "text/html": [
       "<div>\n",
       "<style scoped>\n",
       "    .dataframe tbody tr th:only-of-type {\n",
       "        vertical-align: middle;\n",
       "    }\n",
       "\n",
       "    .dataframe tbody tr th {\n",
       "        vertical-align: top;\n",
       "    }\n",
       "\n",
       "    .dataframe thead th {\n",
       "        text-align: right;\n",
       "    }\n",
       "</style>\n",
       "<table border=\"1\" class=\"dataframe\">\n",
       "  <thead>\n",
       "    <tr style=\"text-align: right;\">\n",
       "      <th></th>\n",
       "      <th>col</th>\n",
       "      <th>coeff</th>\n",
       "    </tr>\n",
       "  </thead>\n",
       "  <tbody>\n",
       "    <tr>\n",
       "      <th>18</th>\n",
       "      <td>MACD_30</td>\n",
       "      <td>-0.544920</td>\n",
       "    </tr>\n",
       "    <tr>\n",
       "      <th>19</th>\n",
       "      <td>PctDiff_30</td>\n",
       "      <td>-0.539444</td>\n",
       "    </tr>\n",
       "    <tr>\n",
       "      <th>9</th>\n",
       "      <td>MACD_10</td>\n",
       "      <td>-0.458456</td>\n",
       "    </tr>\n",
       "    <tr>\n",
       "      <th>2</th>\n",
       "      <td>High</td>\n",
       "      <td>-0.310449</td>\n",
       "    </tr>\n",
       "    <tr>\n",
       "      <th>5</th>\n",
       "      <td>StdDev_3</td>\n",
       "      <td>-0.181150</td>\n",
       "    </tr>\n",
       "    <tr>\n",
       "      <th>4</th>\n",
       "      <td>PctDiff_3</td>\n",
       "      <td>-0.145415</td>\n",
       "    </tr>\n",
       "    <tr>\n",
       "      <th>23</th>\n",
       "      <td>StdDev_45</td>\n",
       "      <td>0.036678</td>\n",
       "    </tr>\n",
       "    <tr>\n",
       "      <th>16</th>\n",
       "      <td>PctDiff_20</td>\n",
       "      <td>0.092760</td>\n",
       "    </tr>\n",
       "    <tr>\n",
       "      <th>7</th>\n",
       "      <td>PctDiff_5</td>\n",
       "      <td>0.147612</td>\n",
       "    </tr>\n",
       "    <tr>\n",
       "      <th>12</th>\n",
       "      <td>MACD_15</td>\n",
       "      <td>0.149405</td>\n",
       "    </tr>\n",
       "    <tr>\n",
       "      <th>6</th>\n",
       "      <td>MACD_5</td>\n",
       "      <td>0.198206</td>\n",
       "    </tr>\n",
       "    <tr>\n",
       "      <th>13</th>\n",
       "      <td>PctDiff_15</td>\n",
       "      <td>0.201398</td>\n",
       "    </tr>\n",
       "    <tr>\n",
       "      <th>26</th>\n",
       "      <td>StdDev_60</td>\n",
       "      <td>0.218320</td>\n",
       "    </tr>\n",
       "    <tr>\n",
       "      <th>0</th>\n",
       "      <td>Open</td>\n",
       "      <td>0.244511</td>\n",
       "    </tr>\n",
       "    <tr>\n",
       "      <th>10</th>\n",
       "      <td>PctDiff_10</td>\n",
       "      <td>0.252682</td>\n",
       "    </tr>\n",
       "    <tr>\n",
       "      <th>15</th>\n",
       "      <td>MACD_20</td>\n",
       "      <td>0.327486</td>\n",
       "    </tr>\n",
       "    <tr>\n",
       "      <th>20</th>\n",
       "      <td>StdDev_30</td>\n",
       "      <td>0.342848</td>\n",
       "    </tr>\n",
       "    <tr>\n",
       "      <th>3</th>\n",
       "      <td>MACD_3</td>\n",
       "      <td>0.449217</td>\n",
       "    </tr>\n",
       "    <tr>\n",
       "      <th>17</th>\n",
       "      <td>StdDev_20</td>\n",
       "      <td>0.631129</td>\n",
       "    </tr>\n",
       "    <tr>\n",
       "      <th>25</th>\n",
       "      <td>PctDiff_60</td>\n",
       "      <td>0.634721</td>\n",
       "    </tr>\n",
       "    <tr>\n",
       "      <th>1</th>\n",
       "      <td>Low</td>\n",
       "      <td>0.641298</td>\n",
       "    </tr>\n",
       "    <tr>\n",
       "      <th>11</th>\n",
       "      <td>StdDev_10</td>\n",
       "      <td>0.654900</td>\n",
       "    </tr>\n",
       "    <tr>\n",
       "      <th>24</th>\n",
       "      <td>MACD_60</td>\n",
       "      <td>0.914145</td>\n",
       "    </tr>\n",
       "    <tr>\n",
       "      <th>8</th>\n",
       "      <td>StdDev_5</td>\n",
       "      <td>0.917701</td>\n",
       "    </tr>\n",
       "    <tr>\n",
       "      <th>21</th>\n",
       "      <td>MACD_45</td>\n",
       "      <td>1.062488</td>\n",
       "    </tr>\n",
       "    <tr>\n",
       "      <th>22</th>\n",
       "      <td>PctDiff_45</td>\n",
       "      <td>1.103991</td>\n",
       "    </tr>\n",
       "    <tr>\n",
       "      <th>14</th>\n",
       "      <td>StdDev_15</td>\n",
       "      <td>2.000429</td>\n",
       "    </tr>\n",
       "  </tbody>\n",
       "</table>\n",
       "</div>"
      ],
      "text/plain": [
       "           col     coeff\n",
       "18     MACD_30 -0.544920\n",
       "19  PctDiff_30 -0.539444\n",
       "9      MACD_10 -0.458456\n",
       "2         High -0.310449\n",
       "5     StdDev_3 -0.181150\n",
       "4    PctDiff_3 -0.145415\n",
       "23   StdDev_45  0.036678\n",
       "16  PctDiff_20  0.092760\n",
       "7    PctDiff_5  0.147612\n",
       "12     MACD_15  0.149405\n",
       "6       MACD_5  0.198206\n",
       "13  PctDiff_15  0.201398\n",
       "26   StdDev_60  0.218320\n",
       "0         Open  0.244511\n",
       "10  PctDiff_10  0.252682\n",
       "15     MACD_20  0.327486\n",
       "20   StdDev_30  0.342848\n",
       "3       MACD_3  0.449217\n",
       "17   StdDev_20  0.631129\n",
       "25  PctDiff_60  0.634721\n",
       "1          Low  0.641298\n",
       "11   StdDev_10  0.654900\n",
       "24     MACD_60  0.914145\n",
       "8     StdDev_5  0.917701\n",
       "21     MACD_45  1.062488\n",
       "22  PctDiff_45  1.103991\n",
       "14   StdDev_15  2.000429"
      ]
     },
     "execution_count": 52,
     "metadata": {},
     "output_type": "execute_result"
    }
   ],
   "source": [
    "#pd.DataFrame(X.columns).iloc[key[0][0]]\n",
    "a = pd.DataFrame(pd.DataFrame(X_train, columns=used_cols).columns).iloc[key[0][0]]\n",
    "c = pd.DataFrame(coeffs[0]).iloc[key[0][0]]\n",
    "cdf = pd.concat([a, c], axis=1)\n",
    "cdf.columns = ['col', 'coeff']\n",
    "cdf.sort_values(by='coeff')"
   ]
  },
  {
   "cell_type": "code",
   "execution_count": 53,
   "metadata": {},
   "outputs": [
    {
     "data": {
      "text/plain": [
       "False"
      ]
     },
     "execution_count": 53,
     "metadata": {},
     "output_type": "execute_result"
    }
   ],
   "source": [
    "np.isnan(Pipeline(pipe.steps[:-1]).fit_transform(X_train, y_train)).any()"
   ]
  },
  {
   "cell_type": "markdown",
   "metadata": {},
   "source": [
    "Frank: Unsure what is going on here and why it is showing 'nan'... There must be something wrong here... Turns out that I need to use garbage collector to free up memory as it seems to be running out of memory..."
   ]
  },
  {
   "cell_type": "markdown",
   "metadata": {},
   "source": [
    "That's a much healthier looking result!"
   ]
  },
  {
   "cell_type": "markdown",
   "metadata": {},
   "source": [
    "## Unsupervised HMM (w/ HMMLearn)"
   ]
  },
  {
   "cell_type": "code",
   "execution_count": 54,
   "metadata": {},
   "outputs": [
    {
     "data": {
      "text/plain": [
       "GaussianHMM(algorithm='viterbi', covariance_type='diag', covars_prior=0.01,\n",
       "            covars_weight=1, init_params='stmc', means_prior=0, means_weight=0,\n",
       "            min_covar=0.001, n_components=4, n_iter=10, params='stmc',\n",
       "            random_state=42, startprob_prior=1.0, tol=0.01, transmat_prior=1.0,\n",
       "            verbose=False)"
      ]
     },
     "execution_count": 54,
     "metadata": {},
     "output_type": "execute_result"
    }
   ],
   "source": [
    "X = hist.Close.pct_change(5).dropna().values.reshape(-1,1)\n",
    "\n",
    "hmm = HMM(n_components=4, random_state=42)\n",
    "hmm.fit(X)"
   ]
  },
  {
   "cell_type": "code",
   "execution_count": 55,
   "metadata": {},
   "outputs": [
    {
     "data": {
      "image/png": "[encoded data removed]",
      "text/plain": [
       "<Figure size 1440x576 with 1 Axes>"
      ]
     },
     "metadata": {
      "needs_background": "light"
     },
     "output_type": "display_data"
    }
   ],
   "source": [
    "preds = hmm.predict(X)\n",
    "preds = [0]*5 + preds.tolist()\n",
    "hist['State'] = preds\n",
    "\n",
    "# hist[['Close', 'State']].plot(figsize=(20,8))\n",
    "\n",
    "hist[['Close', 'smooth']].plot(figsize=(20,8))\n",
    "(hist['State']*100).plot()\n",
    "\n",
    "plt.show()"
   ]
  },
  {
   "cell_type": "code",
   "execution_count": 56,
   "metadata": {},
   "outputs": [
    {
     "data": {
      "text/plain": [
       "0    154\n",
       "1    125\n",
       "3    115\n",
       "2    109\n",
       "Name: State, dtype: int64"
      ]
     },
     "execution_count": 56,
     "metadata": {},
     "output_type": "execute_result"
    }
   ],
   "source": [
    "hist.State.value_counts()"
   ]
  },
  {
   "cell_type": "code",
   "execution_count": 57,
   "metadata": {},
   "outputs": [
    {
     "name": "stdout",
     "output_type": "stream",
     "text": [
      "01_stats_breast_cancer.ipynb      11_intro_to_knn_kmeans.ipynb\r\n",
      "02_bayes.ipynb                    12_intro_to_recommenders_fm.ipynb\r\n",
      "03_bayes_IMDB.ipynb               13_intro_to_ts_arima.ipynb\r\n",
      "04_bayes_cancer.ipynb             14_intro_to_arch.ipynb\r\n",
      "05_intro_to_glms.ipynb            15_intro_to_hmms.ipynb\r\n",
      "06_intro_to_logreg.ipynb          F13_Renaissance_tech.csv\r\n",
      "08_intro_to_dts-checkpoint.ipynb  F13_Renaissance_tech.txt\r\n",
      "09_intro_to_rfs.ipynb             TimeSeries.pdf\r\n",
      "10_intro_to_gbts.ipynb\r\n"
     ]
    }
   ],
   "source": [
    "!ls"
   ]
  },
  {
   "cell_type": "code",
   "execution_count": 58,
   "metadata": {},
   "outputs": [],
   "source": [
    "df=pd.read_csv('F13_Renaissance_tech.txt', sep='\\t')"
   ]
  },
  {
   "cell_type": "code",
   "execution_count": 59,
   "metadata": {},
   "outputs": [
    {
     "data": {
      "text/html": [
       "<div>\n",
       "<style scoped>\n",
       "    .dataframe tbody tr th:only-of-type {\n",
       "        vertical-align: middle;\n",
       "    }\n",
       "\n",
       "    .dataframe tbody tr th {\n",
       "        vertical-align: top;\n",
       "    }\n",
       "\n",
       "    .dataframe thead th {\n",
       "        text-align: right;\n",
       "    }\n",
       "</style>\n",
       "<table border=\"1\" class=\"dataframe\">\n",
       "  <thead>\n",
       "    <tr style=\"text-align: right;\">\n",
       "      <th></th>\n",
       "      <th>NAME_OF_ISSUER</th>\n",
       "      <th>TITLE_OF_CLASS</th>\n",
       "      <th>CUSIP</th>\n",
       "      <th>VALUE</th>\n",
       "      <th>SHRS_OR_PRN_AMT</th>\n",
       "      <th>SH_OR_PRN</th>\n",
       "      <th>PUT_OR_CALL</th>\n",
       "      <th>DISCRETION</th>\n",
       "      <th>OTHER_MANAGER</th>\n",
       "      <th>SOLE_VOTING_AUTH</th>\n",
       "      <th>SHARED_VOTING_AUTH</th>\n",
       "      <th>NO_VOTING_AUTH</th>\n",
       "    </tr>\n",
       "  </thead>\n",
       "  <tbody>\n",
       "    <tr>\n",
       "      <th>0</th>\n",
       "      <td>1347 PPTY INS HLDGS INC</td>\n",
       "      <td>COM</td>\n",
       "      <td>68244P107</td>\n",
       "      <td>443</td>\n",
       "      <td>100,562</td>\n",
       "      <td>SH</td>\n",
       "      <td></td>\n",
       "      <td>SOLE</td>\n",
       "      <td>0</td>\n",
       "      <td>91,267</td>\n",
       "      <td>0</td>\n",
       "      <td>9,295</td>\n",
       "    </tr>\n",
       "    <tr>\n",
       "      <th>1</th>\n",
       "      <td>1ST CONSTITUTION BANCORP</td>\n",
       "      <td>COM</td>\n",
       "      <td>31986N102</td>\n",
       "      <td>2,359</td>\n",
       "      <td>125,800</td>\n",
       "      <td>SH</td>\n",
       "      <td></td>\n",
       "      <td>SOLE</td>\n",
       "      <td>0</td>\n",
       "      <td>119,245</td>\n",
       "      <td>0</td>\n",
       "      <td>6,555</td>\n",
       "    </tr>\n",
       "    <tr>\n",
       "      <th>2</th>\n",
       "      <td>1ST SOURCE CORP</td>\n",
       "      <td>COM</td>\n",
       "      <td>336901103</td>\n",
       "      <td>15,320</td>\n",
       "      <td>335,014</td>\n",
       "      <td>SH</td>\n",
       "      <td></td>\n",
       "      <td>SOLE</td>\n",
       "      <td>0</td>\n",
       "      <td>319,352</td>\n",
       "      <td>0</td>\n",
       "      <td>15,662</td>\n",
       "    </tr>\n",
       "    <tr>\n",
       "      <th>3</th>\n",
       "      <td>21VIANET GROUP INC</td>\n",
       "      <td>SPONSORED ADS A</td>\n",
       "      <td>90138A103</td>\n",
       "      <td>8,799</td>\n",
       "      <td>1,154,767</td>\n",
       "      <td>SH</td>\n",
       "      <td></td>\n",
       "      <td>SOLE</td>\n",
       "      <td>0</td>\n",
       "      <td>1,119,600</td>\n",
       "      <td>0</td>\n",
       "      <td>35,167</td>\n",
       "    </tr>\n",
       "    <tr>\n",
       "      <th>4</th>\n",
       "      <td>3-D SYS CORP DEL</td>\n",
       "      <td>COM NEW</td>\n",
       "      <td>88554D205</td>\n",
       "      <td>2,155</td>\n",
       "      <td>264,450</td>\n",
       "      <td>SH</td>\n",
       "      <td></td>\n",
       "      <td>SOLE</td>\n",
       "      <td>0</td>\n",
       "      <td>58,042</td>\n",
       "      <td>0</td>\n",
       "      <td>206,408</td>\n",
       "    </tr>\n",
       "  </tbody>\n",
       "</table>\n",
       "</div>"
      ],
      "text/plain": [
       "             NAME_OF_ISSUER   TITLE_OF_CLASS      CUSIP   VALUE  \\\n",
       "0   1347 PPTY INS HLDGS INC              COM  68244P107     443   \n",
       "1  1ST CONSTITUTION BANCORP              COM  31986N102   2,359   \n",
       "2           1ST SOURCE CORP              COM  336901103  15,320   \n",
       "3        21VIANET GROUP INC  SPONSORED ADS A  90138A103   8,799   \n",
       "4          3-D SYS CORP DEL          COM NEW  88554D205   2,155   \n",
       "\n",
       "  SHRS_OR_PRN_AMT SH_OR_PRN PUT_OR_CALL DISCRETION  OTHER_MANAGER  \\\n",
       "0         100,562        SH                   SOLE              0   \n",
       "1         125,800        SH                   SOLE              0   \n",
       "2         335,014        SH                   SOLE              0   \n",
       "3       1,154,767        SH                   SOLE              0   \n",
       "4         264,450        SH                   SOLE              0   \n",
       "\n",
       "  SOLE_VOTING_AUTH  SHARED_VOTING_AUTH NO_VOTING_AUTH  \n",
       "0           91,267                   0          9,295  \n",
       "1          119,245                   0          6,555  \n",
       "2          319,352                   0         15,662  \n",
       "3        1,119,600                   0         35,167  \n",
       "4           58,042                   0        206,408  "
      ]
     },
     "execution_count": 59,
     "metadata": {},
     "output_type": "execute_result"
    }
   ],
   "source": [
    "df.head()"
   ]
  },
  {
   "cell_type": "code",
   "execution_count": 60,
   "metadata": {},
   "outputs": [
    {
     "data": {
      "text/plain": [
       "(3394, 12)"
      ]
     },
     "execution_count": 60,
     "metadata": {},
     "output_type": "execute_result"
    }
   ],
   "source": [
    "df.shape"
   ]
  },
  {
   "cell_type": "code",
   "execution_count": 61,
   "metadata": {},
   "outputs": [
    {
     "data": {
      "text/html": [
       "<div>\n",
       "<style scoped>\n",
       "    .dataframe tbody tr th:only-of-type {\n",
       "        vertical-align: middle;\n",
       "    }\n",
       "\n",
       "    .dataframe tbody tr th {\n",
       "        vertical-align: top;\n",
       "    }\n",
       "\n",
       "    .dataframe thead th {\n",
       "        text-align: right;\n",
       "    }\n",
       "</style>\n",
       "<table border=\"1\" class=\"dataframe\">\n",
       "  <thead>\n",
       "    <tr style=\"text-align: right;\">\n",
       "      <th></th>\n",
       "      <th>NAME_OF_ISSUER</th>\n",
       "      <th>TITLE_OF_CLASS</th>\n",
       "      <th>CUSIP</th>\n",
       "      <th>VALUE</th>\n",
       "      <th>SHRS_OR_PRN_AMT</th>\n",
       "      <th>SH_OR_PRN</th>\n",
       "      <th>PUT_OR_CALL</th>\n",
       "      <th>DISCRETION</th>\n",
       "      <th>OTHER_MANAGER</th>\n",
       "      <th>SOLE_VOTING_AUTH</th>\n",
       "      <th>SHARED_VOTING_AUTH</th>\n",
       "      <th>NO_VOTING_AUTH</th>\n",
       "    </tr>\n",
       "  </thead>\n",
       "  <tbody>\n",
       "    <tr>\n",
       "      <th>2312</th>\n",
       "      <td>PACIFIC DRILLING SA LUXEMBOU</td>\n",
       "      <td>COM</td>\n",
       "      <td>L7257P205</td>\n",
       "      <td>1,000</td>\n",
       "      <td>255,700</td>\n",
       "      <td>SH</td>\n",
       "      <td></td>\n",
       "      <td>SOLE</td>\n",
       "      <td>0</td>\n",
       "      <td>255,700</td>\n",
       "      <td>0</td>\n",
       "      <td>0</td>\n",
       "    </tr>\n",
       "    <tr>\n",
       "      <th>937</th>\n",
       "      <td>DIPLOMAT PHARMACY INC</td>\n",
       "      <td>COM</td>\n",
       "      <td>25456K101</td>\n",
       "      <td>1,004</td>\n",
       "      <td>204,900</td>\n",
       "      <td>SH</td>\n",
       "      <td></td>\n",
       "      <td>SOLE</td>\n",
       "      <td>0</td>\n",
       "      <td>113,152</td>\n",
       "      <td>0</td>\n",
       "      <td>91,748</td>\n",
       "    </tr>\n",
       "    <tr>\n",
       "      <th>1966</th>\n",
       "      <td>MATRIX SVC CO</td>\n",
       "      <td>COM</td>\n",
       "      <td>576853105</td>\n",
       "      <td>1,007</td>\n",
       "      <td>58,759</td>\n",
       "      <td>SH</td>\n",
       "      <td></td>\n",
       "      <td>SOLE</td>\n",
       "      <td>0</td>\n",
       "      <td>4,442</td>\n",
       "      <td>0</td>\n",
       "      <td>54,317</td>\n",
       "    </tr>\n",
       "    <tr>\n",
       "      <th>2974</th>\n",
       "      <td>TECNOGLASS INC</td>\n",
       "      <td>SHS</td>\n",
       "      <td>G87264100</td>\n",
       "      <td>1,009</td>\n",
       "      <td>124,136</td>\n",
       "      <td>SH</td>\n",
       "      <td></td>\n",
       "      <td>SOLE</td>\n",
       "      <td>0</td>\n",
       "      <td>71,177</td>\n",
       "      <td>0</td>\n",
       "      <td>52,959</td>\n",
       "    </tr>\n",
       "    <tr>\n",
       "      <th>1403</th>\n",
       "      <td>GSE SYS INC</td>\n",
       "      <td>COM</td>\n",
       "      <td>36227K106</td>\n",
       "      <td>1,010</td>\n",
       "      <td>577,260</td>\n",
       "      <td>SH</td>\n",
       "      <td></td>\n",
       "      <td>SOLE</td>\n",
       "      <td>0</td>\n",
       "      <td>577,260</td>\n",
       "      <td>0</td>\n",
       "      <td>0</td>\n",
       "    </tr>\n",
       "    <tr>\n",
       "      <th>...</th>\n",
       "      <td>...</td>\n",
       "      <td>...</td>\n",
       "      <td>...</td>\n",
       "      <td>...</td>\n",
       "      <td>...</td>\n",
       "      <td>...</td>\n",
       "      <td>...</td>\n",
       "      <td>...</td>\n",
       "      <td>...</td>\n",
       "      <td>...</td>\n",
       "      <td>...</td>\n",
       "      <td>...</td>\n",
       "    </tr>\n",
       "    <tr>\n",
       "      <th>659</th>\n",
       "      <td>CHINA JO-JO DRUGSTORES INC</td>\n",
       "      <td>COM NEW</td>\n",
       "      <td>16949A206</td>\n",
       "      <td>991</td>\n",
       "      <td>826,062</td>\n",
       "      <td>SH</td>\n",
       "      <td></td>\n",
       "      <td>SOLE</td>\n",
       "      <td>0</td>\n",
       "      <td>826,062</td>\n",
       "      <td>0</td>\n",
       "      <td>0</td>\n",
       "    </tr>\n",
       "    <tr>\n",
       "      <th>1703</th>\n",
       "      <td>ISHARES TR</td>\n",
       "      <td>MSCI CHINA ETF</td>\n",
       "      <td>46429B671</td>\n",
       "      <td>993</td>\n",
       "      <td>17,700</td>\n",
       "      <td>SH</td>\n",
       "      <td></td>\n",
       "      <td>SOLE</td>\n",
       "      <td>0</td>\n",
       "      <td>17,700</td>\n",
       "      <td>0</td>\n",
       "      <td>0</td>\n",
       "    </tr>\n",
       "    <tr>\n",
       "      <th>3198</th>\n",
       "      <td>VANGUARD SCOTTSDALE FDS</td>\n",
       "      <td>MORTG-BACK SEC</td>\n",
       "      <td>92206C771</td>\n",
       "      <td>995</td>\n",
       "      <td>18,675</td>\n",
       "      <td>SH</td>\n",
       "      <td></td>\n",
       "      <td>SOLE</td>\n",
       "      <td>0</td>\n",
       "      <td>18,675</td>\n",
       "      <td>0</td>\n",
       "      <td>0</td>\n",
       "    </tr>\n",
       "    <tr>\n",
       "      <th>2991</th>\n",
       "      <td>TENET HEALTHCARE CORP</td>\n",
       "      <td>COM NEW</td>\n",
       "      <td>88033G407</td>\n",
       "      <td>997</td>\n",
       "      <td>45,075</td>\n",
       "      <td>SH</td>\n",
       "      <td></td>\n",
       "      <td>SOLE</td>\n",
       "      <td>0</td>\n",
       "      <td>2,013</td>\n",
       "      <td>0</td>\n",
       "      <td>43,062</td>\n",
       "    </tr>\n",
       "    <tr>\n",
       "      <th>3157</th>\n",
       "      <td>US ECOLOGY INC</td>\n",
       "      <td>COM</td>\n",
       "      <td>91732J102</td>\n",
       "      <td>997</td>\n",
       "      <td>15,600</td>\n",
       "      <td>SH</td>\n",
       "      <td></td>\n",
       "      <td>SOLE</td>\n",
       "      <td>0</td>\n",
       "      <td>15,600</td>\n",
       "      <td>0</td>\n",
       "      <td>0</td>\n",
       "    </tr>\n",
       "  </tbody>\n",
       "</table>\n",
       "<p>3394 rows × 12 columns</p>\n",
       "</div>"
      ],
      "text/plain": [
       "                    NAME_OF_ISSUER  TITLE_OF_CLASS      CUSIP  VALUE  \\\n",
       "2312  PACIFIC DRILLING SA LUXEMBOU             COM  L7257P205  1,000   \n",
       "937          DIPLOMAT PHARMACY INC             COM  25456K101  1,004   \n",
       "1966                 MATRIX SVC CO             COM  576853105  1,007   \n",
       "2974                TECNOGLASS INC             SHS  G87264100  1,009   \n",
       "1403                   GSE SYS INC             COM  36227K106  1,010   \n",
       "...                            ...             ...        ...    ...   \n",
       "659     CHINA JO-JO DRUGSTORES INC         COM NEW  16949A206    991   \n",
       "1703                    ISHARES TR  MSCI CHINA ETF  46429B671    993   \n",
       "3198       VANGUARD SCOTTSDALE FDS  MORTG-BACK SEC  92206C771    995   \n",
       "2991         TENET HEALTHCARE CORP         COM NEW  88033G407    997   \n",
       "3157                US ECOLOGY INC             COM  91732J102    997   \n",
       "\n",
       "     SHRS_OR_PRN_AMT SH_OR_PRN PUT_OR_CALL DISCRETION  OTHER_MANAGER  \\\n",
       "2312         255,700        SH                   SOLE              0   \n",
       "937          204,900        SH                   SOLE              0   \n",
       "1966          58,759        SH                   SOLE              0   \n",
       "2974         124,136        SH                   SOLE              0   \n",
       "1403         577,260        SH                   SOLE              0   \n",
       "...              ...       ...         ...        ...            ...   \n",
       "659          826,062        SH                   SOLE              0   \n",
       "1703          17,700        SH                   SOLE              0   \n",
       "3198          18,675        SH                   SOLE              0   \n",
       "2991          45,075        SH                   SOLE              0   \n",
       "3157          15,600        SH                   SOLE              0   \n",
       "\n",
       "     SOLE_VOTING_AUTH  SHARED_VOTING_AUTH NO_VOTING_AUTH  \n",
       "2312          255,700                   0              0  \n",
       "937           113,152                   0         91,748  \n",
       "1966            4,442                   0         54,317  \n",
       "2974           71,177                   0         52,959  \n",
       "1403          577,260                   0              0  \n",
       "...               ...                 ...            ...  \n",
       "659           826,062                   0              0  \n",
       "1703           17,700                   0              0  \n",
       "3198           18,675                   0              0  \n",
       "2991            2,013                   0         43,062  \n",
       "3157           15,600                   0              0  \n",
       "\n",
       "[3394 rows x 12 columns]"
      ]
     },
     "execution_count": 61,
     "metadata": {},
     "output_type": "execute_result"
    }
   ],
   "source": [
    "df.sort_values(by='VALUE')"
   ]
  },
  {
   "cell_type": "code",
   "execution_count": 62,
   "metadata": {},
   "outputs": [
    {
     "name": "stdout",
     "output_type": "stream",
     "text": [
      "<class 'pandas.core.frame.DataFrame'>\n",
      "RangeIndex: 3394 entries, 0 to 3393\n",
      "Data columns (total 12 columns):\n",
      "NAME_OF_ISSUER        3394 non-null object\n",
      "TITLE_OF_CLASS        3394 non-null object\n",
      "CUSIP                 3394 non-null object\n",
      "VALUE                 3394 non-null object\n",
      "SHRS_OR_PRN_AMT       3394 non-null object\n",
      "SH_OR_PRN             3394 non-null object\n",
      "PUT_OR_CALL           3394 non-null object\n",
      "DISCRETION            3394 non-null object\n",
      "OTHER_MANAGER         3394 non-null int64\n",
      "SOLE_VOTING_AUTH      3394 non-null object\n",
      "SHARED_VOTING_AUTH    3394 non-null int64\n",
      "NO_VOTING_AUTH        3394 non-null object\n",
      "dtypes: int64(2), object(10)\n",
      "memory usage: 318.3+ KB\n"
     ]
    }
   ],
   "source": [
    "df.info()"
   ]
  },
  {
   "cell_type": "code",
   "execution_count": 63,
   "metadata": {},
   "outputs": [],
   "source": [
    "for col in ['VALUE', 'SHRS_OR_PRN_AMT', 'SOLE_VOTING_AUTH',\n",
    "            'NO_VOTING_AUTH']:\n",
    "    df[col] = df[col].str.replace(',', '').astype(int)"
   ]
  },
  {
   "cell_type": "code",
   "execution_count": 64,
   "metadata": {},
   "outputs": [
    {
     "name": "stdout",
     "output_type": "stream",
     "text": [
      "<class 'pandas.core.frame.DataFrame'>\n",
      "RangeIndex: 3394 entries, 0 to 3393\n",
      "Data columns (total 12 columns):\n",
      "NAME_OF_ISSUER        3394 non-null object\n",
      "TITLE_OF_CLASS        3394 non-null object\n",
      "CUSIP                 3394 non-null object\n",
      "VALUE                 3394 non-null int64\n",
      "SHRS_OR_PRN_AMT       3394 non-null int64\n",
      "SH_OR_PRN             3394 non-null object\n",
      "PUT_OR_CALL           3394 non-null object\n",
      "DISCRETION            3394 non-null object\n",
      "OTHER_MANAGER         3394 non-null int64\n",
      "SOLE_VOTING_AUTH      3394 non-null int64\n",
      "SHARED_VOTING_AUTH    3394 non-null int64\n",
      "NO_VOTING_AUTH        3394 non-null int64\n",
      "dtypes: int64(6), object(6)\n",
      "memory usage: 318.3+ KB\n"
     ]
    }
   ],
   "source": [
    "df.info()"
   ]
  },
  {
   "cell_type": "code",
   "execution_count": 65,
   "metadata": {},
   "outputs": [
    {
     "data": {
      "text/html": [
       "<div>\n",
       "<style scoped>\n",
       "    .dataframe tbody tr th:only-of-type {\n",
       "        vertical-align: middle;\n",
       "    }\n",
       "\n",
       "    .dataframe tbody tr th {\n",
       "        vertical-align: top;\n",
       "    }\n",
       "\n",
       "    .dataframe thead th {\n",
       "        text-align: right;\n",
       "    }\n",
       "</style>\n",
       "<table border=\"1\" class=\"dataframe\">\n",
       "  <thead>\n",
       "    <tr style=\"text-align: right;\">\n",
       "      <th></th>\n",
       "      <th>NAME_OF_ISSUER</th>\n",
       "      <th>TITLE_OF_CLASS</th>\n",
       "      <th>CUSIP</th>\n",
       "      <th>VALUE</th>\n",
       "      <th>SHRS_OR_PRN_AMT</th>\n",
       "      <th>SH_OR_PRN</th>\n",
       "      <th>PUT_OR_CALL</th>\n",
       "      <th>DISCRETION</th>\n",
       "      <th>OTHER_MANAGER</th>\n",
       "      <th>SOLE_VOTING_AUTH</th>\n",
       "      <th>SHARED_VOTING_AUTH</th>\n",
       "      <th>NO_VOTING_AUTH</th>\n",
       "    </tr>\n",
       "  </thead>\n",
       "  <tbody>\n",
       "    <tr>\n",
       "      <th>0</th>\n",
       "      <td>1347 PPTY INS HLDGS INC</td>\n",
       "      <td>COM</td>\n",
       "      <td>68244P107</td>\n",
       "      <td>443</td>\n",
       "      <td>100562</td>\n",
       "      <td>SH</td>\n",
       "      <td></td>\n",
       "      <td>SOLE</td>\n",
       "      <td>0</td>\n",
       "      <td>91267</td>\n",
       "      <td>0</td>\n",
       "      <td>9295</td>\n",
       "    </tr>\n",
       "    <tr>\n",
       "      <th>1</th>\n",
       "      <td>1ST CONSTITUTION BANCORP</td>\n",
       "      <td>COM</td>\n",
       "      <td>31986N102</td>\n",
       "      <td>2359</td>\n",
       "      <td>125800</td>\n",
       "      <td>SH</td>\n",
       "      <td></td>\n",
       "      <td>SOLE</td>\n",
       "      <td>0</td>\n",
       "      <td>119245</td>\n",
       "      <td>0</td>\n",
       "      <td>6555</td>\n",
       "    </tr>\n",
       "    <tr>\n",
       "      <th>2</th>\n",
       "      <td>1ST SOURCE CORP</td>\n",
       "      <td>COM</td>\n",
       "      <td>336901103</td>\n",
       "      <td>15320</td>\n",
       "      <td>335014</td>\n",
       "      <td>SH</td>\n",
       "      <td></td>\n",
       "      <td>SOLE</td>\n",
       "      <td>0</td>\n",
       "      <td>319352</td>\n",
       "      <td>0</td>\n",
       "      <td>15662</td>\n",
       "    </tr>\n",
       "    <tr>\n",
       "      <th>3</th>\n",
       "      <td>21VIANET GROUP INC</td>\n",
       "      <td>SPONSORED ADS A</td>\n",
       "      <td>90138A103</td>\n",
       "      <td>8799</td>\n",
       "      <td>1154767</td>\n",
       "      <td>SH</td>\n",
       "      <td></td>\n",
       "      <td>SOLE</td>\n",
       "      <td>0</td>\n",
       "      <td>1119600</td>\n",
       "      <td>0</td>\n",
       "      <td>35167</td>\n",
       "    </tr>\n",
       "    <tr>\n",
       "      <th>4</th>\n",
       "      <td>3-D SYS CORP DEL</td>\n",
       "      <td>COM NEW</td>\n",
       "      <td>88554D205</td>\n",
       "      <td>2155</td>\n",
       "      <td>264450</td>\n",
       "      <td>SH</td>\n",
       "      <td></td>\n",
       "      <td>SOLE</td>\n",
       "      <td>0</td>\n",
       "      <td>58042</td>\n",
       "      <td>0</td>\n",
       "      <td>206408</td>\n",
       "    </tr>\n",
       "  </tbody>\n",
       "</table>\n",
       "</div>"
      ],
      "text/plain": [
       "             NAME_OF_ISSUER   TITLE_OF_CLASS      CUSIP  VALUE  \\\n",
       "0   1347 PPTY INS HLDGS INC              COM  68244P107    443   \n",
       "1  1ST CONSTITUTION BANCORP              COM  31986N102   2359   \n",
       "2           1ST SOURCE CORP              COM  336901103  15320   \n",
       "3        21VIANET GROUP INC  SPONSORED ADS A  90138A103   8799   \n",
       "4          3-D SYS CORP DEL          COM NEW  88554D205   2155   \n",
       "\n",
       "   SHRS_OR_PRN_AMT SH_OR_PRN PUT_OR_CALL DISCRETION  OTHER_MANAGER  \\\n",
       "0           100562        SH                   SOLE              0   \n",
       "1           125800        SH                   SOLE              0   \n",
       "2           335014        SH                   SOLE              0   \n",
       "3          1154767        SH                   SOLE              0   \n",
       "4           264450        SH                   SOLE              0   \n",
       "\n",
       "   SOLE_VOTING_AUTH  SHARED_VOTING_AUTH  NO_VOTING_AUTH  \n",
       "0             91267                   0            9295  \n",
       "1            119245                   0            6555  \n",
       "2            319352                   0           15662  \n",
       "3           1119600                   0           35167  \n",
       "4             58042                   0          206408  "
      ]
     },
     "execution_count": 65,
     "metadata": {},
     "output_type": "execute_result"
    }
   ],
   "source": [
    "df.head()"
   ]
  },
  {
   "cell_type": "code",
   "execution_count": 66,
   "metadata": {},
   "outputs": [],
   "source": [
    "df.sort_values?"
   ]
  },
  {
   "cell_type": "code",
   "execution_count": 67,
   "metadata": {},
   "outputs": [
    {
     "data": {
      "text/html": [
       "<div>\n",
       "<style scoped>\n",
       "    .dataframe tbody tr th:only-of-type {\n",
       "        vertical-align: middle;\n",
       "    }\n",
       "\n",
       "    .dataframe tbody tr th {\n",
       "        vertical-align: top;\n",
       "    }\n",
       "\n",
       "    .dataframe thead th {\n",
       "        text-align: right;\n",
       "    }\n",
       "</style>\n",
       "<table border=\"1\" class=\"dataframe\">\n",
       "  <thead>\n",
       "    <tr style=\"text-align: right;\">\n",
       "      <th></th>\n",
       "      <th>NAME_OF_ISSUER</th>\n",
       "      <th>TITLE_OF_CLASS</th>\n",
       "      <th>CUSIP</th>\n",
       "      <th>VALUE</th>\n",
       "      <th>SHRS_OR_PRN_AMT</th>\n",
       "      <th>SH_OR_PRN</th>\n",
       "      <th>PUT_OR_CALL</th>\n",
       "      <th>DISCRETION</th>\n",
       "      <th>OTHER_MANAGER</th>\n",
       "      <th>SOLE_VOTING_AUTH</th>\n",
       "      <th>SHARED_VOTING_AUTH</th>\n",
       "      <th>NO_VOTING_AUTH</th>\n",
       "    </tr>\n",
       "  </thead>\n",
       "  <tbody>\n",
       "    <tr>\n",
       "      <th>467</th>\n",
       "      <td>BRISTOL MYERS SQUIBB CO</td>\n",
       "      <td>COM</td>\n",
       "      <td>110122108</td>\n",
       "      <td>1661147</td>\n",
       "      <td>32757770</td>\n",
       "      <td>SH</td>\n",
       "      <td></td>\n",
       "      <td>SOLE</td>\n",
       "      <td>0</td>\n",
       "      <td>28224283</td>\n",
       "      <td>0</td>\n",
       "      <td>4533487</td>\n",
       "    </tr>\n",
       "    <tr>\n",
       "      <th>675</th>\n",
       "      <td>CHIPOTLE MEXICAN GRILL INC</td>\n",
       "      <td>COM</td>\n",
       "      <td>169656105</td>\n",
       "      <td>1609031</td>\n",
       "      <td>1914442</td>\n",
       "      <td>SH</td>\n",
       "      <td></td>\n",
       "      <td>SOLE</td>\n",
       "      <td>0</td>\n",
       "      <td>1756732</td>\n",
       "      <td>0</td>\n",
       "      <td>157710</td>\n",
       "    </tr>\n",
       "    <tr>\n",
       "      <th>3224</th>\n",
       "      <td>VERISIGN INC</td>\n",
       "      <td>COM</td>\n",
       "      <td>92343E102</td>\n",
       "      <td>1562342</td>\n",
       "      <td>8282576</td>\n",
       "      <td>SH</td>\n",
       "      <td></td>\n",
       "      <td>SOLE</td>\n",
       "      <td>0</td>\n",
       "      <td>7983085</td>\n",
       "      <td>0</td>\n",
       "      <td>299491</td>\n",
       "    </tr>\n",
       "    <tr>\n",
       "      <th>588</th>\n",
       "      <td>CELGENE CORP</td>\n",
       "      <td>COM</td>\n",
       "      <td>151020104</td>\n",
       "      <td>1543789</td>\n",
       "      <td>15546716</td>\n",
       "      <td>SH</td>\n",
       "      <td></td>\n",
       "      <td>SOLE</td>\n",
       "      <td>0</td>\n",
       "      <td>15513678</td>\n",
       "      <td>0</td>\n",
       "      <td>33038</td>\n",
       "    </tr>\n",
       "    <tr>\n",
       "      <th>2223</th>\n",
       "      <td>NOVO-NORDISK A S</td>\n",
       "      <td>ADR</td>\n",
       "      <td>670100205</td>\n",
       "      <td>1281473</td>\n",
       "      <td>24786716</td>\n",
       "      <td>SH</td>\n",
       "      <td></td>\n",
       "      <td>SOLE</td>\n",
       "      <td>0</td>\n",
       "      <td>24786716</td>\n",
       "      <td>0</td>\n",
       "      <td>0</td>\n",
       "    </tr>\n",
       "    <tr>\n",
       "      <th>...</th>\n",
       "      <td>...</td>\n",
       "      <td>...</td>\n",
       "      <td>...</td>\n",
       "      <td>...</td>\n",
       "      <td>...</td>\n",
       "      <td>...</td>\n",
       "      <td>...</td>\n",
       "      <td>...</td>\n",
       "      <td>...</td>\n",
       "      <td>...</td>\n",
       "      <td>...</td>\n",
       "      <td>...</td>\n",
       "    </tr>\n",
       "    <tr>\n",
       "      <th>15</th>\n",
       "      <td>ABILITY INC</td>\n",
       "      <td>SHS</td>\n",
       "      <td>G8789K124</td>\n",
       "      <td>10</td>\n",
       "      <td>18160</td>\n",
       "      <td>SH</td>\n",
       "      <td></td>\n",
       "      <td>SOLE</td>\n",
       "      <td>0</td>\n",
       "      <td>9760</td>\n",
       "      <td>0</td>\n",
       "      <td>8400</td>\n",
       "    </tr>\n",
       "    <tr>\n",
       "      <th>390</th>\n",
       "      <td>BENITEC BIOPHARMA LTD</td>\n",
       "      <td>SPONS ADR NEW</td>\n",
       "      <td>082053307</td>\n",
       "      <td>10</td>\n",
       "      <td>13700</td>\n",
       "      <td>SH</td>\n",
       "      <td></td>\n",
       "      <td>SOLE</td>\n",
       "      <td>0</td>\n",
       "      <td>13700</td>\n",
       "      <td>0</td>\n",
       "      <td>0</td>\n",
       "    </tr>\n",
       "    <tr>\n",
       "      <th>2029</th>\n",
       "      <td>MID CON ENERGY PARTNERS LP</td>\n",
       "      <td>COM UNIT REPST</td>\n",
       "      <td>59560V109</td>\n",
       "      <td>8</td>\n",
       "      <td>20868</td>\n",
       "      <td>SH</td>\n",
       "      <td></td>\n",
       "      <td>SOLE</td>\n",
       "      <td>0</td>\n",
       "      <td>0</td>\n",
       "      <td>0</td>\n",
       "      <td>20868</td>\n",
       "    </tr>\n",
       "    <tr>\n",
       "      <th>642</th>\n",
       "      <td>CHESAPEAKE GRANITE WASH TR</td>\n",
       "      <td>COM SH BEN INT</td>\n",
       "      <td>165185109</td>\n",
       "      <td>7</td>\n",
       "      <td>12189</td>\n",
       "      <td>SH</td>\n",
       "      <td></td>\n",
       "      <td>SOLE</td>\n",
       "      <td>0</td>\n",
       "      <td>0</td>\n",
       "      <td>0</td>\n",
       "      <td>12189</td>\n",
       "    </tr>\n",
       "    <tr>\n",
       "      <th>3151</th>\n",
       "      <td>URBAN TEA INC</td>\n",
       "      <td>ORD SHS</td>\n",
       "      <td>G9396G100</td>\n",
       "      <td>7</td>\n",
       "      <td>23100</td>\n",
       "      <td>SH</td>\n",
       "      <td></td>\n",
       "      <td>SOLE</td>\n",
       "      <td>0</td>\n",
       "      <td>46</td>\n",
       "      <td>0</td>\n",
       "      <td>23054</td>\n",
       "    </tr>\n",
       "  </tbody>\n",
       "</table>\n",
       "<p>3394 rows × 12 columns</p>\n",
       "</div>"
      ],
      "text/plain": [
       "                  NAME_OF_ISSUER  TITLE_OF_CLASS      CUSIP    VALUE  \\\n",
       "467      BRISTOL MYERS SQUIBB CO             COM  110122108  1661147   \n",
       "675   CHIPOTLE MEXICAN GRILL INC             COM  169656105  1609031   \n",
       "3224                VERISIGN INC             COM  92343E102  1562342   \n",
       "588                 CELGENE CORP             COM  151020104  1543789   \n",
       "2223            NOVO-NORDISK A S             ADR  670100205  1281473   \n",
       "...                          ...             ...        ...      ...   \n",
       "15                   ABILITY INC             SHS  G8789K124       10   \n",
       "390        BENITEC BIOPHARMA LTD   SPONS ADR NEW  082053307       10   \n",
       "2029  MID CON ENERGY PARTNERS LP  COM UNIT REPST  59560V109        8   \n",
       "642   CHESAPEAKE GRANITE WASH TR  COM SH BEN INT  165185109        7   \n",
       "3151               URBAN TEA INC         ORD SHS  G9396G100        7   \n",
       "\n",
       "      SHRS_OR_PRN_AMT SH_OR_PRN PUT_OR_CALL DISCRETION  OTHER_MANAGER  \\\n",
       "467          32757770        SH                   SOLE              0   \n",
       "675           1914442        SH                   SOLE              0   \n",
       "3224          8282576        SH                   SOLE              0   \n",
       "588          15546716        SH                   SOLE              0   \n",
       "2223         24786716        SH                   SOLE              0   \n",
       "...               ...       ...         ...        ...            ...   \n",
       "15              18160        SH                   SOLE              0   \n",
       "390             13700        SH                   SOLE              0   \n",
       "2029            20868        SH                   SOLE              0   \n",
       "642             12189        SH                   SOLE              0   \n",
       "3151            23100        SH                   SOLE              0   \n",
       "\n",
       "      SOLE_VOTING_AUTH  SHARED_VOTING_AUTH  NO_VOTING_AUTH  \n",
       "467           28224283                   0         4533487  \n",
       "675            1756732                   0          157710  \n",
       "3224           7983085                   0          299491  \n",
       "588           15513678                   0           33038  \n",
       "2223          24786716                   0               0  \n",
       "...                ...                 ...             ...  \n",
       "15                9760                   0            8400  \n",
       "390              13700                   0               0  \n",
       "2029                 0                   0           20868  \n",
       "642                  0                   0           12189  \n",
       "3151                46                   0           23054  \n",
       "\n",
       "[3394 rows x 12 columns]"
      ]
     },
     "execution_count": 67,
     "metadata": {},
     "output_type": "execute_result"
    }
   ],
   "source": [
    "df.sort_values(by='VALUE', ascending=False)"
   ]
  },
  {
   "cell_type": "code",
   "execution_count": 68,
   "metadata": {},
   "outputs": [
    {
     "data": {
      "text/plain": [
       "COM                 2123\n",
       "COM NEW              258\n",
       "CL A                 152\n",
       "SHS                  101\n",
       "SPONSORED ADR         89\n",
       "                    ... \n",
       "SPON ADR PFD NEW       1\n",
       "NUVEEN BLMBRG SR       1\n",
       "EXTEND MKT ETF         1\n",
       "ENERGY                 1\n",
       "MODERT ALLOC ETF       1\n",
       "Name: TITLE_OF_CLASS, Length: 350, dtype: int64"
      ]
     },
     "execution_count": 68,
     "metadata": {},
     "output_type": "execute_result"
    }
   ],
   "source": [
    "df.TITLE_OF_CLASS.value_counts()"
   ]
  },
  {
   "cell_type": "code",
   "execution_count": 69,
   "metadata": {},
   "outputs": [
    {
     "data": {
      "text/plain": [
       "(2123, 12)"
      ]
     },
     "execution_count": 69,
     "metadata": {},
     "output_type": "execute_result"
    }
   ],
   "source": [
    "df = df.loc[df.TITLE_OF_CLASS == 'COM']\n",
    "df.shape"
   ]
  },
  {
   "cell_type": "code",
   "execution_count": 70,
   "metadata": {},
   "outputs": [
    {
     "data": {
      "text/plain": [
       "SH    2123\n",
       "Name: SH_OR_PRN, dtype: int64"
      ]
     },
     "execution_count": 70,
     "metadata": {},
     "output_type": "execute_result"
    }
   ],
   "source": [
    "df.SH_OR_PRN.value_counts()"
   ]
  },
  {
   "cell_type": "code",
   "execution_count": 71,
   "metadata": {},
   "outputs": [],
   "source": [
    "del df['SH_OR_PRN']"
   ]
  },
  {
   "cell_type": "code",
   "execution_count": 72,
   "metadata": {},
   "outputs": [
    {
     "data": {
      "text/plain": [
       "0    2123\n",
       "Name: SHARED_VOTING_AUTH, dtype: int64"
      ]
     },
     "execution_count": 72,
     "metadata": {},
     "output_type": "execute_result"
    }
   ],
   "source": [
    "df.SHARED_VOTING_AUTH.value_counts()"
   ]
  },
  {
   "cell_type": "code",
   "execution_count": 73,
   "metadata": {},
   "outputs": [],
   "source": [
    "del df['SHARED_VOTING_AUTH']"
   ]
  },
  {
   "cell_type": "code",
   "execution_count": 74,
   "metadata": {},
   "outputs": [
    {
     "data": {
      "text/plain": [
       "0    2123\n",
       "Name: OTHER_MANAGER, dtype: int64"
      ]
     },
     "execution_count": 74,
     "metadata": {},
     "output_type": "execute_result"
    }
   ],
   "source": [
    "df.OTHER_MANAGER.value_counts()"
   ]
  },
  {
   "cell_type": "code",
   "execution_count": 75,
   "metadata": {},
   "outputs": [],
   "source": [
    "del df['OTHER_MANAGER']"
   ]
  },
  {
   "cell_type": "code",
   "execution_count": 76,
   "metadata": {},
   "outputs": [
    {
     "data": {
      "text/html": [
       "<div>\n",
       "<style scoped>\n",
       "    .dataframe tbody tr th:only-of-type {\n",
       "        vertical-align: middle;\n",
       "    }\n",
       "\n",
       "    .dataframe tbody tr th {\n",
       "        vertical-align: top;\n",
       "    }\n",
       "\n",
       "    .dataframe thead th {\n",
       "        text-align: right;\n",
       "    }\n",
       "</style>\n",
       "<table border=\"1\" class=\"dataframe\">\n",
       "  <thead>\n",
       "    <tr style=\"text-align: right;\">\n",
       "      <th></th>\n",
       "      <th>NAME_OF_ISSUER</th>\n",
       "      <th>TITLE_OF_CLASS</th>\n",
       "      <th>CUSIP</th>\n",
       "      <th>VALUE</th>\n",
       "      <th>SHRS_OR_PRN_AMT</th>\n",
       "      <th>PUT_OR_CALL</th>\n",
       "      <th>DISCRETION</th>\n",
       "      <th>SOLE_VOTING_AUTH</th>\n",
       "      <th>NO_VOTING_AUTH</th>\n",
       "    </tr>\n",
       "  </thead>\n",
       "  <tbody>\n",
       "    <tr>\n",
       "      <th>467</th>\n",
       "      <td>BRISTOL MYERS SQUIBB CO</td>\n",
       "      <td>COM</td>\n",
       "      <td>110122108</td>\n",
       "      <td>1661147</td>\n",
       "      <td>32757770</td>\n",
       "      <td></td>\n",
       "      <td>SOLE</td>\n",
       "      <td>28224283</td>\n",
       "      <td>4533487</td>\n",
       "    </tr>\n",
       "    <tr>\n",
       "      <th>675</th>\n",
       "      <td>CHIPOTLE MEXICAN GRILL INC</td>\n",
       "      <td>COM</td>\n",
       "      <td>169656105</td>\n",
       "      <td>1609031</td>\n",
       "      <td>1914442</td>\n",
       "      <td></td>\n",
       "      <td>SOLE</td>\n",
       "      <td>1756732</td>\n",
       "      <td>157710</td>\n",
       "    </tr>\n",
       "    <tr>\n",
       "      <th>3224</th>\n",
       "      <td>VERISIGN INC</td>\n",
       "      <td>COM</td>\n",
       "      <td>92343E102</td>\n",
       "      <td>1562342</td>\n",
       "      <td>8282576</td>\n",
       "      <td></td>\n",
       "      <td>SOLE</td>\n",
       "      <td>7983085</td>\n",
       "      <td>299491</td>\n",
       "    </tr>\n",
       "    <tr>\n",
       "      <th>588</th>\n",
       "      <td>CELGENE CORP</td>\n",
       "      <td>COM</td>\n",
       "      <td>151020104</td>\n",
       "      <td>1543789</td>\n",
       "      <td>15546716</td>\n",
       "      <td></td>\n",
       "      <td>SOLE</td>\n",
       "      <td>15513678</td>\n",
       "      <td>33038</td>\n",
       "    </tr>\n",
       "    <tr>\n",
       "      <th>2318</th>\n",
       "      <td>PALO ALTO NETWORKS INC</td>\n",
       "      <td>COM</td>\n",
       "      <td>697435105</td>\n",
       "      <td>1192028</td>\n",
       "      <td>5848150</td>\n",
       "      <td></td>\n",
       "      <td>SOLE</td>\n",
       "      <td>5622490</td>\n",
       "      <td>225660</td>\n",
       "    </tr>\n",
       "    <tr>\n",
       "      <th>...</th>\n",
       "      <td>...</td>\n",
       "      <td>...</td>\n",
       "      <td>...</td>\n",
       "      <td>...</td>\n",
       "      <td>...</td>\n",
       "      <td>...</td>\n",
       "      <td>...</td>\n",
       "      <td>...</td>\n",
       "      <td>...</td>\n",
       "    </tr>\n",
       "    <tr>\n",
       "      <th>2133</th>\n",
       "      <td>NAUTILUS INC</td>\n",
       "      <td>COM</td>\n",
       "      <td>63910B102</td>\n",
       "      <td>14</td>\n",
       "      <td>10400</td>\n",
       "      <td></td>\n",
       "      <td>SOLE</td>\n",
       "      <td>10400</td>\n",
       "      <td>0</td>\n",
       "    </tr>\n",
       "    <tr>\n",
       "      <th>333</th>\n",
       "      <td>AZURRX BIOPHARMA INC</td>\n",
       "      <td>COM</td>\n",
       "      <td>05502L105</td>\n",
       "      <td>14</td>\n",
       "      <td>22800</td>\n",
       "      <td></td>\n",
       "      <td>SOLE</td>\n",
       "      <td>0</td>\n",
       "      <td>22800</td>\n",
       "    </tr>\n",
       "    <tr>\n",
       "      <th>2390</th>\n",
       "      <td>PHIO PHARMACEUTICALS CORP</td>\n",
       "      <td>COM</td>\n",
       "      <td>71880W204</td>\n",
       "      <td>13</td>\n",
       "      <td>48677</td>\n",
       "      <td></td>\n",
       "      <td>SOLE</td>\n",
       "      <td>48677</td>\n",
       "      <td>0</td>\n",
       "    </tr>\n",
       "    <tr>\n",
       "      <th>3387</th>\n",
       "      <td>ZOMEDICA PHARMACEUTICALS COR</td>\n",
       "      <td>COM</td>\n",
       "      <td>98979F107</td>\n",
       "      <td>13</td>\n",
       "      <td>36220</td>\n",
       "      <td></td>\n",
       "      <td>SOLE</td>\n",
       "      <td>13281</td>\n",
       "      <td>22939</td>\n",
       "    </tr>\n",
       "    <tr>\n",
       "      <th>1335</th>\n",
       "      <td>GLOBAL EAGLE ENTMT INC</td>\n",
       "      <td>COM</td>\n",
       "      <td>37951D102</td>\n",
       "      <td>11</td>\n",
       "      <td>15371</td>\n",
       "      <td></td>\n",
       "      <td>SOLE</td>\n",
       "      <td>15371</td>\n",
       "      <td>0</td>\n",
       "    </tr>\n",
       "  </tbody>\n",
       "</table>\n",
       "<p>2123 rows × 9 columns</p>\n",
       "</div>"
      ],
      "text/plain": [
       "                    NAME_OF_ISSUER TITLE_OF_CLASS      CUSIP    VALUE  \\\n",
       "467        BRISTOL MYERS SQUIBB CO            COM  110122108  1661147   \n",
       "675     CHIPOTLE MEXICAN GRILL INC            COM  169656105  1609031   \n",
       "3224                  VERISIGN INC            COM  92343E102  1562342   \n",
       "588                   CELGENE CORP            COM  151020104  1543789   \n",
       "2318        PALO ALTO NETWORKS INC            COM  697435105  1192028   \n",
       "...                            ...            ...        ...      ...   \n",
       "2133                  NAUTILUS INC            COM  63910B102       14   \n",
       "333           AZURRX BIOPHARMA INC            COM  05502L105       14   \n",
       "2390     PHIO PHARMACEUTICALS CORP            COM  71880W204       13   \n",
       "3387  ZOMEDICA PHARMACEUTICALS COR            COM  98979F107       13   \n",
       "1335        GLOBAL EAGLE ENTMT INC            COM  37951D102       11   \n",
       "\n",
       "      SHRS_OR_PRN_AMT PUT_OR_CALL DISCRETION  SOLE_VOTING_AUTH  NO_VOTING_AUTH  \n",
       "467          32757770                   SOLE          28224283         4533487  \n",
       "675           1914442                   SOLE           1756732          157710  \n",
       "3224          8282576                   SOLE           7983085          299491  \n",
       "588          15546716                   SOLE          15513678           33038  \n",
       "2318          5848150                   SOLE           5622490          225660  \n",
       "...               ...         ...        ...               ...             ...  \n",
       "2133            10400                   SOLE             10400               0  \n",
       "333             22800                   SOLE                 0           22800  \n",
       "2390            48677                   SOLE             48677               0  \n",
       "3387            36220                   SOLE             13281           22939  \n",
       "1335            15371                   SOLE             15371               0  \n",
       "\n",
       "[2123 rows x 9 columns]"
      ]
     },
     "execution_count": 76,
     "metadata": {},
     "output_type": "execute_result"
    }
   ],
   "source": [
    "df.sort_values(by='VALUE', ascending=False)"
   ]
  },
  {
   "cell_type": "code",
   "execution_count": 77,
   "metadata": {},
   "outputs": [
    {
     "data": {
      "text/plain": [
       "COM    2123\n",
       "Name: TITLE_OF_CLASS, dtype: int64"
      ]
     },
     "execution_count": 77,
     "metadata": {},
     "output_type": "execute_result"
    }
   ],
   "source": [
    "df.TITLE_OF_CLASS.value_counts()"
   ]
  },
  {
   "cell_type": "code",
   "execution_count": 78,
   "metadata": {},
   "outputs": [],
   "source": [
    "del df['TITLE_OF_CLASS']"
   ]
  },
  {
   "cell_type": "code",
   "execution_count": 79,
   "metadata": {},
   "outputs": [
    {
     "data": {
      "text/plain": [
       "     2123\n",
       "Name: PUT_OR_CALL, dtype: int64"
      ]
     },
     "execution_count": 79,
     "metadata": {},
     "output_type": "execute_result"
    }
   ],
   "source": [
    "df.PUT_OR_CALL.value_counts()"
   ]
  },
  {
   "cell_type": "code",
   "execution_count": 80,
   "metadata": {},
   "outputs": [],
   "source": [
    "del df['PUT_OR_CALL']"
   ]
  },
  {
   "cell_type": "code",
   "execution_count": 81,
   "metadata": {},
   "outputs": [
    {
     "data": {
      "text/plain": [
       "SOLE    2123\n",
       "Name: DISCRETION, dtype: int64"
      ]
     },
     "execution_count": 81,
     "metadata": {},
     "output_type": "execute_result"
    }
   ],
   "source": [
    "df.DISCRETION.value_counts()"
   ]
  },
  {
   "cell_type": "code",
   "execution_count": 82,
   "metadata": {},
   "outputs": [],
   "source": [
    "del df['DISCRETION']"
   ]
  },
  {
   "cell_type": "code",
   "execution_count": 83,
   "metadata": {},
   "outputs": [
    {
     "data": {
      "text/html": [
       "<div>\n",
       "<style scoped>\n",
       "    .dataframe tbody tr th:only-of-type {\n",
       "        vertical-align: middle;\n",
       "    }\n",
       "\n",
       "    .dataframe tbody tr th {\n",
       "        vertical-align: top;\n",
       "    }\n",
       "\n",
       "    .dataframe thead th {\n",
       "        text-align: right;\n",
       "    }\n",
       "</style>\n",
       "<table border=\"1\" class=\"dataframe\">\n",
       "  <thead>\n",
       "    <tr style=\"text-align: right;\">\n",
       "      <th></th>\n",
       "      <th>NAME_OF_ISSUER</th>\n",
       "      <th>CUSIP</th>\n",
       "      <th>VALUE</th>\n",
       "      <th>SHRS_OR_PRN_AMT</th>\n",
       "      <th>SOLE_VOTING_AUTH</th>\n",
       "      <th>NO_VOTING_AUTH</th>\n",
       "    </tr>\n",
       "  </thead>\n",
       "  <tbody>\n",
       "    <tr>\n",
       "      <th>467</th>\n",
       "      <td>BRISTOL MYERS SQUIBB CO</td>\n",
       "      <td>110122108</td>\n",
       "      <td>1661147</td>\n",
       "      <td>32757770</td>\n",
       "      <td>28224283</td>\n",
       "      <td>4533487</td>\n",
       "    </tr>\n",
       "    <tr>\n",
       "      <th>675</th>\n",
       "      <td>CHIPOTLE MEXICAN GRILL INC</td>\n",
       "      <td>169656105</td>\n",
       "      <td>1609031</td>\n",
       "      <td>1914442</td>\n",
       "      <td>1756732</td>\n",
       "      <td>157710</td>\n",
       "    </tr>\n",
       "    <tr>\n",
       "      <th>3224</th>\n",
       "      <td>VERISIGN INC</td>\n",
       "      <td>92343E102</td>\n",
       "      <td>1562342</td>\n",
       "      <td>8282576</td>\n",
       "      <td>7983085</td>\n",
       "      <td>299491</td>\n",
       "    </tr>\n",
       "    <tr>\n",
       "      <th>588</th>\n",
       "      <td>CELGENE CORP</td>\n",
       "      <td>151020104</td>\n",
       "      <td>1543789</td>\n",
       "      <td>15546716</td>\n",
       "      <td>15513678</td>\n",
       "      <td>33038</td>\n",
       "    </tr>\n",
       "    <tr>\n",
       "      <th>2318</th>\n",
       "      <td>PALO ALTO NETWORKS INC</td>\n",
       "      <td>697435105</td>\n",
       "      <td>1192028</td>\n",
       "      <td>5848150</td>\n",
       "      <td>5622490</td>\n",
       "      <td>225660</td>\n",
       "    </tr>\n",
       "    <tr>\n",
       "      <th>...</th>\n",
       "      <td>...</td>\n",
       "      <td>...</td>\n",
       "      <td>...</td>\n",
       "      <td>...</td>\n",
       "      <td>...</td>\n",
       "      <td>...</td>\n",
       "    </tr>\n",
       "    <tr>\n",
       "      <th>2133</th>\n",
       "      <td>NAUTILUS INC</td>\n",
       "      <td>63910B102</td>\n",
       "      <td>14</td>\n",
       "      <td>10400</td>\n",
       "      <td>10400</td>\n",
       "      <td>0</td>\n",
       "    </tr>\n",
       "    <tr>\n",
       "      <th>333</th>\n",
       "      <td>AZURRX BIOPHARMA INC</td>\n",
       "      <td>05502L105</td>\n",
       "      <td>14</td>\n",
       "      <td>22800</td>\n",
       "      <td>0</td>\n",
       "      <td>22800</td>\n",
       "    </tr>\n",
       "    <tr>\n",
       "      <th>2390</th>\n",
       "      <td>PHIO PHARMACEUTICALS CORP</td>\n",
       "      <td>71880W204</td>\n",
       "      <td>13</td>\n",
       "      <td>48677</td>\n",
       "      <td>48677</td>\n",
       "      <td>0</td>\n",
       "    </tr>\n",
       "    <tr>\n",
       "      <th>3387</th>\n",
       "      <td>ZOMEDICA PHARMACEUTICALS COR</td>\n",
       "      <td>98979F107</td>\n",
       "      <td>13</td>\n",
       "      <td>36220</td>\n",
       "      <td>13281</td>\n",
       "      <td>22939</td>\n",
       "    </tr>\n",
       "    <tr>\n",
       "      <th>1335</th>\n",
       "      <td>GLOBAL EAGLE ENTMT INC</td>\n",
       "      <td>37951D102</td>\n",
       "      <td>11</td>\n",
       "      <td>15371</td>\n",
       "      <td>15371</td>\n",
       "      <td>0</td>\n",
       "    </tr>\n",
       "  </tbody>\n",
       "</table>\n",
       "<p>2123 rows × 6 columns</p>\n",
       "</div>"
      ],
      "text/plain": [
       "                    NAME_OF_ISSUER      CUSIP    VALUE  SHRS_OR_PRN_AMT  \\\n",
       "467        BRISTOL MYERS SQUIBB CO  110122108  1661147         32757770   \n",
       "675     CHIPOTLE MEXICAN GRILL INC  169656105  1609031          1914442   \n",
       "3224                  VERISIGN INC  92343E102  1562342          8282576   \n",
       "588                   CELGENE CORP  151020104  1543789         15546716   \n",
       "2318        PALO ALTO NETWORKS INC  697435105  1192028          5848150   \n",
       "...                            ...        ...      ...              ...   \n",
       "2133                  NAUTILUS INC  63910B102       14            10400   \n",
       "333           AZURRX BIOPHARMA INC  05502L105       14            22800   \n",
       "2390     PHIO PHARMACEUTICALS CORP  71880W204       13            48677   \n",
       "3387  ZOMEDICA PHARMACEUTICALS COR  98979F107       13            36220   \n",
       "1335        GLOBAL EAGLE ENTMT INC  37951D102       11            15371   \n",
       "\n",
       "      SOLE_VOTING_AUTH  NO_VOTING_AUTH  \n",
       "467           28224283         4533487  \n",
       "675            1756732          157710  \n",
       "3224           7983085          299491  \n",
       "588           15513678           33038  \n",
       "2318           5622490          225660  \n",
       "...                ...             ...  \n",
       "2133             10400               0  \n",
       "333                  0           22800  \n",
       "2390             48677               0  \n",
       "3387             13281           22939  \n",
       "1335             15371               0  \n",
       "\n",
       "[2123 rows x 6 columns]"
      ]
     },
     "execution_count": 83,
     "metadata": {},
     "output_type": "execute_result"
    }
   ],
   "source": [
    "df.sort_values(by='VALUE', ascending=False)"
   ]
  },
  {
   "cell_type": "code",
   "execution_count": 84,
   "metadata": {},
   "outputs": [
    {
     "name": "stdout",
     "output_type": "stream",
     "text": [
      "<class 'pandas.core.frame.DataFrame'>\n",
      "Int64Index: 2123 entries, 0 to 3392\n",
      "Data columns (total 6 columns):\n",
      "NAME_OF_ISSUER      2123 non-null object\n",
      "CUSIP               2123 non-null object\n",
      "VALUE               2123 non-null int64\n",
      "SHRS_OR_PRN_AMT     2123 non-null int64\n",
      "SOLE_VOTING_AUTH    2123 non-null int64\n",
      "NO_VOTING_AUTH      2123 non-null int64\n",
      "dtypes: int64(4), object(2)\n",
      "memory usage: 116.1+ KB\n"
     ]
    }
   ],
   "source": [
    "df.info()"
   ]
  },
  {
   "cell_type": "code",
   "execution_count": 85,
   "metadata": {},
   "outputs": [
    {
     "data": {
      "text/html": [
       "<div>\n",
       "<style scoped>\n",
       "    .dataframe tbody tr th:only-of-type {\n",
       "        vertical-align: middle;\n",
       "    }\n",
       "\n",
       "    .dataframe tbody tr th {\n",
       "        vertical-align: top;\n",
       "    }\n",
       "\n",
       "    .dataframe thead th {\n",
       "        text-align: right;\n",
       "    }\n",
       "</style>\n",
       "<table border=\"1\" class=\"dataframe\">\n",
       "  <thead>\n",
       "    <tr style=\"text-align: right;\">\n",
       "      <th></th>\n",
       "      <th>index</th>\n",
       "      <th>NAME_OF_ISSUER</th>\n",
       "      <th>CUSIP</th>\n",
       "      <th>VALUE</th>\n",
       "      <th>SHRS_OR_PRN_AMT</th>\n",
       "      <th>SOLE_VOTING_AUTH</th>\n",
       "      <th>NO_VOTING_AUTH</th>\n",
       "    </tr>\n",
       "  </thead>\n",
       "  <tbody>\n",
       "    <tr>\n",
       "      <th>0</th>\n",
       "      <td>0</td>\n",
       "      <td>1347 PPTY INS HLDGS INC</td>\n",
       "      <td>68244P107</td>\n",
       "      <td>443</td>\n",
       "      <td>100562</td>\n",
       "      <td>91267</td>\n",
       "      <td>9295</td>\n",
       "    </tr>\n",
       "    <tr>\n",
       "      <th>1</th>\n",
       "      <td>1</td>\n",
       "      <td>1ST CONSTITUTION BANCORP</td>\n",
       "      <td>31986N102</td>\n",
       "      <td>2359</td>\n",
       "      <td>125800</td>\n",
       "      <td>119245</td>\n",
       "      <td>6555</td>\n",
       "    </tr>\n",
       "    <tr>\n",
       "      <th>2</th>\n",
       "      <td>2</td>\n",
       "      <td>1ST SOURCE CORP</td>\n",
       "      <td>336901103</td>\n",
       "      <td>15320</td>\n",
       "      <td>335014</td>\n",
       "      <td>319352</td>\n",
       "      <td>15662</td>\n",
       "    </tr>\n",
       "    <tr>\n",
       "      <th>3</th>\n",
       "      <td>5</td>\n",
       "      <td>3M CO</td>\n",
       "      <td>88579Y101</td>\n",
       "      <td>17640</td>\n",
       "      <td>107300</td>\n",
       "      <td>61987</td>\n",
       "      <td>45313</td>\n",
       "    </tr>\n",
       "    <tr>\n",
       "      <th>4</th>\n",
       "      <td>7</td>\n",
       "      <td>A10 NETWORKS INC</td>\n",
       "      <td>002121101</td>\n",
       "      <td>15770</td>\n",
       "      <td>2272400</td>\n",
       "      <td>2226300</td>\n",
       "      <td>46100</td>\n",
       "    </tr>\n",
       "    <tr>\n",
       "      <th>...</th>\n",
       "      <td>...</td>\n",
       "      <td>...</td>\n",
       "      <td>...</td>\n",
       "      <td>...</td>\n",
       "      <td>...</td>\n",
       "      <td>...</td>\n",
       "      <td>...</td>\n",
       "    </tr>\n",
       "    <tr>\n",
       "      <th>2118</th>\n",
       "      <td>3384</td>\n",
       "      <td>ZIX CORP</td>\n",
       "      <td>98974P100</td>\n",
       "      <td>25732</td>\n",
       "      <td>3554095</td>\n",
       "      <td>3554095</td>\n",
       "      <td>0</td>\n",
       "    </tr>\n",
       "    <tr>\n",
       "      <th>2119</th>\n",
       "      <td>3387</td>\n",
       "      <td>ZOMEDICA PHARMACEUTICALS COR</td>\n",
       "      <td>98979F107</td>\n",
       "      <td>13</td>\n",
       "      <td>36220</td>\n",
       "      <td>13281</td>\n",
       "      <td>22939</td>\n",
       "    </tr>\n",
       "    <tr>\n",
       "      <th>2120</th>\n",
       "      <td>3388</td>\n",
       "      <td>ZOVIO INC</td>\n",
       "      <td>98979V102</td>\n",
       "      <td>3442</td>\n",
       "      <td>1747100</td>\n",
       "      <td>1747100</td>\n",
       "      <td>0</td>\n",
       "    </tr>\n",
       "    <tr>\n",
       "      <th>2121</th>\n",
       "      <td>3390</td>\n",
       "      <td>ZUMIEZ INC</td>\n",
       "      <td>989817101</td>\n",
       "      <td>1137</td>\n",
       "      <td>35900</td>\n",
       "      <td>100</td>\n",
       "      <td>35800</td>\n",
       "    </tr>\n",
       "    <tr>\n",
       "      <th>2122</th>\n",
       "      <td>3392</td>\n",
       "      <td>ZYMEWORKS INC</td>\n",
       "      <td>98985W102</td>\n",
       "      <td>9313</td>\n",
       "      <td>375507</td>\n",
       "      <td>375507</td>\n",
       "      <td>0</td>\n",
       "    </tr>\n",
       "  </tbody>\n",
       "</table>\n",
       "<p>2123 rows × 7 columns</p>\n",
       "</div>"
      ],
      "text/plain": [
       "      index                NAME_OF_ISSUER      CUSIP  VALUE  SHRS_OR_PRN_AMT  \\\n",
       "0         0       1347 PPTY INS HLDGS INC  68244P107    443           100562   \n",
       "1         1      1ST CONSTITUTION BANCORP  31986N102   2359           125800   \n",
       "2         2               1ST SOURCE CORP  336901103  15320           335014   \n",
       "3         5                         3M CO  88579Y101  17640           107300   \n",
       "4         7              A10 NETWORKS INC  002121101  15770          2272400   \n",
       "...     ...                           ...        ...    ...              ...   \n",
       "2118   3384                      ZIX CORP  98974P100  25732          3554095   \n",
       "2119   3387  ZOMEDICA PHARMACEUTICALS COR  98979F107     13            36220   \n",
       "2120   3388                     ZOVIO INC  98979V102   3442          1747100   \n",
       "2121   3390                    ZUMIEZ INC  989817101   1137            35900   \n",
       "2122   3392                 ZYMEWORKS INC  98985W102   9313           375507   \n",
       "\n",
       "      SOLE_VOTING_AUTH  NO_VOTING_AUTH  \n",
       "0                91267            9295  \n",
       "1               119245            6555  \n",
       "2               319352           15662  \n",
       "3                61987           45313  \n",
       "4              2226300           46100  \n",
       "...                ...             ...  \n",
       "2118           3554095               0  \n",
       "2119             13281           22939  \n",
       "2120           1747100               0  \n",
       "2121               100           35800  \n",
       "2122            375507               0  \n",
       "\n",
       "[2123 rows x 7 columns]"
      ]
     },
     "execution_count": 85,
     "metadata": {},
     "output_type": "execute_result"
    }
   ],
   "source": [
    "df = df.reset_index()\n",
    "df"
   ]
  },
  {
   "cell_type": "code",
   "execution_count": 86,
   "metadata": {},
   "outputs": [],
   "source": [
    "df['TICKER'] = \"\""
   ]
  },
  {
   "cell_type": "code",
   "execution_count": 87,
   "metadata": {},
   "outputs": [],
   "source": [
    "pd.set_option(\"display.max_rows\", 200)"
   ]
  },
  {
   "cell_type": "code",
   "execution_count": 88,
   "metadata": {},
   "outputs": [],
   "source": [
    "df.sample?"
   ]
  },
  {
   "cell_type": "code",
   "execution_count": 89,
   "metadata": {},
   "outputs": [
    {
     "name": "stdout",
     "output_type": "stream",
     "text": [
      "[818, 1912, 1503, 808, 1493, 585, 1705, 1775, 1229, 1169, 1273, 744, 1571, 1053, 952, 67, 1921, 1041, 1237, 1437, 289, 564, 1200, 2053, 1319, 1773, 571, 561, 321, 1910, 342, 433, 710, 888, 1847, 809, 1075, 1298, 873, 765, 1431, 111, 1428, 70, 1448, 1433, 1728, 886, 1904, 240, 1903, 892, 1247, 1449, 1975, 905, 1611, 1249, 382, 128, 2031, 422, 184, 620, 29, 298, 1540, 2058, 756, 471, 1852, 1424, 1318, 1888, 584, 1307, 51, 1549, 1882, 788, 1749, 1851, 889, 1427, 900, 410, 869, 1057, 324, 1990, 2015, 307, 1610, 281, 588, 109, 705, 1688, 1456, 581]\n"
     ]
    }
   ],
   "source": [
    "print(df.sample(100, random_state=42).index.to_list())"
   ]
  },
  {
   "cell_type": "code",
   "execution_count": 90,
   "metadata": {},
   "outputs": [],
   "source": [
    "cusip_list = df.sample(100, random_state=42).index.to_list()"
   ]
  },
  {
   "cell_type": "code",
   "execution_count": 91,
   "metadata": {},
   "outputs": [
    {
     "data": {
      "text/plain": [
       "818     359523107\n",
       "1912    893662106\n",
       "1503    715347100\n",
       "808     357023100\n",
       "1493    710577107\n",
       "585     249906108\n",
       "1705    81577F109\n",
       "1775    84763A108\n",
       "1229    55262C100\n",
       "1169    535219109\n",
       "1273    60040X103\n",
       "744     33767D105\n",
       "1571    74640Y106\n",
       "1053    46187W107\n",
       "952     43300A203\n",
       "67      013872106\n",
       "1921    896945201\n",
       "1041    460690100\n",
       "1237    58506Q109\n",
       "1437    68633D103\n",
       "289     05591B109\n",
       "564     12662P108\n",
       "1200    55608B105\n",
       "2053    946760105\n",
       "1319    635017106\n",
       "1773    847215100\n",
       "571     237194105\n",
       "561     232109108\n",
       "321     12008R107\n",
       "1910    893529107\n",
       "342     134429109\n",
       "433     G21082105\n",
       "710     302081104\n",
       "888     393222104\n",
       "1847    871851101\n",
       "809     358010106\n",
       "1075    47580P103\n",
       "1298    55345K103\n",
       "873     384109104\n",
       "765     335834107\n",
       "1431    68571X103\n",
       "111     030506109\n",
       "1428    68404L102\n",
       "70      015351109\n",
       "1448    690732102\n",
       "1433    68621T102\n",
       "1728    825704109\n",
       "886     391416104\n",
       "1904    89214A102\n",
       "240     06424J103\n",
       "1903    89214P109\n",
       "892     399473107\n",
       "1247    589433101\n",
       "1449    693718108\n",
       "1975    91388P105\n",
       "905     410120109\n",
       "1611    75902K106\n",
       "1249    589584101\n",
       "382     124830100\n",
       "128     03272L108\n",
       "2031    928298108\n",
       "422     166764100\n",
       "184     04621X108\n",
       "620     262037104\n",
       "29      00739L101\n",
       "298     101121101\n",
       "1540    74102M103\n",
       "2058    949090104\n",
       "756     32051X108\n",
       "471     192176105\n",
       "1852    87612E106\n",
       "1424    683715106\n",
       "1318    634865109\n",
       "1888    88677Q109\n",
       "584     24983L104\n",
       "1307    553810102\n",
       "51      00847L100\n",
       "1549    743315103\n",
       "1882    882681109\n",
       "788     346232101\n",
       "1749    78440X101\n",
       "1851    G8675X107\n",
       "889     398231100\n",
       "1427    68404V100\n",
       "900     40251W309\n",
       "410     159864107\n",
       "869     38141G104\n",
       "1057    46266C105\n",
       "324     12326C105\n",
       "1990    90337L108\n",
       "2015    92343V104\n",
       "307     10922N103\n",
       "1610    75886F107\n",
       "281     09228F103\n",
       "588     25179M103\n",
       "109     03027X100\n",
       "705     30049A107\n",
       "1688    808541106\n",
       "1456    697435105\n",
       "581     248019101\n",
       "Name: CUSIP, dtype: object"
      ]
     },
     "execution_count": 91,
     "metadata": {},
     "output_type": "execute_result"
    }
   ],
   "source": [
    "df.iloc[cusip_list]['CUSIP']"
   ]
  },
  {
   "cell_type": "code",
   "execution_count": 92,
   "metadata": {},
   "outputs": [
    {
     "data": {
      "text/plain": [
       "index                        1276\n",
       "NAME_OF_ISSUER      FUEL TECH INC\n",
       "CUSIP                   359523107\n",
       "VALUE                        1118\n",
       "SHRS_OR_PRN_AMT           1133251\n",
       "SOLE_VOTING_AUTH          1108926\n",
       "NO_VOTING_AUTH              24325\n",
       "TICKER                           \n",
       "Name: 818, dtype: object"
      ]
     },
     "execution_count": 92,
     "metadata": {},
     "output_type": "execute_result"
    }
   ],
   "source": [
    "df.iloc[818]"
   ]
  },
  {
   "cell_type": "code",
   "execution_count": 93,
   "metadata": {},
   "outputs": [],
   "source": [
    "df['TICKER'].iloc[818] = 'FTEK'"
   ]
  },
  {
   "cell_type": "code",
   "execution_count": 94,
   "metadata": {},
   "outputs": [
    {
     "data": {
      "text/plain": [
       "index                                 3048\n",
       "NAME_OF_ISSUER      TRANSGLOBE ENERGY CORP\n",
       "CUSIP                            893662106\n",
       "VALUE                                 4082\n",
       "SHRS_OR_PRN_AMT                    3069467\n",
       "SOLE_VOTING_AUTH                   2943831\n",
       "NO_VOTING_AUTH                      125636\n",
       "TICKER                                    \n",
       "Name: 1912, dtype: object"
      ]
     },
     "execution_count": 94,
     "metadata": {},
     "output_type": "execute_result"
    }
   ],
   "source": [
    "df.iloc[1912]"
   ]
  },
  {
   "cell_type": "code",
   "execution_count": 98,
   "metadata": {},
   "outputs": [],
   "source": [
    "df['TICKER'].iloc[1912] = 'TGA'"
   ]
  },
  {
   "cell_type": "code",
   "execution_count": 99,
   "metadata": {},
   "outputs": [
    {
     "data": {
      "text/plain": [
       "index                        2376\n",
       "NAME_OF_ISSUER      PERSPECTA INC\n",
       "CUSIP                   715347100\n",
       "VALUE                       23072\n",
       "SHRS_OR_PRN_AMT            883300\n",
       "SOLE_VOTING_AUTH           499658\n",
       "NO_VOTING_AUTH             383642\n",
       "TICKER                           \n",
       "Name: 1503, dtype: object"
      ]
     },
     "execution_count": 99,
     "metadata": {},
     "output_type": "execute_result"
    }
   ],
   "source": [
    "df.iloc[1503]"
   ]
  },
  {
   "cell_type": "code",
   "execution_count": null,
   "metadata": {},
   "outputs": [],
   "source": [
    "df['TICKER'].iloc[1503] = 'PRSP'"
   ]
  },
  {
   "cell_type": "code",
   "execution_count": null,
   "metadata": {},
   "outputs": [],
   "source": []
  },
  {
   "cell_type": "code",
   "execution_count": null,
   "metadata": {},
   "outputs": [],
   "source": []
  },
  {
   "cell_type": "code",
   "execution_count": null,
   "metadata": {},
   "outputs": [],
   "source": []
  },
  {
   "cell_type": "code",
   "execution_count": null,
   "metadata": {},
   "outputs": [],
   "source": []
  },
  {
   "cell_type": "code",
   "execution_count": null,
   "metadata": {},
   "outputs": [],
   "source": []
  },
  {
   "cell_type": "code",
   "execution_count": null,
   "metadata": {},
   "outputs": [],
   "source": []
  },
  {
   "cell_type": "code",
   "execution_count": null,
   "metadata": {},
   "outputs": [],
   "source": []
  },
  {
   "cell_type": "code",
   "execution_count": null,
   "metadata": {},
   "outputs": [],
   "source": []
  },
  {
   "cell_type": "code",
   "execution_count": null,
   "metadata": {},
   "outputs": [],
   "source": []
  },
  {
   "cell_type": "code",
   "execution_count": null,
   "metadata": {},
   "outputs": [],
   "source": []
  },
  {
   "cell_type": "code",
   "execution_count": null,
   "metadata": {},
   "outputs": [],
   "source": []
  },
  {
   "cell_type": "code",
   "execution_count": null,
   "metadata": {},
   "outputs": [],
   "source": []
  },
  {
   "cell_type": "code",
   "execution_count": null,
   "metadata": {},
   "outputs": [],
   "source": []
  },
  {
   "cell_type": "code",
   "execution_count": null,
   "metadata": {},
   "outputs": [],
   "source": []
  },
  {
   "cell_type": "code",
   "execution_count": null,
   "metadata": {},
   "outputs": [],
   "source": []
  },
  {
   "cell_type": "code",
   "execution_count": null,
   "metadata": {},
   "outputs": [],
   "source": []
  },
  {
   "cell_type": "code",
   "execution_count": null,
   "metadata": {},
   "outputs": [],
   "source": []
  },
  {
   "cell_type": "code",
   "execution_count": null,
   "metadata": {},
   "outputs": [],
   "source": []
  },
  {
   "cell_type": "code",
   "execution_count": null,
   "metadata": {},
   "outputs": [],
   "source": []
  },
  {
   "cell_type": "code",
   "execution_count": 96,
   "metadata": {},
   "outputs": [],
   "source": [
    "df.to_csv('F13_Renaissance_tech.csv')"
   ]
  },
  {
   "cell_type": "code",
   "execution_count": 97,
   "metadata": {},
   "outputs": [
    {
     "data": {
      "text/plain": [
       "<matplotlib.axes._subplots.AxesSubplot at 0x7fb151070910>"
      ]
     },
     "execution_count": 97,
     "metadata": {},
     "output_type": "execute_result"
    },
    {
     "data": {
      "image/png": "[encoded data removed]",
      "text/plain": [
       "<Figure size 432x288 with 1 Axes>"
      ]
     },
     "metadata": {
      "needs_background": "light"
     },
     "output_type": "display_data"
    }
   ],
   "source": [
    "asset = yf.Ticker(\"BMY\")\n",
    "hist = asset.history(period=\"24mo\")\n",
    "hist.Close.plot()"
   ]
  },
  {
   "cell_type": "markdown",
   "metadata": {},
   "source": [
    "## Further Reading / References\n",
    "\n",
    "* https://en.wikipedia.org/wiki/Markov_model\n",
    "\n",
    "* https://en.wikipedia.org/wiki/Hidden_Markov_model\n",
    "\n",
    "### Time Series Related References\n",
    "\n",
    "* Cross-Validation for Time-Series: https://robjhyndman.com/hyndsight/tscv/\n",
    "\n",
    "* https://scikit-learn.org/stable/modules/generated/sklearn.model_selection.TimeSeriesSplit.html\n",
    "\n",
    "* http://www.zhengwenjie.net/tscv/\n",
    "\n",
    "* https://alan-turing-institute.github.io/sktime/\n",
    "\n",
    "### Implementations\n",
    "\n",
    "* SeqLearn: http://larsmans.github.io/seqlearn/index.html\n",
    "\n",
    "* HMMLearn: https://hmmlearn.readthedocs.io/en/latest/tutorial.html\n"
   ]
  }
 ],
 "metadata": {
  "kernelspec": {
   "display_name": "Python 3",
   "language": "python",
   "name": "python3"
  },
  "language_info": {
   "codemirror_mode": {
    "name": "ipython",
    "version": 3
   },
   "file_extension": ".py",
   "mimetype": "text/x-python",
   "name": "python",
   "nbconvert_exporter": "python",
   "pygments_lexer": "ipython3",
   "version": "3.7.5"
  }
 },
 "nbformat": 4,
 "nbformat_minor": 2
}
